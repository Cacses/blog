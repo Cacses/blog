{
 "cells": [
  {
   "cell_type": "markdown",
   "metadata": {},
   "source": [
    "[![Open In Colab](https://colab.research.google.com/assets/colab-badge.svg)](https://colab.research.google.com/github/sensioai/blog/blob/master/005_python_clases/clases.ipynb)"
   ]
  },
  {
   "cell_type": "markdown",
   "metadata": {},
   "source": [
    "# Clases"
   ]
  },
  {
   "cell_type": "markdown",
   "metadata": {},
   "source": [
    "En el post anterior hablamos sobre `funciones`, una manera que tenemos para organizar nuestro código permitiendo su reutilización y robustez. Una `función` admite una serie de argumentos que utilizará para llevar a cabo una tarea determinada y, opcionalmente, devolver un resultado. En muchas ocasiones, esta aproximación es suficiente. Sin embargo, en otras ocasiones, necesitaremos un extra de funcionalidad que conseguiremos usando una `clase`. Como ya vimos anteriormente, en `Python` todo son `objetos`. La mayoría de estos objetos tienen `métodos` y `atributos`. Los `métodos` son `funciones` asociadas a un objeto en particular que nos van a permitir interactuar con sus `atributos`, otros objetos asicioados al objeto principal. Al definir una `clase` seremos capaces de crear nuestros propios `objetos`, con sus `métodos` y `atributos`. Además, gracias a la `herencia` seremos capaces de definir nuevos `objetos` a partir de otros aprovechando sus `mètodos` y `atributos` y añadiendo aquello que sea necesario en cada momento. Así pues, el uso de `clases` extiende la idea de reutilización y robustez de código que vimos en las `funciones` añadiendo un extra de funcionalidad."
   ]
  },
  {
   "cell_type": "markdown",
   "metadata": {},
   "source": [
    "## Definición de Clases"
   ]
  },
  {
   "cell_type": "markdown",
   "metadata": {
    "ExecuteTime": {
     "end_time": "2020-06-07T11:22:00.653399Z",
     "start_time": "2020-06-07T11:22:00.650398Z"
    }
   },
   "source": [
    "Podemos crear una clase de la siguiente manera:"
   ]
  },
  {
   "cell_type": "code",
   "execution_count": 1,
   "metadata": {
    "ExecuteTime": {
     "end_time": "2020-06-07T12:47:06.972593Z",
     "start_time": "2020-06-07T12:47:06.957360Z"
    }
   },
   "outputs": [],
   "source": [
    "class MiClase:\n",
    "    a = \"hola\"\n",
    "    \n",
    "    def func(self):\n",
    "        print(self.a)"
   ]
  },
  {
   "cell_type": "markdown",
   "metadata": {},
   "source": [
    "De la misma manera que para definir una `función` usamos la palabra `def`, para definir una clase usamos la palabra `class` seguida por el nombre de la clase (en el ejemplo `MiClase` pero puedes usar el nombre que quieras). Dentro de la clase, usando indentación, definimos el `atributo` `a` y el `método` `func`. Para *instanciar* un objeto de nuestra clase simplemente creamos una nueva variable que llame la clase."
   ]
  },
  {
   "cell_type": "code",
   "execution_count": 2,
   "metadata": {
    "ExecuteTime": {
     "end_time": "2020-06-07T12:47:07.004608Z",
     "start_time": "2020-06-07T12:47:06.994612Z"
    }
   },
   "outputs": [],
   "source": [
    "x = MiClase()"
   ]
  },
  {
   "cell_type": "markdown",
   "metadata": {},
   "source": [
    "Ahora, `x` es un `objeto` del tipo `MiClase` y por lo tanto tiene acceso a todos sus `métodos` y `atributos`. Para acceder a ellos usamos la siguiente nomenclatura."
   ]
  },
  {
   "cell_type": "code",
   "execution_count": 3,
   "metadata": {
    "ExecuteTime": {
     "end_time": "2020-06-07T12:47:07.050776Z",
     "start_time": "2020-06-07T12:47:07.030034Z"
    }
   },
   "outputs": [
    {
     "data": {
      "text/plain": [
       "'hola'"
      ]
     },
     "execution_count": 3,
     "metadata": {},
     "output_type": "execute_result"
    }
   ],
   "source": [
    "x.a"
   ]
  },
  {
   "cell_type": "code",
   "execution_count": 4,
   "metadata": {
    "ExecuteTime": {
     "end_time": "2020-06-07T12:47:07.066488Z",
     "start_time": "2020-06-07T12:47:07.051785Z"
    }
   },
   "outputs": [
    {
     "name": "stdout",
     "output_type": "stream",
     "text": [
      "hola\n"
     ]
    }
   ],
   "source": [
    "x.func()"
   ]
  },
  {
   "cell_type": "markdown",
   "metadata": {},
   "source": [
    "> ⚠️ Fíjate que en la función `func` pasamos como primer argumento `self`, y para utilizar la variable `a` accedemos a ella como `self.a`. Esta es la manera que tenemos en `Python` para acceder a los diferentes `métodos` y `atributos` de un objeto desde cualquier `método`."
   ]
  },
  {
   "cell_type": "markdown",
   "metadata": {},
   "source": [
    "`Python` es un lenguaje muy flexible y nos permite añadir nuevos `métodos` o `atributos` (o modificar los ya existentes) a cualquier objeto."
   ]
  },
  {
   "cell_type": "code",
   "execution_count": 5,
   "metadata": {
    "ExecuteTime": {
     "end_time": "2020-06-07T12:47:07.111709Z",
     "start_time": "2020-06-07T12:47:07.102714Z"
    }
   },
   "outputs": [
    {
     "data": {
      "text/plain": [
       "'hello'"
      ]
     },
     "execution_count": 5,
     "metadata": {},
     "output_type": "execute_result"
    }
   ],
   "source": [
    "# modificamos un atributo\n",
    "\n",
    "x.a = \"hello\"\n",
    "x.a"
   ]
  },
  {
   "cell_type": "code",
   "execution_count": 6,
   "metadata": {
    "ExecuteTime": {
     "end_time": "2020-06-07T12:47:07.126497Z",
     "start_time": "2020-06-07T12:47:07.112726Z"
    }
   },
   "outputs": [
    {
     "data": {
      "text/plain": [
       "'hola'"
      ]
     },
     "execution_count": 6,
     "metadata": {},
     "output_type": "execute_result"
    }
   ],
   "source": [
    "# añadimos un nuevo atributo\n",
    "\n",
    "x.b = \"hola\"\n",
    "x.b"
   ]
  },
  {
   "cell_type": "markdown",
   "metadata": {},
   "source": [
    "Es importante remarcar que el añadir nuevos `métodos` o `atributos` a un objeto no los añadirá en la definición de la clase original."
   ]
  },
  {
   "cell_type": "code",
   "execution_count": 7,
   "metadata": {
    "ExecuteTime": {
     "end_time": "2020-06-07T12:47:07.189675Z",
     "start_time": "2020-06-07T12:47:07.141497Z"
    }
   },
   "outputs": [
    {
     "ename": "AttributeError",
     "evalue": "'MiClase' object has no attribute 'b'",
     "output_type": "error",
     "traceback": [
      "\u001b[1;31m---------------------------------------------------------------------------\u001b[0m",
      "\u001b[1;31mAttributeError\u001b[0m                            Traceback (most recent call last)",
      "\u001b[1;32m<ipython-input-7-f64f348aaab1>\u001b[0m in \u001b[0;36m<module>\u001b[1;34m\u001b[0m\n\u001b[0;32m      2\u001b[0m \u001b[1;33m\u001b[0m\u001b[0m\n\u001b[0;32m      3\u001b[0m \u001b[1;31m# el atributo `b` no existe\u001b[0m\u001b[1;33m\u001b[0m\u001b[1;33m\u001b[0m\u001b[1;33m\u001b[0m\u001b[0m\n\u001b[1;32m----> 4\u001b[1;33m \u001b[0my\u001b[0m\u001b[1;33m.\u001b[0m\u001b[0mb\u001b[0m\u001b[1;33m\u001b[0m\u001b[1;33m\u001b[0m\u001b[0m\n\u001b[0m",
      "\u001b[1;31mAttributeError\u001b[0m: 'MiClase' object has no attribute 'b'"
     ]
    }
   ],
   "source": [
    "y = MiClase()\n",
    "\n",
    "# el atributo `b` no existe\n",
    "y.b"
   ]
  },
  {
   "cell_type": "markdown",
   "metadata": {},
   "source": [
    "## El constructor"
   ]
  },
  {
   "cell_type": "markdown",
   "metadata": {},
   "source": [
    "Cada vez que creemos un nuevo `objeto` de nuestra `clase` tendremos el mismo valor para el atributo `a`. Sin embargo, es muy común utilizar una misma clase con diferentes valores para el mismo atributo. Para ello podemos pasarle los valores con los que queremos inicializar nuestro `objeto` a través del `constructor`."
   ]
  },
  {
   "cell_type": "code",
   "execution_count": 8,
   "metadata": {
    "ExecuteTime": {
     "end_time": "2020-06-07T12:47:07.314827Z",
     "start_time": "2020-06-07T12:47:07.299052Z"
    }
   },
   "outputs": [],
   "source": [
    "class MiClase:\n",
    "    \n",
    "    # Constructor\n",
    "    def __init__(self, a):\n",
    "        self.a = a\n",
    "    \n",
    "    def func(self):\n",
    "        print(self.a)"
   ]
  },
  {
   "cell_type": "code",
   "execution_count": 9,
   "metadata": {
    "ExecuteTime": {
     "end_time": "2020-06-07T12:47:07.330833Z",
     "start_time": "2020-06-07T12:47:07.315827Z"
    }
   },
   "outputs": [],
   "source": [
    "x = MiClase(\"hola\")\n",
    "y = MiClase(\"hello\")"
   ]
  },
  {
   "cell_type": "code",
   "execution_count": 10,
   "metadata": {
    "ExecuteTime": {
     "end_time": "2020-06-07T12:47:07.346529Z",
     "start_time": "2020-06-07T12:47:07.331842Z"
    }
   },
   "outputs": [
    {
     "name": "stdout",
     "output_type": "stream",
     "text": [
      "hola\n"
     ]
    }
   ],
   "source": [
    "x.func()"
   ]
  },
  {
   "cell_type": "code",
   "execution_count": 11,
   "metadata": {
    "ExecuteTime": {
     "end_time": "2020-06-07T12:47:07.362552Z",
     "start_time": "2020-06-07T12:47:07.347530Z"
    }
   },
   "outputs": [
    {
     "name": "stdout",
     "output_type": "stream",
     "text": [
      "hello\n"
     ]
    }
   ],
   "source": [
    "y.func()"
   ]
  },
  {
   "cell_type": "markdown",
   "metadata": {},
   "source": [
    "> ⚠️ El `constructor` de una clase siempre se define mediante la función `__init__(self, argumentos)`."
   ]
  },
  {
   "cell_type": "markdown",
   "metadata": {
    "heading_collapsed": true
   },
   "source": [
    "## Sobrecarga de operadores"
   ]
  },
  {
   "cell_type": "markdown",
   "metadata": {
    "hidden": true
   },
   "source": [
    "Imagina que queremos sumar dos números. En `Python` es tan fácil como."
   ]
  },
  {
   "cell_type": "code",
   "execution_count": 12,
   "metadata": {
    "ExecuteTime": {
     "end_time": "2020-06-07T12:47:07.377984Z",
     "start_time": "2020-06-07T12:47:07.372987Z"
    },
    "hidden": true
   },
   "outputs": [
    {
     "data": {
      "text/plain": [
       "3"
      ]
     },
     "execution_count": 12,
     "metadata": {},
     "output_type": "execute_result"
    }
   ],
   "source": [
    "x = 1\n",
    "y = 2\n",
    "\n",
    "x + y"
   ]
  },
  {
   "cell_type": "markdown",
   "metadata": {
    "hidden": true
   },
   "source": [
    "¿Podemos hacer lo mismo con nuestra clase?"
   ]
  },
  {
   "cell_type": "code",
   "execution_count": 13,
   "metadata": {
    "ExecuteTime": {
     "end_time": "2020-06-07T12:47:07.424614Z",
     "start_time": "2020-06-07T12:47:07.408603Z"
    },
    "hidden": true
   },
   "outputs": [
    {
     "ename": "TypeError",
     "evalue": "unsupported operand type(s) for +: 'MiClase' and 'MiClase'",
     "output_type": "error",
     "traceback": [
      "\u001b[1;31m---------------------------------------------------------------------------\u001b[0m",
      "\u001b[1;31mTypeError\u001b[0m                                 Traceback (most recent call last)",
      "\u001b[1;32m<ipython-input-13-9c40486136a8>\u001b[0m in \u001b[0;36m<module>\u001b[1;34m\u001b[0m\n\u001b[0;32m      2\u001b[0m \u001b[0my\u001b[0m \u001b[1;33m=\u001b[0m \u001b[0mMiClase\u001b[0m\u001b[1;33m(\u001b[0m\u001b[1;36m2\u001b[0m\u001b[1;33m)\u001b[0m\u001b[1;33m\u001b[0m\u001b[1;33m\u001b[0m\u001b[0m\n\u001b[0;32m      3\u001b[0m \u001b[1;33m\u001b[0m\u001b[0m\n\u001b[1;32m----> 4\u001b[1;33m \u001b[0mx\u001b[0m \u001b[1;33m+\u001b[0m \u001b[0my\u001b[0m\u001b[1;33m\u001b[0m\u001b[1;33m\u001b[0m\u001b[0m\n\u001b[0m",
      "\u001b[1;31mTypeError\u001b[0m: unsupported operand type(s) for +: 'MiClase' and 'MiClase'"
     ]
    }
   ],
   "source": [
    "x = MiClase(1)\n",
    "y = MiClase(2)\n",
    "\n",
    "x + y"
   ]
  },
  {
   "cell_type": "markdown",
   "metadata": {
    "hidden": true
   },
   "source": [
    "La respuesta es no, y el motivo es que nuestra clase no tiene definido el método suma. Podemos definirlo de la siguiente manera"
   ]
  },
  {
   "cell_type": "code",
   "execution_count": 14,
   "metadata": {
    "ExecuteTime": {
     "end_time": "2020-06-07T12:47:07.534634Z",
     "start_time": "2020-06-07T12:47:07.518689Z"
    },
    "hidden": true
   },
   "outputs": [],
   "source": [
    "class MiClase:\n",
    "    \n",
    "    # Constructor\n",
    "    def __init__(self, a):\n",
    "        self.a = a\n",
    "    \n",
    "    # sobrecarga suma\n",
    "    def __add__(self, other):\n",
    "        return self.a + other.a\n",
    "    \n",
    "    def func(self):\n",
    "        print(self.a)"
   ]
  },
  {
   "cell_type": "code",
   "execution_count": 15,
   "metadata": {
    "ExecuteTime": {
     "end_time": "2020-06-07T12:47:07.549620Z",
     "start_time": "2020-06-07T12:47:07.535637Z"
    },
    "hidden": true
   },
   "outputs": [
    {
     "data": {
      "text/plain": [
       "3"
      ]
     },
     "execution_count": 15,
     "metadata": {},
     "output_type": "execute_result"
    }
   ],
   "source": [
    "x = MiClase(1)\n",
    "y = MiClase(2)\n",
    "\n",
    "x + y"
   ]
  },
  {
   "cell_type": "markdown",
   "metadata": {
    "hidden": true
   },
   "source": [
    "Al definir el `método` `__add__` ahora nuestra clase soporta el operador suma. Esto se conoce como *sobrecarga de operadores* y es especialmente útil cuando hacemos análisis de datos, ya que podremos trabajar con nuestras clases como si lo hiciésemos con cualquier otro objeto de `Python` de manera transparente. Podemos sobrecargar prácticamente todos los operadores, [aquí](https://docs.python.org/3/reference/datamodel.html) puedes encontrar una lista."
   ]
  },
  {
   "cell_type": "code",
   "execution_count": 16,
   "metadata": {
    "ExecuteTime": {
     "end_time": "2020-06-07T12:47:07.564624Z",
     "start_time": "2020-06-07T12:47:07.550621Z"
    },
    "hidden": true
   },
   "outputs": [],
   "source": [
    "class MiClase:\n",
    "    \n",
    "    # Constructor\n",
    "    def __init__(self, a):\n",
    "        self.a = a\n",
    "    \n",
    "    # sobrecarga suma\n",
    "    def __add__(self, other):\n",
    "        return self.a + other.a\n",
    "    \n",
    "    # sobrecarga string (controlamos lo que se ve al hacer un `print` de nuestro objeto)\n",
    "    def __str__(self):\n",
    "        return f'El valor de `a` es {self.a}' \n",
    "    \n",
    "    def func(self):\n",
    "        print(self.a)"
   ]
  },
  {
   "cell_type": "code",
   "execution_count": 17,
   "metadata": {
    "ExecuteTime": {
     "end_time": "2020-06-07T12:47:07.580630Z",
     "start_time": "2020-06-07T12:47:07.565624Z"
    },
    "hidden": true
   },
   "outputs": [
    {
     "name": "stdout",
     "output_type": "stream",
     "text": [
      "El valor de `a` es 1.56\n"
     ]
    }
   ],
   "source": [
    "x = MiClase(1.56)\n",
    "\n",
    "print(x)"
   ]
  },
  {
   "cell_type": "markdown",
   "metadata": {
    "hidden": true
   },
   "source": [
    "Podemos utilizar esta sobrecarga de operadores para definir clases que puedan ser iterables (de forma análoga a los `generadores` que vimos en el post anterior)."
   ]
  },
  {
   "cell_type": "code",
   "execution_count": 18,
   "metadata": {
    "ExecuteTime": {
     "end_time": "2020-06-07T12:47:07.596635Z",
     "start_time": "2020-06-07T12:47:07.581631Z"
    },
    "hidden": true
   },
   "outputs": [],
   "source": [
    "class MiIterador:\n",
    "    \n",
    "    # Constructor\n",
    "    def __init__(self, n):\n",
    "        self.items = [i for i in range(n)]\n",
    "    \n",
    "    # longitud del iterador\n",
    "    def __len__(self):\n",
    "        return len(self.items)\n",
    "    \n",
    "    # devolver valores al indexar nuestro iterador\n",
    "    def __getitem__(self, ix):\n",
    "        return self.items[ix]"
   ]
  },
  {
   "cell_type": "code",
   "execution_count": 19,
   "metadata": {
    "ExecuteTime": {
     "end_time": "2020-06-07T12:47:07.612645Z",
     "start_time": "2020-06-07T12:47:07.597635Z"
    },
    "hidden": true
   },
   "outputs": [
    {
     "data": {
      "text/plain": [
       "5"
      ]
     },
     "execution_count": 19,
     "metadata": {},
     "output_type": "execute_result"
    }
   ],
   "source": [
    "x = MiIterador(5)\n",
    "\n",
    "len(x)"
   ]
  },
  {
   "cell_type": "code",
   "execution_count": 20,
   "metadata": {
    "ExecuteTime": {
     "end_time": "2020-06-07T12:47:07.628650Z",
     "start_time": "2020-06-07T12:47:07.613646Z"
    },
    "hidden": true
   },
   "outputs": [
    {
     "name": "stdout",
     "output_type": "stream",
     "text": [
      "0\n",
      "1\n",
      "2\n",
      "3\n",
      "4\n"
     ]
    }
   ],
   "source": [
    "for i in x:\n",
    "    print(i)"
   ]
  },
  {
   "cell_type": "markdown",
   "metadata": {
    "hidden": true
   },
   "source": [
    "De esta manera podremos definir toda la lógica necesaria para cargar un *dataset*, que puede incluir cualquier número o tipos de transformaciones, y a la vez iterar sobre él como si fuese una simple lista."
   ]
  },
  {
   "cell_type": "markdown",
   "metadata": {
    "hidden": true
   },
   "source": [
    "### El operador  `__call__`"
   ]
  },
  {
   "cell_type": "markdown",
   "metadata": {
    "hidden": true
   },
   "source": [
    "De entre los diferentes operadores que podemos sobrecargar, el operador `__call__` es muy interesante ya que nos va a permitir llamar a nuestro `objeto` como si de una función se tratase."
   ]
  },
  {
   "cell_type": "code",
   "execution_count": 21,
   "metadata": {
    "ExecuteTime": {
     "end_time": "2020-06-07T12:47:07.644657Z",
     "start_time": "2020-06-07T12:47:07.629653Z"
    },
    "hidden": true
   },
   "outputs": [],
   "source": [
    "class MiClase:\n",
    "    \n",
    "    def __init__(self, a):\n",
    "        self.a = a\n",
    "    \n",
    "    def __call__(self, exp):\n",
    "        return self.a**exp"
   ]
  },
  {
   "cell_type": "code",
   "execution_count": 22,
   "metadata": {
    "ExecuteTime": {
     "end_time": "2020-06-07T12:47:07.660665Z",
     "start_time": "2020-06-07T12:47:07.645659Z"
    },
    "hidden": true
   },
   "outputs": [
    {
     "data": {
      "text/plain": [
       "8"
      ]
     },
     "execution_count": 22,
     "metadata": {},
     "output_type": "execute_result"
    }
   ],
   "source": [
    "x = MiClase(2)\n",
    "\n",
    "# podemos usar nuestro objeto como una función\n",
    "x(3)"
   ]
  },
  {
   "cell_type": "markdown",
   "metadata": {
    "hidden": true
   },
   "source": [
    "Este patrón es muy utilizado en las diferentes librerías de análisis de datos, machine learning y deep learning que iremos viendo más adelante."
   ]
  },
  {
   "cell_type": "markdown",
   "metadata": {},
   "source": [
    "## Herencia"
   ]
  },
  {
   "cell_type": "markdown",
   "metadata": {},
   "source": [
    "Hablamos de `herencia` para referirnos al proceso de crear nuevas clases a partir de otras. Estas nuevas clases heredarán los `métodos` y `atributos` de sus clases progenitoras a la vez que nos permitirán añadir nueva funcionalidad.  "
   ]
  },
  {
   "cell_type": "code",
   "execution_count": 23,
   "metadata": {
    "ExecuteTime": {
     "end_time": "2020-06-07T12:47:07.756417Z",
     "start_time": "2020-06-07T12:47:07.739614Z"
    }
   },
   "outputs": [],
   "source": [
    "class MiAlgoritmoBase:\n",
    "    a = 1    \n",
    "    def __call__(self):\n",
    "        return 2*self.a"
   ]
  },
  {
   "cell_type": "code",
   "execution_count": 29,
   "metadata": {
    "ExecuteTime": {
     "end_time": "2020-06-07T12:50:26.155822Z",
     "start_time": "2020-06-07T12:50:26.146771Z"
    }
   },
   "outputs": [],
   "source": [
    "class MiAlgoritmo(MiAlgoritmoBase):\n",
    "    \n",
    "    def __init__(self, b):\n",
    "        self.b = b\n",
    "    \n",
    "    def __call__(self):\n",
    "        # el atributo `a` viene de la clase madre\n",
    "        return 2*self.a + self.b"
   ]
  },
  {
   "cell_type": "code",
   "execution_count": 30,
   "metadata": {
    "ExecuteTime": {
     "end_time": "2020-06-07T12:50:26.329370Z",
     "start_time": "2020-06-07T12:50:26.315656Z"
    }
   },
   "outputs": [
    {
     "data": {
      "text/plain": [
       "2"
      ]
     },
     "execution_count": 30,
     "metadata": {},
     "output_type": "execute_result"
    }
   ],
   "source": [
    "x = MiAlgoritmoBase()\n",
    "\n",
    "x()"
   ]
  },
  {
   "cell_type": "code",
   "execution_count": 31,
   "metadata": {
    "ExecuteTime": {
     "end_time": "2020-06-07T12:50:26.737929Z",
     "start_time": "2020-06-07T12:50:26.725926Z"
    }
   },
   "outputs": [
    {
     "data": {
      "text/plain": [
       "4"
      ]
     },
     "execution_count": 31,
     "metadata": {},
     "output_type": "execute_result"
    }
   ],
   "source": [
    "x = MiAlgoritmo(2)\n",
    "\n",
    "x()"
   ]
  },
  {
   "cell_type": "markdown",
   "metadata": {},
   "source": [
    "En el ejemplo anterior podemos ver una clase llamada `MiAlgoritmoBase`. Después, utilizamos esta clase para crear la nueva clase `MiAlgoritmo`. Como puedes ver, para crear la clase mediante `herencia` pasamos el nombre de la clase madre entre paréntesis en la definición de la nueva clase. La nueva clase ahora tiene acceso a todos los `métodos` y `atributos` de la clase madre. Por otro lado, sobreescribimos la función `__call__` por lo que al llamar a esta función en la nueva clase no llamamos a la función original de la clase madre, si no a la función de la nueva clase. "
   ]
  },
  {
   "cell_type": "markdown",
   "metadata": {},
   "source": [
    "> ⚡ Como puedes ver el mecanismo de `herencia` es muy potente, permitiéndonos crear nuestro código poco a poco, encapsulando funcionalidad reutilizable en clases y creando nuevas clases de manera progresiva. Esta es la base de la `Programación Orientada a Objetos`, un paradigma de programación muy utilizado."
   ]
  },
  {
   "cell_type": "markdown",
   "metadata": {},
   "source": [
    "### Herencia múltiple"
   ]
  },
  {
   "cell_type": "markdown",
   "metadata": {},
   "source": [
    "Podemos crear una nueva clase a partir de varias clases progenitoras de la siguiente manera"
   ]
  },
  {
   "cell_type": "code",
   "execution_count": 32,
   "metadata": {
    "ExecuteTime": {
     "end_time": "2020-06-07T12:52:07.720500Z",
     "start_time": "2020-06-07T12:52:07.714500Z"
    }
   },
   "outputs": [],
   "source": [
    "class MiAlgoritmoBase:    \n",
    "    a = 1    \n",
    "    def __call__(self):\n",
    "        return 2*self.a\n",
    "    \n",
    "class MiOtroAlgoritmoBase:    \n",
    "    b = 2    \n",
    "    def __call__(self):\n",
    "        return -2*self.b\n",
    "    \n",
    "class MiAlgoritmo(MiAlgoritmoBase, MiOtroAlgoritmoBase):\n",
    "    \n",
    "    # constructor\n",
    "    def __init__(self, c):\n",
    "        self.c = c\n",
    "    \n",
    "    def __call__(self):\n",
    "        # los atributos `a` y `b` vienen de las clases progenitoras\n",
    "        return (self.a + self.b)*self.c"
   ]
  },
  {
   "cell_type": "code",
   "execution_count": 33,
   "metadata": {
    "ExecuteTime": {
     "end_time": "2020-06-07T12:52:08.379192Z",
     "start_time": "2020-06-07T12:52:08.362717Z"
    }
   },
   "outputs": [
    {
     "data": {
      "text/plain": [
       "9"
      ]
     },
     "execution_count": 33,
     "metadata": {},
     "output_type": "execute_result"
    }
   ],
   "source": [
    "x = MiAlgoritmo(3)\n",
    "\n",
    "x()"
   ]
  },
  {
   "cell_type": "markdown",
   "metadata": {},
   "source": [
    "En la nueva clase tenemos acceso a todos los `mètodos` y `atributs` de todas las clases progenitoras, añadiendo nuevas funciones o sobreescribiendo las ya existentes."
   ]
  },
  {
   "cell_type": "markdown",
   "metadata": {},
   "source": [
    "## Resumen"
   ]
  },
  {
   "cell_type": "markdown",
   "metadata": {},
   "source": [
    "En este post hemos visto como definir `clases` en `Python`, un recurso muy útil a la hora de encapsular funcionalidad en un solo objeto con el que podemos interactuar como lo hacemos con el resto de objetos básicos que `Python` nos ofrece. La mayoría de algoritmos y estructuras de datos que usaremos de ahora en adelante están definidos como `clases` de `Python`, con las que podremos interactuar mediante sus `métodos`y `atributos`. Gracias a la sobrecarga de operadores podremos utilizar los operadores más comunes con nuestros propios `objetos` y también nos permitirán crear iteradores. Por último hemos hablado de `herencia`, un mecanismo que nos permite crear nuevas clases a partir de otras conservando los diferentes `métodos`y `atributos` de las clases progenitoras en la nueva clase, añadiendo o sobreescribiendo lo necesario para crear la nueva funcionalidad."
   ]
  }
 ],
 "metadata": {
  "kernelspec": {
   "display_name": "Python 3",
   "language": "python",
   "name": "python3"
  },
  "language_info": {
   "codemirror_mode": {
    "name": "ipython",
    "version": 3
   },
   "file_extension": ".py",
   "mimetype": "text/x-python",
   "name": "python",
   "nbconvert_exporter": "python",
   "pygments_lexer": "ipython3",
   "version": "3.7.6"
  },
  "toc": {
   "base_numbering": 1,
   "nav_menu": {},
   "number_sections": true,
   "sideBar": true,
   "skip_h1_title": false,
   "title_cell": "Table of Contents",
   "title_sidebar": "Contents",
   "toc_cell": false,
   "toc_position": {},
   "toc_section_display": true,
   "toc_window_display": false
  }
 },
 "nbformat": 4,
 "nbformat_minor": 4
}
