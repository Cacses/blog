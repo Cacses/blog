{
 "cells": [
  {
   "cell_type": "markdown",
   "metadata": {},
   "source": [
    "# Front End"
   ]
  },
  {
   "cell_type": "markdown",
   "metadata": {},
   "source": [
    "En el post [anterior](https://sensioai.com/blog/052_produccion) aprendimos a implementar un servidor web simple con `Flask` capaz de recibir imágenes a través de internet, usando una `URL` proporcionada por `Heroku`. Una vez recibida la imagen, el programa se la da a una `red neuronal` que hemos entrenado previamente para clasificar imágenes, la cual la procesa y calcula la probabilidad de que la imagen en cuestión pertenezca a las diferentes clases en las que fue entrenada. Finalmente devolvemos esta predicción. Utilizando el programa `CURL` fuimos capaces de probar nuestro servidor a través del terminal utilizando imágenes de muestra.\n",
    "\n",
    "![](https://sensioai.com/blog/052/predict.png)\n",
    "\n",
    "Sin embargo, para poder hacer que nuestra `API` sea lo más accesible posible, lo mejor es implementar una interfaz de usuario para poder interactuar con nuestra `red neuronal` desde un smartphone o un ordenador. Para ello vamos a construir una aplicación web, que será el `front end` de nuestro sistema.\n",
    "\n",
    "> Puedes aprender más sobre las diferentes tecnologías web que usaremos en nuestros [vídeos](https://youtu.be/mvbTV_Zmdk4), dónde también encontrarás otros recursos de aprendizaje."
   ]
  },
  {
   "cell_type": "markdown",
   "metadata": {},
   "source": [
    "## La aplicación"
   ]
  },
  {
   "cell_type": "markdown",
   "metadata": {},
   "source": [
    "La `red neuronal` que utilizamos en nuestra `API` ha sido entrenada para la clasificación de imágenes aéreas, útil para la generación automática de mapas de uso del terreno. \n",
    "\n",
    "![](./datos.png)\n",
    "\n",
    "Así pues, nuestro `front end` consistirá en un mapa con cobertura global de imágenes aéreas (similar a google maps) en el que un usuario será capaz de seleccionar un área de interés en concreto, enviar la imagen al servidor y visualizar la predicción. Aquí puedes ver el resultado final.\n",
    "\n",
    "![](avion.png)\n",
    "\n",
    "> Puedes encontrar todo el código de la aplicacion [aquí](https://github.com/sensioai/mapa)"
   ]
  },
  {
   "cell_type": "markdown",
   "metadata": {},
   "source": [
    "### Setup del proyecto"
   ]
  },
  {
   "cell_type": "markdown",
   "metadata": {},
   "source": [
    "Empezamos creando un nuevo repositorio en `Github` en el que tendremos nuestro código. Esto no sólo es importante desde el punto de vista de desarrollo de software, si no que también nos permitirá desplegar nuestra aplicación de manera sencilla (y gratuíta) como veremos más adelante.\n",
    "\n",
    "> Aquí tienes un par de vídeos para aprender más sobre [Git](https://www.youtube.com/watch?v=Sla3jUUCTvU&list=PLkgbkukKg_NpZ7VlPi5WM-wcGO5K4PEeZ&index=1) y [Github](https://www.youtube.com/watch?v=Ol8el9q2Fq4&list=PLkgbkukKg_NpZ7VlPi5WM-wcGO5K4PEeZ&index=2)."
   ]
  },
  {
   "cell_type": "markdown",
   "metadata": {},
   "source": [
    "### HTML"
   ]
  },
  {
   "cell_type": "markdown",
   "metadata": {},
   "source": [
    "Empezamos definiendo la estructura de nuestra aplicación en un archivo llamado `index.html`. En él definiremos los siguientes elementos:\n",
    "\n",
    "- El mapa que usaremos para seleccionar el área de interés y extraer las imágenes\n",
    "- Un panel con:\n",
    "    - Un botón para enviar la imagen al servidor\n",
    "    - Un elemento vacío en el que insertaremos la predicción\n",
    "- Un rectángulo para indicar el área que seleccionaremos\n",
    "- Un elemento `canvas` para recortar el centro del mapa (sus atributos `width` and `height` determinarán las dimensiones de la imagen usada para la predicción)\n",
    "\n",
    "Para renderizar el mapa y generar las imágenes que enviaremos al servidor, utilizaremos la librería [Leaflet](https://leafletjs.com/) y el plugin [Leaflet Image](https://github.com/mapbox/leaflet-image), por lo que linkaremos estas librería en nuestro `html`. Por último, linkaremos también nuestros archivos `style.css` y `index.js` con los estilos y la lógica de nuestra aplicación, respectivamente."
   ]
  },
  {
   "cell_type": "markdown",
   "metadata": {},
   "source": [
    "```html\n",
    "\n",
    "<!DOCTYPE html>\n",
    "<html lang=\"es\">\n",
    "\n",
    "<head>\n",
    "    <meta charset=\"UTF-8\">\n",
    "    <meta name=\"viewport\" content=\"width=device-width, initial-scale=1.0\">\n",
    "    <title>Mapa</title>\n",
    "    <!-- Importamos Leaflet -->\n",
    "    <link rel=\"stylesheet\" href=\"https://unpkg.com/leaflet@1.7.1/dist/leaflet.css\"\n",
    "        integrity=\"sha512-xodZBNTC5n17Xt2atTPuE1HxjVMSvLVW9ocqUKLsCC5CXdbqCmblAshOMAS6/keqq/sMZMZ19scR4PsZChSR7A==\"\n",
    "        crossorigin=\"\" />\n",
    "    <script src=\"https://unpkg.com/leaflet@1.7.1/dist/leaflet.js\"\n",
    "        integrity=\"sha512-XQoYMqMTK8LvdxXYG3nZ448hOEQiglfqkJs1NOQV44cWnUrBc8PkAOcXy20w0vlaXaVUearIOBhiXZ5V3ynxwA==\"\n",
    "        crossorigin=\"\"></script>\n",
    "    <script src=\"leaflet-image.js\"></script>\n",
    "    <!-- Importamos nuestros estilos y lógica -->\n",
    "    <link rel=\"stylesheet\" href=\"style.css\">\n",
    "    <script src=\"index.js\"></script>\n",
    "</head>\n",
    "\n",
    "<body>\n",
    "    <div id=\"map\"></div>\n",
    "    <div class=\"panel\">\n",
    "        <button id=\"btn\">CLASIFICA</button>\n",
    "        <p id=\"resultado\"></p>\n",
    "    </div>\n",
    "    <div class=\"rect\"></div>\n",
    "    <canvas id=\"crop_canvas\" width=\"224\" height=\"224\" style=\"display: none\"></canvas>\n",
    "</body>\n",
    "\n",
    "</html>\n",
    "\n",
    "```\n",
    "\n",
    "> Aprende sobre HTML en este [vídeo](https://www.youtube.com/watch?v=mvbTV_Zmdk4&list=PLkgbkukKg_NpZ7VlPi5WM-wcGO5K4PEeZ&index=5)."
   ]
  },
  {
   "cell_type": "markdown",
   "metadata": {},
   "source": [
    "## CSS"
   ]
  },
  {
   "cell_type": "markdown",
   "metadata": {},
   "source": [
    "Estos son los estilos que usaremos en nuestra `APP`. El mapa ocupará toda la pantalla, mientras que el panel con el botón y la información estará en la esquina superior derecha. El rectángulo estará centrado en el mapa, con un borde rojo, para indicar a un usuario la zona del mapa que se usará exactamente para la predicción. En este caso usaremos un cuadrado de 224 x 224 pixeles ya que es el tamaño que usamos para entrenar nuestra red. Aún así, puedes usar otro tamaño (la `API` de `Flask` se asegura de hacer un re-escalado de la imagen si las dimensiones no son las esperadas)."
   ]
  },
  {
   "cell_type": "markdown",
   "metadata": {},
   "source": [
    "```css \n",
    "* {\n",
    "   margin: 0;\n",
    "   padding: 0; \n",
    "}\n",
    "\n",
    "body {\n",
    "    position: relative;\n",
    "}\n",
    "\n",
    "#map { \n",
    "    width: 100%;\n",
    "    height: 100vh;\n",
    "    z-index: 1;\n",
    "}\n",
    "\n",
    ".panel {\n",
    "    position: absolute;\n",
    "    top: 10px; \n",
    "    right: 10px;\n",
    "    width: 200px;\n",
    "    height: 120px;\n",
    "    background-color: #fafafa;\n",
    "    z-index: 2;\n",
    "    box-sizing: border-box;\n",
    "    padding: 20px;\n",
    "    display: flex;\n",
    "    flex-direction: column;\n",
    "    align-items: center;\n",
    "    justify-content: space-around;\n",
    "}\n",
    "\n",
    "#btn {\n",
    "    background-color: black;\n",
    "    color: white;\n",
    "    border: none;\n",
    "    width: 100px;\n",
    "    height:30px;\n",
    "}\n",
    "\n",
    ".rect {\n",
    "    position: absolute;\n",
    "    width: 224px;\n",
    "    height: 224px;\n",
    "    top: 50%; \n",
    "    left: 50%;\n",
    "    transform: translateX(-50%) translateY(-50%);\n",
    "    border: 3px solid red;\n",
    "    background: none;\n",
    "    z-index: 3;\n",
    "}\n",
    "```\n",
    "\n",
    "> Aprende más sobre CSS en este [vídeo](https://www.youtube.com/watch?v=ZBJd2hLYqMc&list=PLkgbkukKg_NpZ7VlPi5WM-wcGO5K4PEeZ&index=6)."
   ]
  },
  {
   "cell_type": "markdown",
   "metadata": {},
   "source": [
    "## Javascript"
   ]
  },
  {
   "cell_type": "markdown",
   "metadata": {},
   "source": [
    "Y aquí tienes la lógica de la `APP`. El proceso es el siguiente:\n",
    "\n",
    "1. Una vez se carga el contenido de la página, instanciamos el mapa (centrado en unas coordenadas determinadas) y le asignamos una capa, en este caso imágenes aéreas proporcionadas por google.\n",
    "2. Asignamos las acciones a llevar a cabo cuando un usuario hace `click` en el botón:\n",
    "    - Deshabilitamos el botón para evitar llamadas mútliples\n",
    "    - Generamos una imagen del mapa entero usando el plugin `leaflet-image`.\n",
    "    - Cortamos el centro de la imagen a las dimensiones deseadas (ancho y alto del elemento `crop_canvas`).\n",
    "    - Enviamos la imagen a la `API`\n",
    "    - Cuando recibimos la respuesta, se la mostramos al usuario y volvemos a habilitar el botón."
   ]
  },
  {
   "cell_type": "markdown",
   "metadata": {},
   "source": [
    "```js\n",
    "// Pon aquí la URL de tu API\n",
    "const url = 'https://sensioai-blog-flask.herokuapp.com/predict'\n",
    "\n",
    "// Puedes usar una url local durante el desarrollo para asegurarte que todo funciona bien\n",
    "//const url = 'http://127.0.0.1:5000/predict'\n",
    "\n",
    "// esperar a que se cargue el contenido de la app\n",
    "document.addEventListener('DOMContentLoaded', function () {\n",
    "\n",
    "    // instanciar el mapa con coordenadas y zoom inicial\n",
    "    const map = L.map('map', {\n",
    "        preferCanvas: true\n",
    "    }).setView([41.39, 2.15], 17);\n",
    "\n",
    "    // assignar capa al mapa con imágenes aéreas de google maps\n",
    "    L.tileLayer('http://{s}.google.com/vt/lyrs=s&x={x}&y={y}&z={z}', {\n",
    "        maxZoom: 20,\n",
    "        subdomains: ['mt0', 'mt1', 'mt2', 'mt3']\n",
    "    }).addTo(map);\n",
    "\n",
    "    // asignar acciones al botón\n",
    "    const btn = document.getElementById('btn')\n",
    "    btn.addEventListener('click', function () {\n",
    "\n",
    "        // cambiar el texto y deshabilitar el botón para evitar llamadas concurrentes\n",
    "        btn.innerText = 'Cargando ...'\n",
    "        btn.disabled = true\n",
    "\n",
    "        // convertir el mapa a imagen \n",
    "        return leafletImage(map, function (err, canvas) {\n",
    "\n",
    "            // generamos una imagen con el mapa\n",
    "            var img = new Image();\n",
    "            img.src = canvas.toDataURL();\n",
    "\n",
    "            // cuando la imagen ha sido cargada, cortamos el centro y lo enviamos a la API\n",
    "            img.onload = function () {\n",
    "\n",
    "                // cortamos el centro al tamaño deseado (224 x 224)\n",
    "                crop_canvas = document.getElementById('crop_canvas');\n",
    "                const w = crop_canvas.width\n",
    "                const h = crop_canvas.height\n",
    "                const sx = (canvas.width - w) / 2\n",
    "                const sy = (canvas.height - h) / 2\n",
    "                crop_canvas.getContext('2d').drawImage(img, sx, sy, w, h, 0, 0, w, h);\n",
    "\n",
    "                // enviamos la imagen a la API \n",
    "                return crop_canvas.toBlob(function (blob) {\n",
    "                    const formData = new FormData()\n",
    "                    formData.append('file', blob)\n",
    "                    return fetch(url, {\n",
    "                        method: 'post',\n",
    "                        body: formData\n",
    "                    })\n",
    "                        // recibimos la respuesta y la pintamos en la app\n",
    "                        .then(res => res.json())\n",
    "                        .then(res => {\n",
    "                            const panel = document.getElementById('resultado')\n",
    "                            panel.innerText = res.label\n",
    "\n",
    "                            // habilitamos de nuevo el botón\n",
    "                            btn.innerText = 'Clasifica'\n",
    "                            btn.disabled = false\n",
    "                        })\n",
    "                })\n",
    "            }\n",
    "        })\n",
    "    })\n",
    "})\n",
    "```"
   ]
  },
  {
   "cell_type": "markdown",
   "metadata": {},
   "source": [
    "Si quieres jugar con el código te aconsejo utilizar tu `API` en local, así podrás ver de manera sencilla qué es lo que recibe, por ejemplo puedes guardar la imagen en un archivo para asegurarte que estás enviando imágenes correctas."
   ]
  },
  {
   "cell_type": "markdown",
   "metadata": {},
   "source": [
    "### Desplegando en Github Pages"
   ]
  },
  {
   "cell_type": "markdown",
   "metadata": {},
   "source": [
    "Una vez nos hemos asegurado que todo funciona correctamente, podemos desplegar la aplicación en Github Pages. Puedes ver un ejemplo [aquí](https://sensioai.github.io/mapa/).\n",
    "\n",
    "> Aprender más sobre Github Pages con este [vídeo](https://www.youtube.com/watch?v=ZBJd2hLYqMc&list=PLkgbkukKg_NpZ7VlPi5WM-wcGO5K4PEeZ&index=6)."
   ]
  },
  {
   "cell_type": "markdown",
   "metadata": {},
   "source": [
    "## Resumen"
   ]
  },
  {
   "cell_type": "markdown",
   "metadata": {},
   "source": [
    "En este post hemos visto cómo implementar una interfaz de usuario para comunicarnos con nuestro servidor `Flask`. Esta aplicación está implementada con tecnologías web: `HTML`, `CSS` y `Javascript`. Una vez implementado el código, podemos usar `Github Pages` para desplegar nuestra aplicación, obteniendo una `URL` para poder conectarnos a través de un navegador. De esta manera hemos conseguido cerrar el círculo completo de la puesta en producción de una red neuronal, desde su entrenamiento, puesto en marcha en un servidor web y accesible a través de una aplicación."
   ]
  }
 ],
 "metadata": {
  "kernelspec": {
   "display_name": "Python 3",
   "language": "python",
   "name": "python3"
  },
  "language_info": {
   "codemirror_mode": {
    "name": "ipython",
    "version": 3
   },
   "file_extension": ".py",
   "mimetype": "text/x-python",
   "name": "python",
   "nbconvert_exporter": "python",
   "pygments_lexer": "ipython3",
   "version": "3.7.3"
  },
  "toc": {
   "base_numbering": 1,
   "nav_menu": {},
   "number_sections": true,
   "sideBar": true,
   "skip_h1_title": false,
   "title_cell": "Table of Contents",
   "title_sidebar": "Contents",
   "toc_cell": false,
   "toc_position": {},
   "toc_section_display": true,
   "toc_window_display": false
  }
 },
 "nbformat": 4,
 "nbformat_minor": 2
}
