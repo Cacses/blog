{
 "cells": [
  {
   "cell_type": "markdown",
   "metadata": {},
   "source": [
    "[![Open In Colab](https://colab.research.google.com/assets/colab-badge.svg)](https://colab.research.google.com/github/sensioai/blog/blob/master/026_frameworks/frameworks.ipynb)"
   ]
  },
  {
   "cell_type": "markdown",
   "metadata": {},
   "source": [
    "# Frameworks de Redes Neuronales"
   ]
  },
  {
   "cell_type": "markdown",
   "metadata": {},
   "source": [
    "En el [post]() anterior desarrollamos nuestro propio framework de redes neuronales, un conjunto de clases de `Python` que nos permiten resolver problemas con la arquitectura conocida como `Perceptrón Multicapa`. Si bien nuestro framework es funcional y flexible, requiere que implementemos nueva funcionalidad cada vez que queramos probar algo nuevo. De la misma manera, nuestra implementación no es en ningún caso óptima. Es por este motivo que, hoy en día, la mayoría de investigadores e ingenieros utilizan frameworks desarrollados por terceros para llevar a cabo sus proyectos. Esto mismo es lo que haremos nosotros de ahora en adelante, y en este post vamos a ver algunos de los frameworks más utilizados para poder escoger uno."
   ]
  },
  {
   "cell_type": "markdown",
   "metadata": {},
   "source": [
    "## ¿Qué le pedimos a un framework?"
   ]
  },
  {
   "cell_type": "markdown",
   "metadata": {},
   "source": [
    "Ya seas estudiante, investigador, profesional o simplemente curioso llega un momento en el que tenemos que escoger un framework de `Deep Learning`. Hoy en día, la mayoría de frameworks nos ofrecen todo lo que podemos esperar, pero estos son varios puntos a tener en cuenta a la hora de elegir un framework:\n",
    "\n",
    "- Código optimizado\n",
    "- Procesado en paralelo (GPUs, TPUs)\n",
    "- Soporte de la comunidad (nuevas arquitecturas, datasets, ...)\n",
    "- Facilidad de uso (entender lo que se está haciendo)\n",
    "- Ecosistema: investigación, desarrollo y producción (servidores, web, móvil, IoT, ...)\n",
    "\n",
    "Aún así, dependiendo de tu flujo de trabajo o requisitos, es posible que te veas obligado a utilizar un framework en concreto (por ejemplo, CoreML para aplicaciones en iOS). El `Deep Learning` es una tecnología transversal, capaz de impactar multitud de industrias. Esto significa que, cuánto más fácil de utilizar sea un framework para gente que no está familiarizada con el mundo de la programación (médicos, artistas, arquitectos, atletas, ...), más impacto puede tener. Una vez vistas las características que le pedimos a un framework, éstas son las opciones más utilizadas hoy en día:\n",
    "\n",
    "- [Tensorflow](https://www.tensorflow.org/) (Google)\n",
    "- [Pytorch](https://pytorch.org/) (Facebook)\n",
    "- [MXNet](https://mxnet.apache.org/) (Amazon)\n",
    "- [CNTK](https://docs.microsoft.com/en-us/cognitive-toolkit/) (Microsoft)\n",
    "- [CoreML](https://developer.apple.com/documentation/coreml) (Apple - iOS)\n",
    "\n",
    "Puedes investigar los diferentes frameworks, ver ejemplos y probarlos para ver cuál se adapta mejor a tus necesidades. Sin embargo, a día de hoy, los claros ganadores en este ecosistema son `Tensorflow` y `Pytorch`."
   ]
  },
  {
   "cell_type": "markdown",
   "metadata": {},
   "source": [
    "## Tensorflow"
   ]
  },
  {
   "cell_type": "markdown",
   "metadata": {},
   "source": [
    "Desarrollado por Google, `Tensorflow` es probablemente el framework más utilizado hoy en día (sobretodo en la industria). Este framework destaca por su gran ecosistema y herramientas disponibles a la hora de desplegar redes neuronales en aplicaciones web o móviles. Desde la publicación de la versión 2.X, se ha facilitado su uso y flexibilidad. Además, gracias a su API de alto nivel `Keras`, los usuarios de este framework pueden disfrutar de una gran funcionalidad con una simple implementación. Vamos a ver como resolver uno de los problemas en los que hemos trabajado anteriormente para comparar nuestra implementación con la que nos ofrece `Tensorflow`.\n",
    "\n",
    "En primer lugar, descargamos el dataset *Iris* para clasificación de flores en 3 clases en función de la longitud y el ancho de sus pétalos."
   ]
  },
  {
   "cell_type": "code",
   "execution_count": 1,
   "metadata": {
    "ExecuteTime": {
     "end_time": "2020-08-14T11:00:10.267294Z",
     "start_time": "2020-08-14T11:00:09.595546Z"
    }
   },
   "outputs": [
    {
     "data": {
      "text/plain": [
       "((150, 2), (150,))"
      ]
     },
     "execution_count": 1,
     "metadata": {},
     "output_type": "execute_result"
    }
   ],
   "source": [
    "from sklearn.datasets import load_iris\n",
    "\n",
    "iris = load_iris()\n",
    "X = iris.data[:, (2, 3)]  # petal length, petal width\n",
    "Y = iris.target\n",
    "\n",
    "# normalización datos\n",
    "X_mean, X_std = X.mean(axis=0), X.std(axis=0)\n",
    "X_norm = (X - X_mean) / X_std\n",
    "\n",
    "X.shape, Y.shape"
   ]
  },
  {
   "cell_type": "code",
   "execution_count": 4,
   "metadata": {
    "ExecuteTime": {
     "end_time": "2020-08-14T11:00:14.950487Z",
     "start_time": "2020-08-14T11:00:14.700881Z"
    }
   },
   "outputs": [
    {
     "data": {
      "image/png": "[encoded data removed]",
      "text/plain": [
       "<Figure size 432x288 with 1 Axes>"
      ]
     },
     "metadata": {
      "needs_background": "light"
     },
     "output_type": "display_data"
    }
   ],
   "source": [
    "import matplotlib.pyplot as plt \n",
    "\n",
    "plt.plot(X[Y==0, 0], X[Y==0, 1], 's', label=\"Iris Setosa\")\n",
    "plt.plot(X[Y==1, 0], X[Y==1, 1], 'x', label=\"Iris Versicolor\")\n",
    "plt.plot(X[Y==2, 0], X[Y==2, 1], 'o', label=\"Iris Virginica\")\n",
    "plt.grid()\n",
    "plt.legend()\n",
    "plt.xlabel('petal length', fontsize=14)\n",
    "plt.ylabel('petal width', fontsize=14)\n",
    "plt.title(\"Iris dataset\", fontsize=14)\n",
    "plt.show()"
   ]
  },
  {
   "cell_type": "markdown",
   "metadata": {},
   "source": [
    "Para empezar a trabajar con `Tensorflow`, primero tenemos que importarlo. Podrás instalarlo en tu máquina con el comando `pip install tenorflow`."
   ]
  },
  {
   "cell_type": "code",
   "execution_count": 40,
   "metadata": {
    "ExecuteTime": {
     "end_time": "2020-08-14T11:19:19.268406Z",
     "start_time": "2020-08-14T11:19:19.257370Z"
    }
   },
   "outputs": [
    {
     "data": {
      "text/plain": [
       "'2.3.0'"
      ]
     },
     "execution_count": 40,
     "metadata": {},
     "output_type": "execute_result"
    }
   ],
   "source": [
    "import tensorflow as tf\n",
    "import tensorflow.keras as keras\n",
    "\n",
    "tf.__version__"
   ]
  },
  {
   "cell_type": "markdown",
   "metadata": {},
   "source": [
    "Ahora, definimos la arquitectura de nuestra red neuronal. Para ello tenemos varias opciones, en este caso utilizaremos la API funcional que nos ofrece `Keras`."
   ]
  },
  {
   "cell_type": "code",
   "execution_count": 41,
   "metadata": {
    "ExecuteTime": {
     "end_time": "2020-08-14T11:19:19.555666Z",
     "start_time": "2020-08-14T11:19:19.515799Z"
    }
   },
   "outputs": [
    {
     "name": "stdout",
     "output_type": "stream",
     "text": [
      "Model: \"functional_13\"\n",
      "_________________________________________________________________\n",
      "Layer (type)                 Output Shape              Param #   \n",
      "=================================================================\n",
      "input_9 (InputLayer)         [(None, 2)]               0         \n",
      "_________________________________________________________________\n",
      "dense_17 (Dense)             (None, 64)                192       \n",
      "_________________________________________________________________\n",
      "dense_18 (Dense)             (None, 3)                 195       \n",
      "=================================================================\n",
      "Total params: 387\n",
      "Trainable params: 387\n",
      "Non-trainable params: 0\n",
      "_________________________________________________________________\n"
     ]
    }
   ],
   "source": [
    "inputs = keras.Input(shape=(2,))\n",
    "x = keras.layers.Dense(64, activation=\"relu\")(inputs)\n",
    "outputs = keras.layers.Dense(3)(x)\n",
    "model = keras.Model(inputs=inputs, outputs=outputs)\n",
    "model.summary()"
   ]
  },
  {
   "cell_type": "markdown",
   "metadata": {},
   "source": [
    "Como puedes ver, primero definimos la capa `Input` donde indicamos las dimensiones de nuestros datos de entrada. Después, definimos las diferentes capas que queremos utilizar. Aquí, usamos la capa `Dense` que es equivalente a nuestra capa `Linear`, el `Perceptrón`. Como puedes ver, en `Keras` podemos incluir la función de activación directamente en la misma capa. Puedes utilizar el número de capas `Dense` que quieras, siempre y cuando la última tenga tantas neuronas como clases para clasificar (en este caso 3). Una vez definidas las capas, podemos crear el objeto `model` el cual nos ofrece toda la funcionalidad que usaremos de ahora en adelante para entrenar y obtener predicciones. La funcioón `summary` nos da información muy interesante sobre nuestro modelo, como el número de capas, parámetros entrenables, etc. Una vez definida la arquitectura, usamos la función `compile` para indicar qué optimizador usaremos, la función de pérdida (con su correspondiente *learning rate*) y las métricas que deseamos observar durante el entrenamiento."
   ]
  },
  {
   "cell_type": "code",
   "execution_count": 42,
   "metadata": {
    "ExecuteTime": {
     "end_time": "2020-08-14T11:19:19.775812Z",
     "start_time": "2020-08-14T11:19:19.758060Z"
    }
   },
   "outputs": [],
   "source": [
    "model.compile(\n",
    "    loss=keras.losses.SparseCategoricalCrossentropy(from_logits=True),\n",
    "    optimizer=keras.optimizers.SGD(lr=0.1),\n",
    "    metrics=[\"accuracy\"],\n",
    ")"
   ]
  },
  {
   "cell_type": "markdown",
   "metadata": {},
   "source": [
    "Finalmente, podemos entrenar nuestro modelo con la función `fit` indicando el número de epochs y batch size de manera sencilla."
   ]
  },
  {
   "cell_type": "code",
   "execution_count": 43,
   "metadata": {
    "ExecuteTime": {
     "end_time": "2020-08-14T11:19:21.411214Z",
     "start_time": "2020-08-14T11:19:20.703599Z"
    }
   },
   "outputs": [
    {
     "name": "stdout",
     "output_type": "stream",
     "text": [
      "Epoch 1/10\n",
      "15/15 [==============================] - 0s 2ms/step - loss: 0.7394 - accuracy: 0.6667\n",
      "Epoch 2/10\n",
      "15/15 [==============================] - 0s 2ms/step - loss: 0.5040 - accuracy: 0.8333\n",
      "Epoch 3/10\n",
      "15/15 [==============================] - 0s 2ms/step - loss: 0.4002 - accuracy: 0.9067\n",
      "Epoch 4/10\n",
      "15/15 [==============================] - 0s 3ms/step - loss: 0.3317 - accuracy: 0.9333\n",
      "Epoch 5/10\n",
      "15/15 [==============================] - 0s 2ms/step - loss: 0.2815 - accuracy: 0.9667\n",
      "Epoch 6/10\n",
      "15/15 [==============================] - 0s 2ms/step - loss: 0.2460 - accuracy: 0.9533\n",
      "Epoch 7/10\n",
      "15/15 [==============================] - 0s 2ms/step - loss: 0.2197 - accuracy: 0.9600\n",
      "Epoch 8/10\n",
      "15/15 [==============================] - 0s 4ms/step - loss: 0.1965 - accuracy: 0.9667\n",
      "Epoch 9/10\n",
      "15/15 [==============================] - 0s 2ms/step - loss: 0.1795 - accuracy: 0.9600\n",
      "Epoch 10/10\n",
      "15/15 [==============================] - 0s 2ms/step - loss: 0.1672 - accuracy: 0.9600\n"
     ]
    },
    {
     "data": {
      "text/plain": [
       "<tensorflow.python.keras.callbacks.History at 0x7ff169ffd4e0>"
      ]
     },
     "execution_count": 43,
     "metadata": {},
     "output_type": "execute_result"
    }
   ],
   "source": [
    "model.fit(X_norm, Y, batch_size=10, epochs=10)"
   ]
  },
  {
   "cell_type": "markdown",
   "metadata": {},
   "source": [
    "Finalmente, podemos obtener predicciones con la función `predict`, que en este caso utilizamos para generar la visualización de las fronteras de decisión."
   ]
  },
  {
   "cell_type": "code",
   "execution_count": 32,
   "metadata": {
    "ExecuteTime": {
     "end_time": "2020-08-14T11:08:42.523607Z",
     "start_time": "2020-08-14T11:08:40.745794Z"
    }
   },
   "outputs": [
    {
     "data": {
      "image/png": "[encoded data removed]",
      "text/plain": [
       "<Figure size 432x288 with 1 Axes>"
      ]
     },
     "metadata": {
      "needs_background": "light"
     },
     "output_type": "display_data"
    }
   ],
   "source": [
    "from matplotlib.colors import ListedColormap\n",
    "import numpy as np\n",
    "\n",
    "def softmax(x):\n",
    "    return np.exp(x) / np.exp(x).sum(axis=-1,keepdims=True)\n",
    "\n",
    "resolution=0.02\n",
    "markers = ('s', 'x', 'o', '^', 'v')\n",
    "colors = ('red', 'blue', 'lightgreen', 'gray', 'cyan')\n",
    "cmap = ListedColormap(colors[:len(np.unique(Y))])\n",
    "\n",
    "# plot the decision surface\n",
    "x1_min, x1_max = X[:, 0].min() - 1, X[:, 0].max() + 1\n",
    "x2_min, x2_max = X[:, 1].min() - 1, X[:, 1].max() + 1\n",
    "xx1, xx2 = np.meshgrid(np.arange(x1_min, x1_max, resolution),\n",
    "                       np.arange(x2_min, x2_max, resolution))\n",
    "X_new = (np.array([xx1.ravel(), xx2.ravel()]).T - X_mean)/X_std\n",
    "\n",
    "# cálculo de predicciones\n",
    "Z = model.predict(X_new)\n",
    "\n",
    "Z = np.argmax(softmax(Z), axis=1) \n",
    "Z = Z.reshape(xx1.shape)\n",
    "plt.contourf(xx1, xx2, Z, alpha=0.3, cmap=cmap)\n",
    "plt.xlim(xx1.min(), xx1.max())\n",
    "plt.ylim(xx2.min(), xx2.max())\n",
    "plt.xlabel('petal length', fontsize=14)\n",
    "plt.ylabel('petal width', fontsize=14)\n",
    "classes = [\"Iris-Setosa\", \"Iris-Versicolor\", \"Iris-Virginica\"]\n",
    "for idx, cl in enumerate(np.unique(Y)):\n",
    "    plt.scatter(x=X[Y == cl, 0], \n",
    "                y=X[Y == cl, 1],\n",
    "                alpha=0.8, \n",
    "                c=colors[idx],\n",
    "                marker=markers[idx], \n",
    "                label=classes[cl], \n",
    "                edgecolor='black')\n",
    "plt.legend(loc='upper left', fontsize=14)\n",
    "plt.show()"
   ]
  },
  {
   "cell_type": "markdown",
   "metadata": {},
   "source": [
    "Como puede ver, `Tensorflow` (y en particular `Keras`) nos permite resolver los problemas que ya conocemos de una manera muy sencilla. Obviamente, hay muchísimo más en `Tensorflow` y `Keras` de lo que hemos visto en este sencillo ejemplo (como por ejemplo guardar y cargar modelos, customizar el bucle de entrenamiento, etc). El objetivo es simplemente el de presentar estas nuevas herramientas y cómo utilizarlas para resolver los casos que hemos visto en posts anteriores. En posts futuros entraremos en más detalle en la funcionalidad que nos ofrece `Tensorflow` resolviendo problemas mucho más interesantes."
   ]
  },
  {
   "cell_type": "markdown",
   "metadata": {},
   "source": [
    "## Pytorch"
   ]
  },
  {
   "cell_type": "code",
   "execution_count": null,
   "metadata": {},
   "outputs": [],
   "source": []
  },
  {
   "cell_type": "code",
   "execution_count": null,
   "metadata": {},
   "outputs": [],
   "source": []
  },
  {
   "cell_type": "code",
   "execution_count": null,
   "metadata": {},
   "outputs": [],
   "source": []
  },
  {
   "cell_type": "code",
   "execution_count": null,
   "metadata": {},
   "outputs": [],
   "source": []
  }
 ],
 "metadata": {
  "kernelspec": {
   "display_name": "Python 3",
   "language": "python",
   "name": "python3"
  },
  "language_info": {
   "codemirror_mode": {
    "name": "ipython",
    "version": 3
   },
   "file_extension": ".py",
   "mimetype": "text/x-python",
   "name": "python",
   "nbconvert_exporter": "python",
   "pygments_lexer": "ipython3",
   "version": "3.7.3"
  },
  "toc": {
   "base_numbering": 1,
   "nav_menu": {},
   "number_sections": true,
   "sideBar": true,
   "skip_h1_title": false,
   "title_cell": "Table of Contents",
   "title_sidebar": "Contents",
   "toc_cell": false,
   "toc_position": {
    "height": "calc(100% - 180px)",
    "left": "10px",
    "top": "150px",
    "width": "233.594px"
   },
   "toc_section_display": true,
   "toc_window_display": false
  }
 },
 "nbformat": 4,
 "nbformat_minor": 4
}
