{
 "cells": [
  {
   "cell_type": "markdown",
   "metadata": {},
   "source": [
    "[![Open In Colab](https://colab.research.google.com/assets/colab-badge.svg)](https://colab.research.google.com/github/sensioai/blog/blob/master/026_frameworks/frameworks.ipynb)"
   ]
  },
  {
   "cell_type": "markdown",
   "metadata": {},
   "source": [
    "# Frameworks de Redes Neuronales"
   ]
  },
  {
   "cell_type": "markdown",
   "metadata": {},
   "source": [
    "En el [post]() anterior desarrollamos nuestro propio framework de redes neuronales, un conjunto de clases de `Python` que nos permiten resolver problemas con la arquitectura conocida como `Perceptrón Multicapa`. Si bien nuestro framework es funcional y flexible, requiere que implementemos nueva funcionalidad cada vez que queramos probar algo nuevo. De la misma manera, nuestra implementación no es en ningún caso óptima. Es por este motivo que, hoy en día, la mayoría de investigadores e ingenieros utilizan frameworks desarrollados por terceros para llevar a cabo sus proyectos. Esto mismo es lo que haremos nosotros de ahora en adelante, y en este post vamos a ver algunos de los frameworks más utilizados para poder escoger uno."
   ]
  },
  {
   "cell_type": "markdown",
   "metadata": {},
   "source": [
    "## ¿Qué le pedimos a un framework?"
   ]
  },
  {
   "cell_type": "markdown",
   "metadata": {},
   "source": [
    "Ya seas estudiante, investigador, profesional o simplemente curioso llega un momento en el que tenemos que escoger un framework de `Deep Learning`. Hoy en día, la mayoría de frameworks nos ofrecen todo lo que podemos esperar, pero estos son varios puntos a tener en cuenta a la hora de elegir un framework:\n",
    "\n",
    "- Código optimizado\n",
    "- Procesado en paralelo (GPUs, TPUs)\n",
    "- Soporte de la comunidad (nuevas arquitecturas, datasets, ...)\n",
    "- Facilidad de uso (entender lo que se está haciendo)\n",
    "- Ecosistema: investigación, desarrollo y producción (servidores, web, móvil, IoT, ...)\n",
    "\n",
    "Aún así, dependiendo de tu flujo de trabajo o requisitos, es posible que te veas obligado a utilizar un framework en concreto (por ejemplo, CoreML para aplicaciones en iOS). El `Deep Learning` es una tecnología transversal, capaz de impactar multitud de industrias. Esto significa que, cuánto más fácil de utilizar sea un framework para gente que no está familiarizada con el mundo de la programación (médicos, artistas, arquitectos, atletas, ...), más impacto puede tener. Una vez vistas las características que le pedimos a un framework, éstas son las opciones más utilizadas hoy en día:\n",
    "\n",
    "- [Tensorflow](https://www.tensorflow.org/) (Google)\n",
    "- [Pytorch](https://pytorch.org/) (Facebook)\n",
    "- [MXNet](https://mxnet.apache.org/) (Amazon)\n",
    "- [CNTK](https://docs.microsoft.com/en-us/cognitive-toolkit/) (Microsoft)\n",
    "- [CoreML](https://developer.apple.com/documentation/coreml) (Apple - iOS)\n",
    "\n",
    "Puedes investigar los diferentes frameworks, ver ejemplos y probarlos para ver cuál se adapta mejor a tus necesidades. Sin embargo, a día de hoy, los claros ganadores en este ecosistema son `Tensorflow` y `Pytorch`."
   ]
  },
  {
   "cell_type": "markdown",
   "metadata": {},
   "source": [
    "## Tensorflow"
   ]
  },
  {
   "cell_type": "markdown",
   "metadata": {},
   "source": [
    "Desarrollado por Google, `Tensorflow` es probablemente el framework más utilizado hoy en día (sobretodo en la industria). Este framework destaca por su gran ecosistema y herramientas disponibles a la hora de desplegar redes neuronales en aplicaciones web o móviles. Desde la publicación de la versión 2.X, se ha facilitado su uso y flexibilidad. Además, gracias a su API de alto nivel `Keras`, los usuarios de este framework pueden disfrutar de una gran funcionalidad con una simple implementación. Vamos a ver como resolver uno de los problemas en los que hemos trabajado anteriormente para comparar nuestra implementación con la que nos ofrece `Tensorflow`.\n",
    "\n",
    "En primer lugar, descargamos el dataset *Iris* para clasificación de flores en 3 clases en función de la longitud y el ancho de sus pétalos."
   ]
  },
  {
   "cell_type": "code",
   "execution_count": 1,
   "metadata": {
    "ExecuteTime": {
     "end_time": "2020-08-14T13:22:17.834620Z",
     "start_time": "2020-08-14T13:22:17.347600Z"
    }
   },
   "outputs": [
    {
     "data": {
      "text/plain": [
       "((150, 2), (150,))"
      ]
     },
     "execution_count": 1,
     "metadata": {},
     "output_type": "execute_result"
    }
   ],
   "source": [
    "from sklearn.datasets import load_iris\n",
    "\n",
    "iris = load_iris()\n",
    "X = iris.data[:, (2, 3)]  # petal length, petal width\n",
    "Y = iris.target\n",
    "\n",
    "# normalización datos\n",
    "X_mean, X_std = X.mean(axis=0), X.std(axis=0)\n",
    "X_norm = (X - X_mean) / X_std\n",
    "\n",
    "X.shape, Y.shape"
   ]
  },
  {
   "cell_type": "code",
   "execution_count": 2,
   "metadata": {
    "ExecuteTime": {
     "end_time": "2020-08-14T13:22:18.154620Z",
     "start_time": "2020-08-14T13:22:17.835621Z"
    }
   },
   "outputs": [
    {
     "data": {
      "image/png": "[encoded data removed]",
      "text/plain": [
       "<Figure size 432x288 with 1 Axes>"
      ]
     },
     "metadata": {
      "needs_background": "light"
     },
     "output_type": "display_data"
    }
   ],
   "source": [
    "import matplotlib.pyplot as plt \n",
    "\n",
    "plt.plot(X[Y==0, 0], X[Y==0, 1], 's', label=\"Iris Setosa\")\n",
    "plt.plot(X[Y==1, 0], X[Y==1, 1], 'x', label=\"Iris Versicolor\")\n",
    "plt.plot(X[Y==2, 0], X[Y==2, 1], 'o', label=\"Iris Virginica\")\n",
    "plt.grid()\n",
    "plt.legend()\n",
    "plt.xlabel('petal length', fontsize=14)\n",
    "plt.ylabel('petal width', fontsize=14)\n",
    "plt.title(\"Iris dataset\", fontsize=14)\n",
    "plt.show()"
   ]
  },
  {
   "cell_type": "markdown",
   "metadata": {},
   "source": [
    "Para empezar a trabajar con `Tensorflow`, primero tenemos que importarlo. Podrás instalarlo en tu máquina con el comando `pip install tenorflow`."
   ]
  },
  {
   "cell_type": "code",
   "execution_count": 3,
   "metadata": {
    "ExecuteTime": {
     "end_time": "2020-08-14T13:22:19.803884Z",
     "start_time": "2020-08-14T13:22:18.155621Z"
    }
   },
   "outputs": [
    {
     "data": {
      "text/plain": [
       "'2.3.0-dev20200522'"
      ]
     },
     "execution_count": 3,
     "metadata": {},
     "output_type": "execute_result"
    }
   ],
   "source": [
    "import tensorflow as tf\n",
    "import tensorflow.keras as keras\n",
    "\n",
    "tf.__version__"
   ]
  },
  {
   "cell_type": "markdown",
   "metadata": {},
   "source": [
    "Ahora, definimos la arquitectura de nuestra red neuronal. Para ello tenemos varias opciones, en este caso utilizaremos la API funcional que nos ofrece `Keras`."
   ]
  },
  {
   "cell_type": "code",
   "execution_count": 4,
   "metadata": {
    "ExecuteTime": {
     "end_time": "2020-08-14T13:22:20.007621Z",
     "start_time": "2020-08-14T13:22:19.805884Z"
    }
   },
   "outputs": [
    {
     "name": "stdout",
     "output_type": "stream",
     "text": [
      "Model: \"functional_1\"\n",
      "_________________________________________________________________\n",
      "Layer (type)                 Output Shape              Param #   \n",
      "=================================================================\n",
      "input_1 (InputLayer)         [(None, 2)]               0         \n",
      "_________________________________________________________________\n",
      "dense (Dense)                (None, 64)                192       \n",
      "_________________________________________________________________\n",
      "dense_1 (Dense)              (None, 3)                 195       \n",
      "=================================================================\n",
      "Total params: 387\n",
      "Trainable params: 387\n",
      "Non-trainable params: 0\n",
      "_________________________________________________________________\n"
     ]
    }
   ],
   "source": [
    "inputs = keras.Input(shape=(2,))\n",
    "x = keras.layers.Dense(64, activation=\"relu\")(inputs)\n",
    "outputs = keras.layers.Dense(3)(x)\n",
    "model = keras.Model(inputs=inputs, outputs=outputs)\n",
    "model.summary()"
   ]
  },
  {
   "cell_type": "markdown",
   "metadata": {},
   "source": [
    "Como puedes ver, primero definimos la capa `Input` donde indicamos las dimensiones de nuestros datos de entrada. Después, definimos las diferentes capas que queremos utilizar. Aquí, usamos la capa `Dense` que es equivalente a nuestra capa `Linear`, el `Perceptrón`. Como puedes ver, en `Keras` podemos incluir la función de activación directamente en la misma capa. Puedes utilizar el número de capas `Dense` que quieras, siempre y cuando la última tenga tantas neuronas como clases para clasificar (en este caso 3). Una vez definidas las capas, podemos crear el objeto `model` el cual nos ofrece toda la funcionalidad que usaremos de ahora en adelante para entrenar y obtener predicciones. La funcioón `summary` nos da información muy interesante sobre nuestro modelo, como el número de capas, parámetros entrenables, etc. Una vez definida la arquitectura, usamos la función `compile` para indicar qué optimizador usaremos, la función de pérdida (con su correspondiente *learning rate*) y las métricas que deseamos observar durante el entrenamiento."
   ]
  },
  {
   "cell_type": "code",
   "execution_count": 5,
   "metadata": {
    "ExecuteTime": {
     "end_time": "2020-08-14T13:22:20.023620Z",
     "start_time": "2020-08-14T13:22:20.008621Z"
    }
   },
   "outputs": [],
   "source": [
    "model.compile(\n",
    "    loss=keras.losses.SparseCategoricalCrossentropy(from_logits=True),\n",
    "    optimizer=keras.optimizers.SGD(lr=0.1),\n",
    "    metrics=[\"accuracy\"],\n",
    ")"
   ]
  },
  {
   "cell_type": "markdown",
   "metadata": {},
   "source": [
    "Finalmente, podemos entrenar nuestro modelo con la función `fit` indicando el número de epochs y batch size de manera sencilla."
   ]
  },
  {
   "cell_type": "code",
   "execution_count": 6,
   "metadata": {
    "ExecuteTime": {
     "end_time": "2020-08-14T13:22:20.355621Z",
     "start_time": "2020-08-14T13:22:20.024620Z"
    }
   },
   "outputs": [
    {
     "name": "stdout",
     "output_type": "stream",
     "text": [
      "Epoch 1/10\n",
      "15/15 [==============================] - 0s 533us/step - loss: 0.7981 - accuracy: 0.6200\n",
      "Epoch 2/10\n",
      "15/15 [==============================] - 0s 467us/step - loss: 0.4971 - accuracy: 0.8000\n",
      "Epoch 3/10\n",
      "15/15 [==============================] - 0s 467us/step - loss: 0.3884 - accuracy: 0.8933\n",
      "Epoch 4/10\n",
      "15/15 [==============================] - 0s 467us/step - loss: 0.3198 - accuracy: 0.9600\n",
      "Epoch 5/10\n",
      "15/15 [==============================] - 0s 467us/step - loss: 0.2713 - accuracy: 0.9667\n",
      "Epoch 6/10\n",
      "15/15 [==============================] - 0s 533us/step - loss: 0.2388 - accuracy: 0.9533\n",
      "Epoch 7/10\n",
      "15/15 [==============================] - 0s 467us/step - loss: 0.2094 - accuracy: 0.9800\n",
      "Epoch 8/10\n",
      "15/15 [==============================] - 0s 467us/step - loss: 0.1883 - accuracy: 0.9533\n",
      "Epoch 9/10\n",
      "15/15 [==============================] - 0s 533us/step - loss: 0.1735 - accuracy: 0.9600\n",
      "Epoch 10/10\n",
      "15/15 [==============================] - 0s 467us/step - loss: 0.1580 - accuracy: 0.9533\n"
     ]
    },
    {
     "data": {
      "text/plain": [
       "<tensorflow.python.keras.callbacks.History at 0x2109361ca88>"
      ]
     },
     "execution_count": 6,
     "metadata": {},
     "output_type": "execute_result"
    }
   ],
   "source": [
    "model.fit(X_norm, Y, batch_size=10, epochs=10)"
   ]
  },
  {
   "cell_type": "markdown",
   "metadata": {},
   "source": [
    "Finalmente, podemos obtener predicciones con la función `predict`, que en este caso utilizamos para generar la visualización de las fronteras de decisión."
   ]
  },
  {
   "cell_type": "code",
   "execution_count": 7,
   "metadata": {
    "ExecuteTime": {
     "end_time": "2020-08-14T13:22:21.383368Z",
     "start_time": "2020-08-14T13:22:20.357621Z"
    }
   },
   "outputs": [
    {
     "data": {
      "image/png": "[encoded data removed]",
      "text/plain": [
       "<Figure size 432x288 with 1 Axes>"
      ]
     },
     "metadata": {
      "needs_background": "light"
     },
     "output_type": "display_data"
    }
   ],
   "source": [
    "from matplotlib.colors import ListedColormap\n",
    "import numpy as np\n",
    "\n",
    "def softmax(x):\n",
    "    return np.exp(x) / np.exp(x).sum(axis=-1,keepdims=True)\n",
    "\n",
    "resolution=0.02\n",
    "markers = ('s', 'x', 'o', '^', 'v')\n",
    "colors = ('red', 'blue', 'lightgreen', 'gray', 'cyan')\n",
    "cmap = ListedColormap(colors[:len(np.unique(Y))])\n",
    "\n",
    "# plot the decision surface\n",
    "x1_min, x1_max = X[:, 0].min() - 1, X[:, 0].max() + 1\n",
    "x2_min, x2_max = X[:, 1].min() - 1, X[:, 1].max() + 1\n",
    "xx1, xx2 = np.meshgrid(np.arange(x1_min, x1_max, resolution),\n",
    "                       np.arange(x2_min, x2_max, resolution))\n",
    "X_new = (np.array([xx1.ravel(), xx2.ravel()]).T - X_mean)/X_std\n",
    "\n",
    "# cálculo de predicciones\n",
    "Z = model.predict(X_new)\n",
    "\n",
    "Z = np.argmax(softmax(Z), axis=1) \n",
    "Z = Z.reshape(xx1.shape)\n",
    "plt.contourf(xx1, xx2, Z, alpha=0.3, cmap=cmap)\n",
    "plt.xlim(xx1.min(), xx1.max())\n",
    "plt.ylim(xx2.min(), xx2.max())\n",
    "plt.xlabel('petal length', fontsize=14)\n",
    "plt.ylabel('petal width', fontsize=14)\n",
    "classes = [\"Iris-Setosa\", \"Iris-Versicolor\", \"Iris-Virginica\"]\n",
    "for idx, cl in enumerate(np.unique(Y)):\n",
    "    plt.scatter(x=X[Y == cl, 0], \n",
    "                y=X[Y == cl, 1],\n",
    "                alpha=0.8, \n",
    "                c=colors[idx],\n",
    "                marker=markers[idx], \n",
    "                label=classes[cl], \n",
    "                edgecolor='black')\n",
    "plt.legend(loc='upper left', fontsize=14)\n",
    "plt.show()"
   ]
  },
  {
   "cell_type": "markdown",
   "metadata": {},
   "source": [
    "Como puede ver, `Tensorflow` (y en particular `Keras`) nos permite resolver los problemas que ya conocemos de una manera muy sencilla. Obviamente, hay muchísimo más en `Tensorflow` y `Keras` de lo que hemos visto en este sencillo ejemplo (como por ejemplo guardar y cargar modelos, customizar el bucle de entrenamiento, etc). El objetivo es simplemente el de presentar estas nuevas herramientas y cómo utilizarlas para resolver los casos que hemos visto en posts anteriores. En posts futuros entraremos en más detalle en la funcionalidad que nos ofrece `Tensorflow` resolviendo problemas mucho más interesantes."
   ]
  },
  {
   "cell_type": "markdown",
   "metadata": {},
   "source": [
    "## Pytorch"
   ]
  },
  {
   "cell_type": "markdown",
   "metadata": {},
   "source": [
    "Una alternativa a `Tensorflow` que está creciendo en popularidad los últimos años (y mi framework favorito) es `Pytorch`. Desarrollado por Facebook, este framework destaca por su facilidad de uso y flexibilidad gracias a su diseño, muy similar al de `NumPy`. Vamos a ver como resolver el mismo problema con este framework. Empezamos, como siempre, importando la librería."
   ]
  },
  {
   "cell_type": "code",
   "execution_count": 8,
   "metadata": {
    "ExecuteTime": {
     "end_time": "2020-08-14T13:22:21.700362Z",
     "start_time": "2020-08-14T13:22:21.384370Z"
    }
   },
   "outputs": [],
   "source": [
    "import torch"
   ]
  },
  {
   "cell_type": "markdown",
   "metadata": {},
   "source": [
    "Puedes instalarlo con el comando `pip install pytorch`, aunque te recomiendo instalarlo con `conda` sobre todo si quieres soporte para GPU (puedes encontrar instricciones de instalación en https://pytorch.org/). Ahora, podemos definir nuestro `MLP` de la siguiente manera"
   ]
  },
  {
   "cell_type": "code",
   "execution_count": 9,
   "metadata": {
    "ExecuteTime": {
     "end_time": "2020-08-14T13:22:21.715363Z",
     "start_time": "2020-08-14T13:22:21.701364Z"
    }
   },
   "outputs": [],
   "source": [
    "model = torch.nn.Sequential(\n",
    "    torch.nn.Linear(2, 64),\n",
    "    torch.nn.ReLU(),\n",
    "    torch.nn.Linear(64, 3)\n",
    ")"
   ]
  },
  {
   "cell_type": "markdown",
   "metadata": {},
   "source": [
    "`Pytorch` nos ofrece funcionalidad para crear redes neuronales en el paquete `nn`. En este caso utilizamos la clase `Sequential` que nos permite definir una serie de capas de manera secuencial, justo lo que queremos para nuestro `MLP`. La clase `Linear` implementa el `Perceptrón`, mientras que `ReLU` implementa la función de activación `relu`. Igual que hemos hecho antes, utilizamos dos neuronas a la entrada, una capa oculta de 64 neuronas y 3 neuronas a la salida para la clasificación final. Ahora definimos nuestro algoritmo de optimización y la función de pérdida que usaremos. Para ello usamos el paquete `optim` y `nn` respectivamente."
   ]
  },
  {
   "cell_type": "code",
   "execution_count": 10,
   "metadata": {
    "ExecuteTime": {
     "end_time": "2020-08-14T13:22:21.731363Z",
     "start_time": "2020-08-14T13:22:21.716368Z"
    }
   },
   "outputs": [],
   "source": [
    "optimizer = torch.optim.SGD(model.parameters(), lr=0.1)\n",
    "criterion = torch.nn.CrossEntropyLoss()"
   ]
  },
  {
   "cell_type": "markdown",
   "metadata": {},
   "source": [
    "Por último, implementamos nuestro bucle de entrenamiento."
   ]
  },
  {
   "cell_type": "code",
   "execution_count": 11,
   "metadata": {
    "ExecuteTime": {
     "end_time": "2020-08-14T13:22:21.795447Z",
     "start_time": "2020-08-14T13:22:21.732367Z"
    }
   },
   "outputs": [
    {
     "name": "stdout",
     "output_type": "stream",
     "text": [
      "Epoch 1/10, Loss: 0.6052\n",
      "Epoch 2/10, Loss: 0.4992\n",
      "Epoch 3/10, Loss: 0.4272\n",
      "Epoch 4/10, Loss: 0.3762\n",
      "Epoch 5/10, Loss: 0.3386\n",
      "Epoch 6/10, Loss: 0.3097\n",
      "Epoch 7/10, Loss: 0.2868\n",
      "Epoch 8/10, Loss: 0.2681\n",
      "Epoch 9/10, Loss: 0.2527\n",
      "Epoch 10/10, Loss: 0.2397\n"
     ]
    }
   ],
   "source": [
    "epochs = 10\n",
    "batch_size = 10\n",
    "\n",
    "batches = len(X) // batch_size\n",
    "log_each = 1\n",
    "l = []\n",
    "for e in range(1,epochs+1):\n",
    "    _l = []\n",
    "    for b in range(batches):\n",
    "        x = torch.tensor(X_norm[b*batch_size:(b+1)*batch_size]).float()\n",
    "        y = torch.tensor(Y[b*batch_size:(b+1)*batch_size]).long()\n",
    "        optimizer.zero_grad()\n",
    "        y_pred = model(x)    \n",
    "        loss = criterion(y_pred, y)\n",
    "        _l.append(loss.item())\n",
    "        loss.backward()    \n",
    "        optimizer.step()\n",
    "    l.append(np.mean(_l))\n",
    "    if not e % log_each:\n",
    "        print(f'Epoch {e}/{epochs}, Loss: {np.mean(l):.4f}')"
   ]
  },
  {
   "cell_type": "code",
   "execution_count": 12,
   "metadata": {
    "ExecuteTime": {
     "end_time": "2020-08-14T13:22:21.955478Z",
     "start_time": "2020-08-14T13:22:21.796480Z"
    }
   },
   "outputs": [
    {
     "data": {
      "image/png": "[encoded data removed]",
      "text/plain": [
       "<Figure size 432x288 with 1 Axes>"
      ]
     },
     "metadata": {
      "needs_background": "light"
     },
     "output_type": "display_data"
    }
   ],
   "source": [
    "# cálculo de predicciones\n",
    "with torch.no_grad():\n",
    "    Z = model(torch.tensor(X_new).float())\n",
    "\n",
    "Z = np.argmax(softmax(Z.numpy()), axis=1) \n",
    "Z = Z.reshape(xx1.shape)\n",
    "plt.contourf(xx1, xx2, Z, alpha=0.3, cmap=cmap)\n",
    "plt.xlim(xx1.min(), xx1.max())\n",
    "plt.ylim(xx2.min(), xx2.max())\n",
    "plt.xlabel('petal length', fontsize=14)\n",
    "plt.ylabel('petal width', fontsize=14)\n",
    "classes = [\"Iris-Setosa\", \"Iris-Versicolor\", \"Iris-Virginica\"]\n",
    "for idx, cl in enumerate(np.unique(Y)):\n",
    "    plt.scatter(x=X[Y == cl, 0], \n",
    "                y=X[Y == cl, 1],\n",
    "                alpha=0.8, \n",
    "                c=colors[idx],\n",
    "                marker=markers[idx], \n",
    "                label=classes[cl], \n",
    "                edgecolor='black')\n",
    "plt.legend(loc='upper left', fontsize=14)\n",
    "plt.show()"
   ]
  },
  {
   "cell_type": "markdown",
   "metadata": {},
   "source": [
    "Como puedes observar, en `Pytorch` no tenemos disponibles funciones como `fit` o `predict` que `Keras` nos oferece. Esto significa que, en general, `Pytorch` requiere más implementación por nuestra parte (lo cual aumenta las posibilidades de introducir errores). Este es el principal motivo por el que mucha gente, sobre todo principiantes, eligen utilizar `Tensorflow` junto a `Keras`. Sin embargo, este misma propiedad le da `Pytorch` una flexibilidad enorme cuando lo comparamos con otros frameworks. Al final, como comentábamos al principio del post, dependerá de tu caso de uso y preferencias. Existen proyectos similiares a `Keras` para `Pytorch`, algunos ejemplos son [Pytorch Lightning](https://github.com/PyTorchLightning/pytorch-lightning) y [FastAI](https://github.com/fastai/fastai)."
   ]
  },
  {
   "cell_type": "markdown",
   "metadata": {},
   "source": [
    "> ⚡ ¿Te ves capaz de implementar en `Pytorch` un interfaz similar a la de `Keras`? Implementar tu propio `Keras` en `Pytorch` es un ejercicio muy interesante para aprender como funciona por dentro `Keras`, incluso si quieres tener tu propio framework flexible y potente."
   ]
  },
  {
   "cell_type": "markdown",
   "metadata": {},
   "source": [
    "De nuevo, en este post hemos visto un simple ejemplo de como resolver los problemas que hemos visto anteriormente con estas nuevas herramientas. En futuros posts entraremos en mucho más detalle para conocer toda la funcionalidad que `Pytorch` nos oferece a la hora de diseñar, entrenar y poner en producción nuestras `redes neuronales`."
   ]
  },
  {
   "cell_type": "markdown",
   "metadata": {},
   "source": [
    "## Interoperabilidad"
   ]
  },
  {
   "cell_type": "markdown",
   "metadata": {},
   "source": [
    "Antes de terminar me gustaría hacer una mención al concepto de interoperabilidad. Existen varios proyectos cuyo objetivo es el de estandarizar la manera en la que representamos `redes neuronales` de manera que, por ejemplo, podamos diseñar una red en `Tensorflow`, entrenarla en `Pytorch` y ponerla en producción en otro framework, como `CoreML` si estamos desarrollando una APP en iOS. De entre estos proyectos destaca [ONNX](https://onnx.ai/). Tanto `Tensorflow` como `Pytorch` soportan el guardado y cargado de redes neuronales en este formato, por lo que puede ser una buena solución si quieres compartir modelos entre varios frameworks."
   ]
  },
  {
   "cell_type": "markdown",
   "metadata": {},
   "source": [
    "## Resumen"
   ]
  },
  {
   "cell_type": "markdown",
   "metadata": {},
   "source": [
    "En este post hemos hablado sobre frameworks de redes neuronales. Hemos visto qué le pedimos a un framework para trabajar con él (aunque en función de la aplicación en la que trabajemos es posible que tengamos que conformarnos con uno en particular) y cómo resolver los problemas que conocemos de posts anteriores y que ya hemos resuelto con nuestro propio framework implementado desde cero. Gracias a ello, ahora somos capaces de entender como funcionan los frameworks de terceros por dentro, lo cual nos permitirá de manera sencilla trabajar con ellos a la hora de entrenar modelos más complicados. En este post hemos hecho una pequeña introducción a `Tensorflow` y `Pytorch`, los frameworks más utilizados hoy en día. En futuros posts entraremos en detalle para conocer más a fondo estos frameworks y todas las opciones que nos ofrecen."
   ]
  }
 ],
 "metadata": {
  "kernelspec": {
   "display_name": "Python 3",
   "language": "python",
   "name": "python3"
  },
  "language_info": {
   "codemirror_mode": {
    "name": "ipython",
    "version": 3
   },
   "file_extension": ".py",
   "mimetype": "text/x-python",
   "name": "python",
   "nbconvert_exporter": "python",
   "pygments_lexer": "ipython3",
   "version": "3.7.6"
  },
  "toc": {
   "base_numbering": 1,
   "nav_menu": {},
   "number_sections": true,
   "sideBar": true,
   "skip_h1_title": false,
   "title_cell": "Table of Contents",
   "title_sidebar": "Contents",
   "toc_cell": false,
   "toc_position": {
    "height": "calc(100% - 180px)",
    "left": "10px",
    "top": "150px",
    "width": "233.594px"
   },
   "toc_section_display": true,
   "toc_window_display": false
  }
 },
 "nbformat": 4,
 "nbformat_minor": 4
}
