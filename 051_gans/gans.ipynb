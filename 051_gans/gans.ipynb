{
 "cells": [
  {
   "cell_type": "markdown",
   "metadata": {},
   "source": [
    "[![Open In Colab](https://colab.research.google.com/assets/colab-badge.svg)](https://colab.research.google.com/github/sensioai/blog/blob/master/051_gans/gans.ipynb)"
   ]
  },
  {
   "cell_type": "markdown",
   "metadata": {},
   "source": [
    "# GANs\n",
    "\n",
    "GANs (*generative adversarial networks*) es una arquitectura de red neuronal propuesta en 2014 por [Ian Goodfellow](https://arxiv.org/pdf/1406.2661.pdf) y otros con el objetivo de obtener modelos capaces de generar datos realistas, principalmente imágenes. Pese a la simplicidad de la idea original, se tardó varios años en superar varias de las dificultades que presenta su entrenamiento. Hoy en día, sin embargo, se utilizan para obtener resultados espectaculares. Algunos ejemplos son:\n",
    "\n",
    "- Generación de caras: https://www.thispersondoesnotexist.com/\n",
    "- Generación de anuncios de Airbnb: https://thisrentaldoesnotexist.com/\n",
    "- Super-resolución: https://www.youtube.com/watch?v=3RYNThid23g\n",
    "- Colorización: https://github.com/jantic/DeOldify\n",
    "- Generación de paisajes: http://nvidia-research-mingyuliu.com/gaugan\n",
    "- Y muchos otros."
   ]
  },
  {
   "cell_type": "markdown",
   "metadata": {},
   "source": [
    "## La arquitectura\n",
    "\n",
    "La arquitectura básica de las *GANs* está formada por dos redes neuronales:\n",
    "\n",
    "- El **generador**: recibe a la entrada valores aleatorios (normalmente obtenidos de una distribución de tipo gausiana) y da a la salida una imagen. Puedes ver la entrada aleatoria como una representación latente (o codificación) de la imagen generada.\n",
    "- El **discriminador**: recibe a la entrada una imagen (real o generada por el generador) y tiene que decidir si bien la imagen es real o falsa.\n",
    "\n",
    "![](https://www.researchgate.net/publication/336781462/figure/fig2/AS:817722363494401@1571971612898/Example-of-a-typical-GANs-architecture-for-both-hand-written-digits-recognition-and.png)\n",
    "\n",
    "Durante el entrenamiento, el generador y el discriminador compiten entre ellos. Por un lado, el generador intenta generar imágenes cada vez más realistas para poder engañar al discriminador. Por otro lado, el generador cada vez será más bueno diferenciando imágenes reales de las generadas artificialmente por el generador. Esto implica que no podemos entrenar una *GAN* como hemos entrenado el resto de redes neuronales. El objetivo final será el de obtener un generador tan bueno que nuestro discriminador no sea capaz de diferenciar imágenes reales de falsas. Ésto impone unas restricciones muy fuertes en el proceso de entrenamiento, haciendo que sea difícil si no lo hacemos de la forma adecuada."
   ]
  },
  {
   "cell_type": "markdown",
   "metadata": {},
   "source": [
    "## El entrenamiento\n",
    "\n",
    "Para poder entrenar una *GAN* de manera efectiva, lo haremos en dos pasos: \n",
    "\n",
    "1. En una primera fase, entrenamos el discriminador. En cada iteración, le daremos un *batch* compuesto de imágenes reales obtenidas del dataset e imágenes falsas generadas por el generador. Definiremos un conjunto de etiquetas a 0 para las imágenes falsas y 1 para las reales. Entonces, optimizaremos el discriminador (utilizando una función de pérdida de tipo *binary cross-entropy* mejorando así sus capacidades de distinguir imágenes falsas de reales.\n",
    "2. En la segunda fase, entrenamos el generador. En cada iteración, le daremos un *batch* compuesto de ruido aleatorio para que genere imágenes. Estas imágenes son introducidas en el discriminador, cuyas salidas (etiquetas real/falso) con comparadas con un conjunto de etiquetas definidas como reales. Entonces, optimizaremos el generador (utilizando de nuevo la misma función de pérdida) de manera que el generador actualizará sus pesos para generar imágenes que engañen al discriminador."
   ]
  },
  {
   "cell_type": "markdown",
   "metadata": {},
   "source": [
    "> 💡 Como puedes observar, el generador nunca llega a ver las imágenes reales. Sin embargo es capaz de generar imágenes realistas simplemente intentando engañar al discriminador. Cuánto mejor sea el discriminador, mejor será el generador."
   ]
  },
  {
   "cell_type": "markdown",
   "metadata": {},
   "source": [
    "## GAN simple\n",
    "\n",
    "Vamos a ver cómo podemos implementar esta arquitectura y proceso de entrenamiento con la implementación de una *GAN* muy simple para generar imágenes del dataset Fashion MNIST."
   ]
  },
  {
   "cell_type": "code",
   "execution_count": 1,
   "metadata": {
    "ExecuteTime": {
     "end_time": "2020-10-08T11:16:24.375971Z",
     "start_time": "2020-10-08T11:16:21.379024Z"
    }
   },
   "outputs": [
    {
     "data": {
      "text/plain": [
       "'cpu'"
      ]
     },
     "execution_count": 1,
     "metadata": {},
     "output_type": "execute_result"
    }
   ],
   "source": [
    "import torch\n",
    "import torchvision\n",
    "\n",
    "device = \"cuda\" if torch.cuda.is_available() else \"cpu\"\n",
    "device"
   ]
  },
  {
   "cell_type": "code",
   "execution_count": 2,
   "metadata": {
    "ExecuteTime": {
     "end_time": "2020-10-08T11:16:35.183733Z",
     "start_time": "2020-10-08T11:16:28.006891Z"
    }
   },
   "outputs": [
    {
     "name": "stdout",
     "output_type": "stream",
     "text": [
      "Downloading http://fashion-mnist.s3-website.eu-central-1.amazonaws.com/train-images-idx3-ubyte.gz to ./data/FashionMNIST/raw/train-images-idx3-ubyte.gz\n"
     ]
    },
    {
     "data": {
      "application/vnd.jupyter.widget-view+json": {
       "model_id": "e030148c58fa450484c7b3a536ceaaa5",
       "version_major": 2,
       "version_minor": 0
      },
      "text/plain": [
       "HBox(children=(IntProgress(value=1, bar_style='info', max=1), HTML(value='')))"
      ]
     },
     "metadata": {},
     "output_type": "display_data"
    },
    {
     "name": "stdout",
     "output_type": "stream",
     "text": [
      "Extracting ./data/FashionMNIST/raw/train-images-idx3-ubyte.gz to ./data/FashionMNIST/raw\n",
      "Downloading http://fashion-mnist.s3-website.eu-central-1.amazonaws.com/train-labels-idx1-ubyte.gz to ./data/FashionMNIST/raw/train-labels-idx1-ubyte.gz\n"
     ]
    },
    {
     "data": {
      "application/vnd.jupyter.widget-view+json": {
       "model_id": "b2c28bd29ea941dcbeef54f04da58dcf",
       "version_major": 2,
       "version_minor": 0
      },
      "text/plain": [
       "HBox(children=(IntProgress(value=1, bar_style='info', max=1), HTML(value='')))"
      ]
     },
     "metadata": {},
     "output_type": "display_data"
    },
    {
     "name": "stdout",
     "output_type": "stream",
     "text": [
      "Extracting ./data/FashionMNIST/raw/train-labels-idx1-ubyte.gz to ./data/FashionMNIST/raw\n",
      "Downloading http://fashion-mnist.s3-website.eu-central-1.amazonaws.com/t10k-images-idx3-ubyte.gz to ./data/FashionMNIST/raw/t10k-images-idx3-ubyte.gz\n"
     ]
    },
    {
     "data": {
      "application/vnd.jupyter.widget-view+json": {
       "model_id": "85e21b26c92e420ab54961b7af4f148c",
       "version_major": 2,
       "version_minor": 0
      },
      "text/plain": [
       "HBox(children=(IntProgress(value=1, bar_style='info', max=1), HTML(value='')))"
      ]
     },
     "metadata": {},
     "output_type": "display_data"
    },
    {
     "name": "stdout",
     "output_type": "stream",
     "text": [
      "Extracting ./data/FashionMNIST/raw/t10k-images-idx3-ubyte.gz to ./data/FashionMNIST/raw\n",
      "Downloading http://fashion-mnist.s3-website.eu-central-1.amazonaws.com/t10k-labels-idx1-ubyte.gz to ./data/FashionMNIST/raw/t10k-labels-idx1-ubyte.gz\n",
      "\n",
      "\n"
     ]
    },
    {
     "data": {
      "application/vnd.jupyter.widget-view+json": {
       "model_id": "ae8de86d52d6496ba8727058e74b293a",
       "version_major": 2,
       "version_minor": 0
      },
      "text/plain": [
       "HBox(children=(IntProgress(value=1, bar_style='info', max=1), HTML(value='')))"
      ]
     },
     "metadata": {},
     "output_type": "display_data"
    },
    {
     "name": "stdout",
     "output_type": "stream",
     "text": [
      "Extracting ./data/FashionMNIST/raw/t10k-labels-idx1-ubyte.gz to ./data/FashionMNIST/raw\n",
      "Processing...\n"
     ]
    },
    {
     "name": "stderr",
     "output_type": "stream",
     "text": [
      "/Users/juansensio/miniconda3/lib/python3.7/site-packages/torchvision/datasets/mnist.py:469: UserWarning: The given NumPy array is not writeable, and PyTorch does not support non-writeable tensors. This means you can write to the underlying (supposedly non-writeable) NumPy array using the tensor. You may want to copy the array to protect its data or make it writeable before converting it to a tensor. This type of warning will be suppressed for the rest of this program. (Triggered internally at  /Users/distiller/project/conda/conda-bld/pytorch_1595629430416/work/torch/csrc/utils/tensor_numpy.cpp:141.)\n",
      "  return torch.from_numpy(parsed.astype(m[2], copy=False)).view(*s)\n"
     ]
    },
    {
     "name": "stdout",
     "output_type": "stream",
     "text": [
      "Done!\n"
     ]
    }
   ],
   "source": [
    "trainset = torchvision.datasets.FashionMNIST(root='./data', train=True, download=True)\n",
    "\n",
    "classes = (\"t-shirt\", \"trousers\", \"pullover\", \"dress\", \"coat\", \"sandal\", \"shirt\", \"sneaker\", \"bag\", \"ankle boot\")"
   ]
  },
  {
   "cell_type": "code",
   "execution_count": 22,
   "metadata": {
    "ExecuteTime": {
     "end_time": "2020-10-08T11:35:42.024420Z",
     "start_time": "2020-10-08T11:35:32.203207Z"
    }
   },
   "outputs": [
    {
     "data": {
      "text/plain": [
       "60000"
      ]
     },
     "execution_count": 22,
     "metadata": {},
     "output_type": "execute_result"
    }
   ],
   "source": [
    "import numpy as np\n",
    "\n",
    "class Dataset(torch.utils.data.Dataset):\n",
    "  def __init__(self, trainset):\n",
    "    self.imgs = torch.tensor([np.array(i[0]).flatten() / 255. for i in trainset], dtype=torch.float, device=device)\n",
    "    self.labels = torch.tensor([i[1] for i in trainset], dtype=torch.long, device=device)\n",
    "\n",
    "  def __len__(self):\n",
    "    return len(self.imgs)\n",
    "\n",
    "  def __getitem__(self, ix):\n",
    "    return self.imgs[ix], self.labels[ix]\n",
    "\n",
    "train = Dataset(trainset)\n",
    "len(train)"
   ]
  },
  {
   "cell_type": "code",
   "execution_count": 29,
   "metadata": {
    "ExecuteTime": {
     "end_time": "2020-10-08T11:36:42.960160Z",
     "start_time": "2020-10-08T11:36:42.933582Z"
    }
   },
   "outputs": [
    {
     "data": {
      "text/plain": [
       "(torch.Size([784]), torch.float32, tensor(1.), tensor(0.))"
      ]
     },
     "execution_count": 29,
     "metadata": {},
     "output_type": "execute_result"
    }
   ],
   "source": [
    "img, label = train[0]\n",
    "img.shape, img.dtype, img.max(), img.min()"
   ]
  },
  {
   "cell_type": "code",
   "execution_count": 60,
   "metadata": {
    "ExecuteTime": {
     "end_time": "2020-10-08T11:58:00.419593Z",
     "start_time": "2020-10-08T11:58:00.405988Z"
    }
   },
   "outputs": [
    {
     "data": {
      "text/plain": [
       "(torch.Size([16, 784]), torch.Size([16]))"
      ]
     },
     "execution_count": 60,
     "metadata": {},
     "output_type": "execute_result"
    }
   ],
   "source": [
    "dataloader = torch.utils.data.DataLoader(train, batch_size=16, shuffle=True)\n",
    "\n",
    "imgs, labels = next(iter(dataloader))\n",
    "imgs.shape, labels.shape"
   ]
  },
  {
   "cell_type": "markdown",
   "metadata": {},
   "source": [
    "El dataset está formado por 60000 imágenes de baja resolución (28 x 28 píxeles, en blanco y negro) y contiene 10 tipos prendas de ropa (camisetas, pantalones, etc)."
   ]
  },
  {
   "cell_type": "code",
   "execution_count": 61,
   "metadata": {
    "ExecuteTime": {
     "end_time": "2020-10-08T11:58:01.894456Z",
     "start_time": "2020-10-08T11:58:01.289996Z"
    }
   },
   "outputs": [
    {
     "data": {
      "image/png": "[encoded data removed]",
      "text/plain": [
       "<Figure size 1080x648 with 15 Axes>"
      ]
     },
     "metadata": {
      "needs_background": "light"
     },
     "output_type": "display_data"
    }
   ],
   "source": [
    "import random \n",
    "import matplotlib.pyplot as plt\n",
    "\n",
    "r, c = 3, 5\n",
    "plt.figure(figsize=(c*3, r*3))\n",
    "for row in range(r):\n",
    "    for col in range(c):\n",
    "        index = c*row + col\n",
    "        plt.subplot(r, c, index + 1)\n",
    "        ix = random.randint(0, len(train)-1)\n",
    "        img, label = train[ix]\n",
    "        plt.imshow(img.reshape(28,28))\n",
    "        plt.axis('off')\n",
    "        plt.title(classes[label.item()])\n",
    "plt.subplots_adjust(wspace=0.1, hspace=0.2)\n",
    "plt.show()"
   ]
  },
  {
   "cell_type": "markdown",
   "metadata": {},
   "source": [
    "El objetivo es entrenar una *GAN* que sea capaz de generar imágenes similares a las que tenemos en el dataset a partir de valores aleatorios (ruido). Para ello, como ya hemos visto en las secciones anteriores, necesitamos un **generador** y un **discrimiandor**. Para esta implementación simple usaremos la misma arquitectura para ambas redes, un Perceptrón Multicapa (MLP)."
   ]
  },
  {
   "cell_type": "code",
   "execution_count": 69,
   "metadata": {
    "ExecuteTime": {
     "end_time": "2020-10-08T11:59:55.131288Z",
     "start_time": "2020-10-08T11:59:55.123947Z"
    }
   },
   "outputs": [],
   "source": [
    "import torch.nn as nn\n",
    "\n",
    "def block(n_in, n_out):\n",
    "  return nn.Sequential(\n",
    "      nn.Linear(n_in, n_out),\n",
    "      nn.BatchNorm1d(n_out),\n",
    "      nn.ReLU(inplace=True)\n",
    "  )\n",
    "\n",
    "class MLP(nn.Module):\n",
    "  def __init__(self, input_size, output_size):\n",
    "    super().__init__()\n",
    "    self.input_size = input_size\n",
    "    self.fc1 = block(input_size, 150)\n",
    "    self.fc2 = block(150, 100)\n",
    "    self.fc3 = nn.Linear(100, output_size)\n",
    "\n",
    "  def forward(self, x):\n",
    "    x = self.fc1(x)\n",
    "    x = self.fc2(x)\n",
    "    x = self.fc3(x)\n",
    "    return x"
   ]
  },
  {
   "cell_type": "markdown",
   "metadata": {},
   "source": [
    "Nuestro MLP está formado por 3 capas lineales (cada capa seguida de una activación `relu`). En función del número de entradas y salidas definiremos las diferentes redes. Por ejemplo, el generador recibirá un vector con 30 valores aleatorios y nos dará a la salida un vector de 28 x 28 valores (igual que las imágenes del dataset)."
   ]
  },
  {
   "cell_type": "code",
   "execution_count": 70,
   "metadata": {
    "ExecuteTime": {
     "end_time": "2020-10-08T11:59:55.440992Z",
     "start_time": "2020-10-08T11:59:55.429831Z"
    }
   },
   "outputs": [],
   "source": [
    "n_in, n_out = 30, 28*28\n",
    "generator = MLP(n_in, n_out)"
   ]
  },
  {
   "cell_type": "code",
   "execution_count": 71,
   "metadata": {
    "ExecuteTime": {
     "end_time": "2020-10-08T11:59:55.580298Z",
     "start_time": "2020-10-08T11:59:55.565086Z"
    }
   },
   "outputs": [
    {
     "data": {
      "text/plain": [
       "torch.Size([64, 784])"
      ]
     },
     "execution_count": 71,
     "metadata": {},
     "output_type": "execute_result"
    }
   ],
   "source": [
    "output = generator(torch.randn(64, 30))\n",
    "output.shape"
   ]
  },
  {
   "cell_type": "markdown",
   "metadata": {},
   "source": [
    "Obviamente, nuestro generador inicializado genera imágenes aleatorias que en nada se parecen a las reales."
   ]
  },
  {
   "cell_type": "code",
   "execution_count": 72,
   "metadata": {
    "ExecuteTime": {
     "end_time": "2020-10-08T11:59:56.037921Z",
     "start_time": "2020-10-08T11:59:55.831406Z"
    }
   },
   "outputs": [
    {
     "data": {
      "image/png": "[encoded data removed]",
      "text/plain": [
       "<Figure size 432x288 with 1 Axes>"
      ]
     },
     "metadata": {
      "needs_background": "light"
     },
     "output_type": "display_data"
    }
   ],
   "source": [
    "plt.imshow(output[0].reshape(28,28).detach().numpy())\n",
    "plt.show()"
   ]
  },
  {
   "cell_type": "markdown",
   "metadata": {},
   "source": [
    "El discriminador, por otro lado, recibirá a la entrada una imagen (28 x 28 valores) y a la salida nos dará una clasificación binaria (real o falso)."
   ]
  },
  {
   "cell_type": "code",
   "execution_count": 73,
   "metadata": {
    "ExecuteTime": {
     "end_time": "2020-10-08T11:59:56.124260Z",
     "start_time": "2020-10-08T11:59:56.103145Z"
    }
   },
   "outputs": [
    {
     "data": {
      "text/plain": [
       "torch.Size([64, 1])"
      ]
     },
     "execution_count": 73,
     "metadata": {},
     "output_type": "execute_result"
    }
   ],
   "source": [
    "discriminator = MLP(28*28, 1)\n",
    "output = discriminator(torch.randn(64, 28*28))\n",
    "output.shape"
   ]
  },
  {
   "cell_type": "markdown",
   "metadata": {},
   "source": [
    "La siguiente función será la responsable de entrenar ambas redes."
   ]
  },
  {
   "cell_type": "code",
   "execution_count": 76,
   "metadata": {
    "ExecuteTime": {
     "end_time": "2020-10-08T12:00:11.688801Z",
     "start_time": "2020-10-08T12:00:11.671287Z"
    },
    "code_folding": [
     11
    ]
   },
   "outputs": [],
   "source": [
    "from fastprogress import master_bar, progress_bar\n",
    "\n",
    "def fit(g, d, dataloader, epochs=30):\n",
    "  g.to(device)\n",
    "  d.to(device)\n",
    "  g_optimizer = torch.optim.Adam(g.parameters(), lr=3e-4)\n",
    "  d_optimizer = torch.optim.Adam(d.parameters(), lr=3e-4)\n",
    "  crit = nn.BCEWithLogitsLoss()\n",
    "  g_loss, d_loss = [], []\n",
    "  mb = master_bar(range(1, epochs+1))\n",
    "  hist = {'g_loss': [], 'd_loss': []}\n",
    "  for epoch in mb:\n",
    "    for X, y in progress_bar(dataloader, parent=mb):\n",
    "      #X, y = X.to(device), y.to(device)  \n",
    "      # entrenamos el discriminador\n",
    "      g.eval()\n",
    "      d.train()\n",
    "      #   generamos un batch de imágenes falsas\n",
    "      noise = torch.randn((X.size(0), g.input_size)).to(device)\n",
    "      genenerated_images = g(noise)\n",
    "      #   input del discrminator\n",
    "      d_input = torch.cat([genenerated_images, X.view(X.size(0), -1)])\n",
    "      #   gorund truth para el discriminator\n",
    "      d_gt = torch.cat([torch.zeros(X.size(0)), torch.ones(X.size(0))]).view(-1,1).to(device)\n",
    "      #   optimización\n",
    "      d_optimizer.zero_grad()\n",
    "      d_output = d(d_input)\n",
    "      d_l = crit(d_output, d_gt)\n",
    "      d_l.backward()\n",
    "      d_optimizer.step()\n",
    "      d_loss.append(d_l.item())\n",
    "      # entrenamos el generador\n",
    "      g.train()\n",
    "      d.eval()\n",
    "      #   generamos un batch de imágenes falsas\n",
    "      noise = torch.randn((X.size(0), g.input_size)).to(device)\n",
    "      genenerated_images = g(noise)\n",
    "      #   salidas del discriminador\n",
    "      d_output = d(genenerated_images)\n",
    "      #   gorund truth para el generator\n",
    "      g_gt = torch.ones(X.size(0)).view(-1,1).to(device)\n",
    "      #   optimización\n",
    "      g_optimizer.zero_grad()\n",
    "      g_l = crit(d_output, g_gt)\n",
    "      g_l.backward()\n",
    "      g_optimizer.step()\n",
    "      g_loss.append(g_l.item())\n",
    "      # logs\n",
    "      mb.child.comment = f'g_loss {np.mean(g_loss):.5f} d_loss {np.mean(d_loss):.5f}'\n",
    "    mb.write(f'Epoch {epoch}/{epochs} g_loss {np.mean(g_loss):.5f} d_loss {np.mean(d_loss):.5f}')\n",
    "    hist['g_loss'].append(np.mean(g_loss))    \n",
    "    hist['d_loss'].append(np.mean(d_loss))\n",
    "  return hist"
   ]
  },
  {
   "cell_type": "code",
   "execution_count": null,
   "metadata": {
    "ExecuteTime": {
     "start_time": "2020-10-08T12:00:11.801Z"
    }
   },
   "outputs": [
    {
     "data": {
      "text/html": [
       "\n",
       "    <div>\n",
       "        <style>\n",
       "            /* Turns off some styling */\n",
       "            progress {\n",
       "                /* gets rid of default border in Firefox and Opera. */\n",
       "                border: none;\n",
       "                /* Needs to be in here for Safari polyfill so background images work as expected. */\n",
       "                background-size: auto;\n",
       "            }\n",
       "            .progress-bar-interrupted, .progress-bar-interrupted::-webkit-progress-bar {\n",
       "                background: #F44336;\n",
       "            }\n",
       "        </style>\n",
       "      <progress value='2' class='' max='30' style='width:300px; height:20px; vertical-align: middle;'></progress>\n",
       "      6.67% [2/30 01:42<24:00]\n",
       "    </div>\n",
       "    \n",
       "Epoch 1/30 g_loss 6.54900 d_loss 0.04120<p>Epoch 2/30 g_loss 6.40455 d_loss 0.06398<p>\n",
       "\n",
       "    <div>\n",
       "        <style>\n",
       "            /* Turns off some styling */\n",
       "            progress {\n",
       "                /* gets rid of default border in Firefox and Opera. */\n",
       "                border: none;\n",
       "                /* Needs to be in here for Safari polyfill so background images work as expected. */\n",
       "                background-size: auto;\n",
       "            }\n",
       "            .progress-bar-interrupted, .progress-bar-interrupted::-webkit-progress-bar {\n",
       "                background: #F44336;\n",
       "            }\n",
       "        </style>\n",
       "      <progress value='1898' class='' max='3750' style='width:300px; height:20px; vertical-align: middle;'></progress>\n",
       "      50.61% [1898/3750 00:25<00:25 g_loss 6.28866 d_loss 0.07252]\n",
       "    </div>\n",
       "    "
      ],
      "text/plain": [
       "<IPython.core.display.HTML object>"
      ]
     },
     "metadata": {},
     "output_type": "display_data"
    }
   ],
   "source": [
    "hist = fit(generator, discriminator, dataloader)"
   ]
  },
  {
   "cell_type": "code",
   "execution_count": null,
   "metadata": {},
   "outputs": [],
   "source": []
  },
  {
   "cell_type": "code",
   "execution_count": null,
   "metadata": {},
   "outputs": [],
   "source": []
  },
  {
   "cell_type": "code",
   "execution_count": null,
   "metadata": {},
   "outputs": [],
   "source": []
  }
 ],
 "metadata": {
  "kernelspec": {
   "display_name": "Python 3",
   "language": "python",
   "name": "python3"
  },
  "language_info": {
   "codemirror_mode": {
    "name": "ipython",
    "version": 3
   },
   "file_extension": ".py",
   "mimetype": "text/x-python",
   "name": "python",
   "nbconvert_exporter": "python",
   "pygments_lexer": "ipython3",
   "version": "3.7.3"
  },
  "toc": {
   "base_numbering": 1,
   "nav_menu": {},
   "number_sections": true,
   "sideBar": true,
   "skip_h1_title": false,
   "title_cell": "Table of Contents",
   "title_sidebar": "Contents",
   "toc_cell": false,
   "toc_position": {},
   "toc_section_display": true,
   "toc_window_display": false
  }
 },
 "nbformat": 4,
 "nbformat_minor": 2
}
