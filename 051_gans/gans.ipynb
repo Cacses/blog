{
 "cells": [
  {
   "cell_type": "markdown",
   "metadata": {
    "id": "4z8WoM3LRvP5"
   },
   "source": [
    "[![Open In Colab](https://colab.research.google.com/assets/colab-badge.svg)](https://colab.research.google.com/github/sensioai/blog/blob/master/051_gans/gans.ipynb)"
   ]
  },
  {
   "cell_type": "markdown",
   "metadata": {
    "id": "dqWZoaHQRvP6"
   },
   "source": [
    "# GANs\n",
    "\n",
    "GANs (*generative adversarial networks*) es una arquitectura de red neuronal propuesta en 2014 por [Ian Goodfellow](https://arxiv.org/pdf/1406.2661.pdf) y otros con el objetivo de obtener modelos capaces de generar datos realistas, principalmente imágenes. Pese a la simplicidad de la idea original, se tardó varios años en superar varias de las dificultades que presenta su entrenamiento. Hoy en día, sin embargo, se utilizan para obtener resultados espectaculares. Algunos ejemplos son:\n",
    "\n",
    "- Generación de caras: https://www.thispersondoesnotexist.com/\n",
    "- Generación de anuncios de Airbnb: https://thisrentaldoesnotexist.com/\n",
    "- Super-resolución: https://www.youtube.com/watch?v=3RYNThid23g\n",
    "- Colorización: https://github.com/jantic/DeOldify\n",
    "- Generación de paisajes: http://nvidia-research-mingyuliu.com/gaugan\n",
    "- Y muchos otros."
   ]
  },
  {
   "cell_type": "markdown",
   "metadata": {
    "id": "wssmEmSARvP7"
   },
   "source": [
    "## La arquitectura\n",
    "\n",
    "La arquitectura básica de las *GANs* está formada por dos redes neuronales:\n",
    "\n",
    "- El **generador**: recibe a la entrada valores aleatorios (normalmente obtenidos de una distribución de tipo gausiana) y da a la salida una imagen. Puedes ver la entrada aleatoria como una representación latente (o codificación) de la imagen generada.\n",
    "- El **discriminador**: recibe a la entrada una imagen (real o generada por el generador) y tiene que decidir si bien la imagen es real o falsa.\n",
    "\n",
    "![](https://www.researchgate.net/publication/336781462/figure/fig2/AS:817722363494401@1571971612898/Example-of-a-typical-GANs-architecture-for-both-hand-written-digits-recognition-and.png)\n",
    "\n",
    "Durante el entrenamiento, el generador y el discriminador compiten entre ellos. Por un lado, el generador intenta generar imágenes cada vez más realistas para poder engañar al discriminador. Por otro lado, el generador cada vez será más bueno diferenciando imágenes reales de las generadas artificialmente por el generador. Esto implica que no podemos entrenar una *GAN* como hemos entrenado el resto de redes neuronales. El objetivo final será el de obtener un generador tan bueno que nuestro discriminador no sea capaz de diferenciar imágenes reales de falsas. Ésto impone unas restricciones muy fuertes en el proceso de entrenamiento, haciendo que sea difícil si no lo hacemos de la forma adecuada."
   ]
  },
  {
   "cell_type": "markdown",
   "metadata": {
    "id": "TJL68DrIRvP7"
   },
   "source": [
    "## El entrenamiento\n",
    "\n",
    "Para poder entrenar una *GAN* de manera efectiva, lo haremos en dos pasos: \n",
    "\n",
    "1. En una primera fase, entrenamos el discriminador. En cada iteración, le daremos un *batch* compuesto de imágenes reales obtenidas del dataset e imágenes falsas generadas por el generador. Definiremos un conjunto de etiquetas a 0 para las imágenes falsas y 1 para las reales. Entonces, optimizaremos el discriminador (utilizando una función de pérdida de tipo *binary cross-entropy* mejorando así sus capacidades de distinguir imágenes falsas de reales.\n",
    "2. En la segunda fase, entrenamos el generador. En cada iteración, le daremos un *batch* compuesto de ruido aleatorio para que genere imágenes. Estas imágenes son introducidas en el discriminador, cuyas salidas (etiquetas real/falso) con comparadas con un conjunto de etiquetas definidas como reales. Entonces, optimizaremos el generador (utilizando de nuevo la misma función de pérdida) de manera que el generador actualizará sus pesos para generar imágenes que engañen al discriminador."
   ]
  },
  {
   "cell_type": "markdown",
   "metadata": {
    "id": "us-pD663RvP8"
   },
   "source": [
    "> 💡 Como puedes observar, el generador nunca llega a ver las imágenes reales. Sin embargo es capaz de generar imágenes realistas simplemente intentando engañar al discriminador. Cuánto mejor sea el discriminador, mejor será el generador."
   ]
  },
  {
   "cell_type": "markdown",
   "metadata": {
    "id": "Fru8mFhPRvP9"
   },
   "source": [
    "## GAN simple\n",
    "\n",
    "Vamos a ver cómo podemos implementar esta arquitectura y proceso de entrenamiento con la implementación de una *GAN* muy simple para generar imágenes del dataset Fashion MNIST."
   ]
  },
  {
   "cell_type": "code",
   "execution_count": 1,
   "metadata": {
    "ExecuteTime": {
     "end_time": "2020-10-08T11:16:24.375971Z",
     "start_time": "2020-10-08T11:16:21.379024Z"
    },
    "colab": {
     "base_uri": "https://localhost:8080/",
     "height": 35
    },
    "id": "_0F56K1RRvP9",
    "outputId": "f6382dad-742d-4276-f3ad-6d64d26731f7"
   },
   "outputs": [
    {
     "data": {
      "application/vnd.google.colaboratory.intrinsic+json": {
       "type": "string"
      },
      "text/plain": [
       "'cuda'"
      ]
     },
     "execution_count": 1,
     "metadata": {
      "tags": []
     },
     "output_type": "execute_result"
    }
   ],
   "source": [
    "import torch\n",
    "import torchvision\n",
    "\n",
    "device = \"cuda\" if torch.cuda.is_available() else \"cpu\"\n",
    "device"
   ]
  },
  {
   "cell_type": "code",
   "execution_count": 2,
   "metadata": {
    "ExecuteTime": {
     "end_time": "2020-10-08T11:16:35.183733Z",
     "start_time": "2020-10-08T11:16:28.006891Z"
    },
    "id": "ZDCPn1YfRvQD"
   },
   "outputs": [],
   "source": [
    "trainset = torchvision.datasets.FashionMNIST(root='./data', train=True, download=True)\n",
    "\n",
    "classes = (\"t-shirt\", \"trousers\", \"pullover\", \"dress\", \"coat\", \"sandal\", \"shirt\", \"sneaker\", \"bag\", \"ankle boot\")"
   ]
  },
  {
   "cell_type": "code",
   "execution_count": 3,
   "metadata": {
    "ExecuteTime": {
     "end_time": "2020-10-08T11:35:42.024420Z",
     "start_time": "2020-10-08T11:35:32.203207Z"
    },
    "colab": {
     "base_uri": "https://localhost:8080/",
     "height": 34
    },
    "id": "9heVm3uIRvQG",
    "outputId": "c96e8c1a-4273-4a5d-d986-491b184ed05a"
   },
   "outputs": [
    {
     "data": {
      "text/plain": [
       "60000"
      ]
     },
     "execution_count": 3,
     "metadata": {
      "tags": []
     },
     "output_type": "execute_result"
    }
   ],
   "source": [
    "import numpy as np\n",
    "\n",
    "class Dataset(torch.utils.data.Dataset):\n",
    "  def __init__(self, trainset):\n",
    "    self.imgs = torch.tensor([np.array(i[0]).flatten() / 255. for i in trainset], dtype=torch.float, device=device)\n",
    "    self.labels = torch.tensor([i[1] for i in trainset], dtype=torch.long, device=device)\n",
    "\n",
    "  def __len__(self):\n",
    "    return len(self.imgs)\n",
    "\n",
    "  def __getitem__(self, ix):\n",
    "    return self.imgs[ix], self.labels[ix]\n",
    "\n",
    "train = Dataset(trainset)\n",
    "len(train)"
   ]
  },
  {
   "cell_type": "code",
   "execution_count": 4,
   "metadata": {
    "ExecuteTime": {
     "end_time": "2020-10-08T11:36:42.960160Z",
     "start_time": "2020-10-08T11:36:42.933582Z"
    },
    "colab": {
     "base_uri": "https://localhost:8080/",
     "height": 85
    },
    "id": "BXL4baRiRvQJ",
    "outputId": "0234f9fd-b453-4b41-950e-d73d7ae25258"
   },
   "outputs": [
    {
     "data": {
      "text/plain": [
       "(torch.Size([784]),\n",
       " torch.float32,\n",
       " tensor(1., device='cuda:0'),\n",
       " tensor(0., device='cuda:0'))"
      ]
     },
     "execution_count": 4,
     "metadata": {
      "tags": []
     },
     "output_type": "execute_result"
    }
   ],
   "source": [
    "img, label = train[0]\n",
    "img.shape, img.dtype, img.max(), img.min()"
   ]
  },
  {
   "cell_type": "code",
   "execution_count": 5,
   "metadata": {
    "ExecuteTime": {
     "end_time": "2020-10-08T12:21:23.696746Z",
     "start_time": "2020-10-08T12:21:23.677284Z"
    },
    "colab": {
     "base_uri": "https://localhost:8080/",
     "height": 34
    },
    "id": "4vytYRgyRvQM",
    "outputId": "8198d3c3-7dc3-4de0-dfa5-4e3a49e8b657"
   },
   "outputs": [
    {
     "data": {
      "text/plain": [
       "(torch.Size([32, 784]), torch.Size([32]))"
      ]
     },
     "execution_count": 5,
     "metadata": {
      "tags": []
     },
     "output_type": "execute_result"
    }
   ],
   "source": [
    "dataloader = torch.utils.data.DataLoader(train, batch_size=32, shuffle=True)\n",
    "\n",
    "imgs, labels = next(iter(dataloader))\n",
    "imgs.shape, labels.shape"
   ]
  },
  {
   "cell_type": "markdown",
   "metadata": {
    "id": "BZEF7lLdRvQP"
   },
   "source": [
    "El dataset está formado por 60000 imágenes de baja resolución (28 x 28 píxeles, en blanco y negro) y contiene 10 tipos prendas de ropa (camisetas, pantalones, etc)."
   ]
  },
  {
   "cell_type": "code",
   "execution_count": 6,
   "metadata": {
    "ExecuteTime": {
     "end_time": "2020-10-08T12:21:24.711656Z",
     "start_time": "2020-10-08T12:21:23.960995Z"
    },
    "colab": {
     "base_uri": "https://localhost:8080/",
     "height": 536
    },
    "id": "54wKrLkyRvQQ",
    "outputId": "9d23a109-3f74-4c97-bb64-1be222f06b4f"
   },
   "outputs": [
    {
     "data": {
      "image/png": "[encoded data removed]",
      "text/plain": [
       "<Figure size 1080x648 with 15 Axes>"
      ]
     },
     "metadata": {
      "needs_background": "light",
      "tags": []
     },
     "output_type": "display_data"
    }
   ],
   "source": [
    "import random \n",
    "import matplotlib.pyplot as plt\n",
    "\n",
    "r, c = 3, 5\n",
    "plt.figure(figsize=(c*3, r*3))\n",
    "for row in range(r):\n",
    "    for col in range(c):\n",
    "        index = c*row + col\n",
    "        plt.subplot(r, c, index + 1)\n",
    "        ix = random.randint(0, len(train)-1)\n",
    "        img, label = train[ix]\n",
    "        plt.imshow(img.reshape(28,28).cpu())\n",
    "        plt.axis('off')\n",
    "        plt.title(classes[label.item()])\n",
    "plt.subplots_adjust(wspace=0.1, hspace=0.2)\n",
    "plt.show()"
   ]
  },
  {
   "cell_type": "markdown",
   "metadata": {
    "id": "l1fH5s6MRvQT"
   },
   "source": [
    "El objetivo es entrenar una *GAN* que sea capaz de generar imágenes similares a las que tenemos en el dataset a partir de valores aleatorios (ruido). Para ello, como ya hemos visto en las secciones anteriores, necesitamos un **generador** y un **discrimiandor**. Para esta implementación simple usaremos la misma arquitectura para ambas redes, un Perceptrón Multicapa (MLP)."
   ]
  },
  {
   "cell_type": "code",
   "execution_count": 7,
   "metadata": {
    "ExecuteTime": {
     "end_time": "2020-10-08T12:21:24.723356Z",
     "start_time": "2020-10-08T12:21:24.715066Z"
    },
    "id": "1Yyw-LMTRvQU"
   },
   "outputs": [],
   "source": [
    "import torch.nn as nn\n",
    "\n",
    "def block(n_in, n_out):\n",
    "  return nn.Sequential(\n",
    "      nn.Linear(n_in, n_out),\n",
    "      nn.ReLU(inplace=True)\n",
    "  )\n",
    "\n",
    "class MLP(nn.Module):\n",
    "  def __init__(self, input_size, output_size):\n",
    "    super().__init__()\n",
    "    self.input_size = input_size\n",
    "    self.fc1 = block(input_size, 150)\n",
    "    self.fc2 = block(150, 100)\n",
    "    self.fc3 = nn.Linear(100, output_size)\n",
    "\n",
    "  def forward(self, x):\n",
    "    x = self.fc1(x)\n",
    "    x = self.fc2(x)\n",
    "    x = self.fc3(x)\n",
    "    return x"
   ]
  },
  {
   "cell_type": "markdown",
   "metadata": {
    "id": "W0viAgrFRvQW"
   },
   "source": [
    "Nuestro MLP está formado por 3 capas lineales (cada capa seguida de una activación `relu`). En función del número de entradas y salidas definiremos las diferentes redes. Por ejemplo, el generador recibirá un vector con 30 valores aleatorios y nos dará a la salida un vector de 28 x 28 valores (igual que las imágenes del dataset)."
   ]
  },
  {
   "cell_type": "code",
   "execution_count": 8,
   "metadata": {
    "ExecuteTime": {
     "end_time": "2020-10-08T12:21:24.756846Z",
     "start_time": "2020-10-08T12:21:24.728188Z"
    },
    "id": "lnHPFDyBRvQX"
   },
   "outputs": [],
   "source": [
    "n_in, n_out = 30, 28*28\n",
    "generator = MLP(n_in, n_out)"
   ]
  },
  {
   "cell_type": "code",
   "execution_count": 9,
   "metadata": {
    "ExecuteTime": {
     "end_time": "2020-10-08T12:21:24.808082Z",
     "start_time": "2020-10-08T12:21:24.769285Z"
    },
    "colab": {
     "base_uri": "https://localhost:8080/",
     "height": 34
    },
    "id": "h3lEt25FRvQa",
    "outputId": "988047a9-84ea-48e6-d32c-51401a4fc542"
   },
   "outputs": [
    {
     "data": {
      "text/plain": [
       "torch.Size([64, 784])"
      ]
     },
     "execution_count": 9,
     "metadata": {
      "tags": []
     },
     "output_type": "execute_result"
    }
   ],
   "source": [
    "output = generator(torch.randn(64, 30))\n",
    "output.shape"
   ]
  },
  {
   "cell_type": "markdown",
   "metadata": {
    "id": "fGtKK3S5RvQc"
   },
   "source": [
    "Obviamente, nuestro generador inicializado genera imágenes aleatorias que en nada se parecen a las reales."
   ]
  },
  {
   "cell_type": "code",
   "execution_count": 10,
   "metadata": {
    "ExecuteTime": {
     "end_time": "2020-10-08T12:21:25.181449Z",
     "start_time": "2020-10-08T12:21:24.922566Z"
    },
    "colab": {
     "base_uri": "https://localhost:8080/",
     "height": 265
    },
    "id": "nW5ZAzgERvQd",
    "outputId": "8d933be2-20c7-4e0e-bbf8-c6dd239957f1"
   },
   "outputs": [
    {
     "data": {
      "image/png": "[encoded data removed]",
      "text/plain": [
       "<Figure size 432x288 with 1 Axes>"
      ]
     },
     "metadata": {
      "needs_background": "light",
      "tags": []
     },
     "output_type": "display_data"
    }
   ],
   "source": [
    "plt.imshow(output[0].reshape(28,28).detach().numpy())\n",
    "plt.show()"
   ]
  },
  {
   "cell_type": "markdown",
   "metadata": {
    "id": "PDqr5-f9RvQh"
   },
   "source": [
    "El discriminador, por otro lado, recibirá a la entrada una imagen (28 x 28 valores) y a la salida nos dará una clasificación binaria (real o falso)."
   ]
  },
  {
   "cell_type": "code",
   "execution_count": 11,
   "metadata": {
    "ExecuteTime": {
     "end_time": "2020-10-08T12:21:25.215063Z",
     "start_time": "2020-10-08T12:21:25.198167Z"
    },
    "colab": {
     "base_uri": "https://localhost:8080/",
     "height": 34
    },
    "id": "0taWml7YRvQi",
    "outputId": "445f8211-24d4-4f2a-f068-1a1dcc33055b"
   },
   "outputs": [
    {
     "data": {
      "text/plain": [
       "torch.Size([64, 1])"
      ]
     },
     "execution_count": 11,
     "metadata": {
      "tags": []
     },
     "output_type": "execute_result"
    }
   ],
   "source": [
    "discriminator = MLP(28*28, 1)\n",
    "output = discriminator(torch.randn(64, 28*28))\n",
    "output.shape"
   ]
  },
  {
   "cell_type": "markdown",
   "metadata": {
    "id": "2L67YhLqRvQk"
   },
   "source": [
    "La siguiente función será la responsable de entrenar ambas redes."
   ]
  },
  {
   "cell_type": "code",
   "execution_count": 12,
   "metadata": {
    "ExecuteTime": {
     "end_time": "2020-10-08T12:21:25.494261Z",
     "start_time": "2020-10-08T12:21:25.473981Z"
    },
    "code_folding": [
     11
    ],
    "id": "4ieCzFATRvQl"
   },
   "outputs": [],
   "source": [
    "from fastprogress import master_bar, progress_bar\n",
    "\n",
    "def fit(g, d, dataloader, epochs=30, crit=None):\n",
    "  g.to(device)\n",
    "  d.to(device)\n",
    "  g_optimizer = torch.optim.Adam(g.parameters(), lr=3e-4)\n",
    "  d_optimizer = torch.optim.Adam(d.parameters(), lr=3e-4)\n",
    "  crit = nn.BCEWithLogitsLoss() if crit == None else crit\n",
    "  g_loss, d_loss = [], []\n",
    "  mb = master_bar(range(1, epochs+1))\n",
    "  hist = {'g_loss': [], 'd_loss': []}\n",
    "  for epoch in mb:\n",
    "    for X, y in progress_bar(dataloader, parent=mb):\n",
    "      #X, y = X.to(device), y.to(device)  \n",
    "      # entrenamos el discriminador\n",
    "      g.eval()\n",
    "      d.train()\n",
    "      #   generamos un batch de imágenes falsas\n",
    "      noise = torch.randn((X.size(0), g.input_size)).to(device)\n",
    "      genenerated_images = g(noise)\n",
    "      #   input del discrminator\n",
    "      d_input = torch.cat([genenerated_images, X.view(X.size(0), -1)])\n",
    "      #   gorund truth para el discriminator\n",
    "      d_gt = torch.cat([torch.zeros(X.size(0)), torch.ones(X.size(0))]).view(-1,1).to(device)\n",
    "      #   optimización\n",
    "      d_optimizer.zero_grad()\n",
    "      d_output = d(d_input)\n",
    "      d_l = crit(d_output, d_gt)\n",
    "      d_l.backward()\n",
    "      d_optimizer.step()\n",
    "      d_loss.append(d_l.item())\n",
    "      # entrenamos el generador\n",
    "      g.train()\n",
    "      d.eval()\n",
    "      #   generamos un batch de imágenes falsas\n",
    "      noise = torch.randn((X.size(0), g.input_size)).to(device)\n",
    "      genenerated_images = g(noise)\n",
    "      #   salidas del discriminador\n",
    "      d_output = d(genenerated_images)\n",
    "      #   gorund truth para el generator\n",
    "      g_gt = torch.ones(X.size(0)).view(-1,1).to(device)\n",
    "      #   optimización\n",
    "      g_optimizer.zero_grad()\n",
    "      g_l = crit(d_output, g_gt)\n",
    "      g_l.backward()\n",
    "      g_optimizer.step()\n",
    "      g_loss.append(g_l.item())\n",
    "      # logs\n",
    "      mb.child.comment = f'g_loss {np.mean(g_loss):.5f} d_loss {np.mean(d_loss):.5f}'\n",
    "    mb.write(f'Epoch {epoch}/{epochs} g_loss {np.mean(g_loss):.5f} d_loss {np.mean(d_loss):.5f}')\n",
    "    hist['g_loss'].append(np.mean(g_loss))    \n",
    "    hist['d_loss'].append(np.mean(d_loss))\n",
    "  return hist"
   ]
  },
  {
   "cell_type": "code",
   "execution_count": 13,
   "metadata": {
    "ExecuteTime": {
     "end_time": "2020-10-08T12:31:43.792634Z",
     "start_time": "2020-10-08T12:21:25.601032Z"
    },
    "colab": {
     "base_uri": "https://localhost:8080/",
     "height": 707
    },
    "id": "tLbSqzbqRvQn",
    "outputId": "0487e483-59b4-494d-cf56-51466927804f"
   },
   "outputs": [
    {
     "data": {
      "text/html": [
       "Epoch 1/30 g_loss 3.28510 d_loss 0.14783<p>Epoch 2/30 g_loss 3.20285 d_loss 0.18627<p>Epoch 3/30 g_loss 3.07599 d_loss 0.20431<p>Epoch 4/30 g_loss 2.97310 d_loss 0.22391<p>Epoch 5/30 g_loss 2.88722 d_loss 0.23902<p>Epoch 6/30 g_loss 2.79385 d_loss 0.25314<p>Epoch 7/30 g_loss 2.71924 d_loss 0.26344<p>Epoch 8/30 g_loss 2.63123 d_loss 0.27357<p>Epoch 9/30 g_loss 2.58804 d_loss 0.28198<p>Epoch 10/30 g_loss 2.53019 d_loss 0.28864<p>Epoch 11/30 g_loss 2.49490 d_loss 0.29638<p>Epoch 12/30 g_loss 2.45811 d_loss 0.30665<p>Epoch 13/30 g_loss 2.43071 d_loss 0.31258<p>Epoch 14/30 g_loss 2.40190 d_loss 0.31741<p>Epoch 15/30 g_loss 2.37628 d_loss 0.32261<p>Epoch 16/30 g_loss 2.34978 d_loss 0.32780<p>Epoch 17/30 g_loss 2.31057 d_loss 0.33474<p>Epoch 18/30 g_loss 2.28843 d_loss 0.34082<p>Epoch 19/30 g_loss 2.26679 d_loss 0.34706<p>Epoch 20/30 g_loss 2.24157 d_loss 0.35157<p>Epoch 21/30 g_loss 2.22193 d_loss 0.35642<p>Epoch 22/30 g_loss 2.20385 d_loss 0.36000<p>Epoch 23/30 g_loss 2.17737 d_loss 0.36315<p>Epoch 24/30 g_loss 2.15508 d_loss 0.36685<p>Epoch 25/30 g_loss 2.15416 d_loss 0.36982<p>Epoch 26/30 g_loss 2.13355 d_loss 0.37291<p>Epoch 27/30 g_loss 2.12079 d_loss 0.37663<p>Epoch 28/30 g_loss 2.10247 d_loss 0.37917<p>Epoch 29/30 g_loss 2.09090 d_loss 0.38105<p>Epoch 30/30 g_loss 2.08284 d_loss 0.38453"
      ],
      "text/plain": [
       "<IPython.core.display.HTML object>"
      ]
     },
     "metadata": {
      "tags": []
     },
     "output_type": "display_data"
    }
   ],
   "source": [
    "hist = fit(generator, discriminator, dataloader)"
   ]
  },
  {
   "cell_type": "code",
   "execution_count": 14,
   "metadata": {
    "ExecuteTime": {
     "end_time": "2020-10-08T12:32:02.391940Z",
     "start_time": "2020-10-08T12:32:02.194532Z"
    },
    "colab": {
     "base_uri": "https://localhost:8080/",
     "height": 265
    },
    "id": "5Pz4zXKFRvQq",
    "outputId": "e2817ca6-ec9b-495e-bc26-fa70e04f5535"
   },
   "outputs": [
    {
     "data": {
      "image/png": "[encoded data removed]",
      "text/plain": [
       "<Figure size 432x288 with 1 Axes>"
      ]
     },
     "metadata": {
      "needs_background": "light",
      "tags": []
     },
     "output_type": "display_data"
    }
   ],
   "source": [
    "import pandas as pd \n",
    "\n",
    "df = pd.DataFrame(hist)\n",
    "df.plot(grid=True)\n",
    "plt.show()"
   ]
  },
  {
   "cell_type": "markdown",
   "metadata": {
    "id": "aUEvlgv0RvQt"
   },
   "source": [
    "Como podemos ver, la *loss* del generador ha ido disminuyendo (lo cual sabemos que es señal de que el entrenamiento ha ido bien y la red ha aprendido a generar buenas imágenes). Sin embargo, la *loss* del discriminador ha ido aumentando. ¿Significa esto que nuestro discriminador es malo, y que tenemos que intentar algo para que este valor también disminuya?. Para resolver esta duda tenemos que pensar en cómo estamos entrenando ambas redes. Durante el entrenamiento, ambas redes intentan engañarse mutuamente y van mejorando a la vez en su tarea. Esto implica que en el límite en el que queremos un generador perfecto, el discriminador no será capaz de distinguir imágenes reales de falsas. ¿Cuánto vale la *loss* del discriminador en este caso? La respuesta es 0.5 (cada vez que el discriminador recibe una imagen le asigna la etiqueta real o falso con un 50% de probabilidad ya que no es capaz de distinguirlas). Así pues, en el contexto de las *GANs*, que la *loss* del discriminador aumente es realmente una buena señal de que todo está funcionando como esperamos. \n",
    "\n",
    "Una vez entrenado el generador, podemos usarlo para generar nuevas imágenes."
   ]
  },
  {
   "cell_type": "code",
   "execution_count": 15,
   "metadata": {
    "ExecuteTime": {
     "end_time": "2020-10-08T12:32:28.097863Z",
     "start_time": "2020-10-08T12:32:27.012065Z"
    },
    "colab": {
     "base_uri": "https://localhost:8080/",
     "height": 321
    },
    "id": "IUABTSLSRvQt",
    "outputId": "a763539c-581b-4493-db9c-bf581b6a9d66"
   },
   "outputs": [
    {
     "data": {
      "image/png": "[encoded data removed]",
      "text/plain": [
       "<Figure size 1080x360 with 10 Axes>"
      ]
     },
     "metadata": {
      "needs_background": "light",
      "tags": []
     },
     "output_type": "display_data"
    }
   ],
   "source": [
    "generator.eval()\n",
    "with torch.no_grad():\n",
    "  noise = torch.randn((10, generator.input_size)).to(device)\n",
    "  generated_images = generator(noise)\n",
    "  fig, axs = plt.subplots(2,5,figsize=(15,5))\n",
    "  i = 0\n",
    "  for ax in axs:\n",
    "    for _ax in ax:\n",
    "      img = generated_images[i].view(28,28).cpu()\n",
    "      _ax.imshow(img)\n",
    "      i+=1\n",
    "  plt.show()"
   ]
  },
  {
   "cell_type": "markdown",
   "metadata": {
    "id": "crvyO8leRvQx"
   },
   "source": [
    "Si bien hemos podido implementar el bucle de entrenamiento de una *GAN* nuestro modelo sencillo no es capaz de producir buenas imágenes. Para ello necesitamos un tipo de red neuronal especialmente diseñada para trabajar con imágenes, y que ya conocemos de posts anteriores: redes convolucionales."
   ]
  },
  {
   "cell_type": "markdown",
   "metadata": {
    "id": "a9W1AfEIRvQy"
   },
   "source": [
    "## DCGANs\n",
    "\n",
    "Podemos usar *DCGANs* (*deep convolutional GANs*) para obtener mejores generadores utilizando redes convolucionales. En este caso, necesitaremos arquitecturas diferentes para generador y discriminador.\n",
    "\n",
    "![](https://gluon.mxnet.io/_images/dcgan.png)\n",
    "\n",
    "El generador recibirá un vector de 100 valores aleatorios y después aplicaremos varias capas de convoluciones transpuestas (que aumentarán el tamaño de los mapas de caracterísitcas, como hicimos en nuestras redes para [segmentación](https://sensioai.com/blog/50_cv_segmentacion)) hasta obtener la imagen generada."
   ]
  },
  {
   "cell_type": "code",
   "execution_count": 16,
   "metadata": {
    "ExecuteTime": {
     "end_time": "2020-10-08T12:53:27.729883Z",
     "start_time": "2020-10-08T12:53:27.720329Z"
    },
    "id": "z__XIyQHRvQy"
   },
   "outputs": [],
   "source": [
    "class Generator(nn.Module):\n",
    "  def __init__(self):\n",
    "    super().__init__()\n",
    "    self.input_size = 100\n",
    "    self.inp = nn.Sequential(\n",
    "        nn.Linear(self.input_size, 7*7*128),\n",
    "        nn.BatchNorm1d(7*7*128),\n",
    "    )\n",
    "    self.main = nn.Sequential(\n",
    "        nn.ConvTranspose2d(128, 64, 4, stride=2, padding=1, bias=False),\n",
    "        nn.BatchNorm2d(64),\n",
    "        nn.ReLU(True),\n",
    "        nn.ConvTranspose2d(64, 1, 4, stride=2, padding=1, bias=False),\n",
    "        nn.Tanh()\n",
    "    )\n",
    "\n",
    "  def forward(self, x):\n",
    "    x = self.inp(x)\n",
    "    x = x.view(-1, 128, 7, 7)\n",
    "    x = self.main(x)\n",
    "    x = x.view(x.size(0), 28*28)\n",
    "    return x"
   ]
  },
  {
   "cell_type": "code",
   "execution_count": 17,
   "metadata": {
    "ExecuteTime": {
     "end_time": "2020-10-08T12:53:28.217371Z",
     "start_time": "2020-10-08T12:53:28.112187Z"
    },
    "colab": {
     "base_uri": "https://localhost:8080/",
     "height": 34
    },
    "id": "p39Ezo1NRvQ1",
    "outputId": "870da37a-0af3-44ff-f58c-a5a0d39a9cfc"
   },
   "outputs": [
    {
     "data": {
      "text/plain": [
       "torch.Size([64, 784])"
      ]
     },
     "execution_count": 17,
     "metadata": {
      "tags": []
     },
     "output_type": "execute_result"
    }
   ],
   "source": [
    "generator = Generator()\n",
    "output = generator(torch.randn(64, 100))\n",
    "output.shape"
   ]
  },
  {
   "cell_type": "markdown",
   "metadata": {
    "id": "HEtvDyiURvQ3"
   },
   "source": [
    "Al final del generador usamos una activación `tanh`, que dará valores entre -1 y 1. Por este motivo tenemos que re-normalizar nuestras imágenes en el dataset."
   ]
  },
  {
   "cell_type": "code",
   "execution_count": 18,
   "metadata": {
    "ExecuteTime": {
     "end_time": "2020-10-08T12:53:40.714057Z",
     "start_time": "2020-10-08T12:53:28.398264Z"
    },
    "colab": {
     "base_uri": "https://localhost:8080/",
     "height": 34
    },
    "id": "hqxVv-DaRvQ4",
    "outputId": "a455e188-564f-4c23-e7a3-269f2827653c"
   },
   "outputs": [
    {
     "data": {
      "text/plain": [
       "60000"
      ]
     },
     "execution_count": 18,
     "metadata": {
      "tags": []
     },
     "output_type": "execute_result"
    }
   ],
   "source": [
    "class Dataset(torch.utils.data.Dataset):\n",
    "  def __init__(self, trainset):\n",
    "    self.imgs = torch.tensor([np.array(i[0]).flatten() / 255. for i in trainset], dtype=torch.float, device=device)\n",
    "    self.imgs = self.imgs * 2. - 1.\n",
    "    self.labels = torch.tensor([i[1] for i in trainset], dtype=torch.long, device=device)\n",
    "\n",
    "  def __len__(self):\n",
    "    return len(self.imgs)\n",
    "\n",
    "  def __getitem__(self, ix):\n",
    "    return self.imgs[ix], self.labels[ix]\n",
    "\n",
    "train = Dataset(trainset)\n",
    "len(train)"
   ]
  },
  {
   "cell_type": "code",
   "execution_count": 19,
   "metadata": {
    "ExecuteTime": {
     "end_time": "2020-10-08T12:53:40.747626Z",
     "start_time": "2020-10-08T12:53:40.725944Z"
    },
    "colab": {
     "base_uri": "https://localhost:8080/",
     "height": 85
    },
    "id": "IKcWAEKmRvQ6",
    "outputId": "5a6a4600-7394-4373-e81b-22da92729ca1"
   },
   "outputs": [
    {
     "data": {
      "text/plain": [
       "(torch.Size([784]),\n",
       " torch.float32,\n",
       " tensor(1., device='cuda:0'),\n",
       " tensor(-1., device='cuda:0'))"
      ]
     },
     "execution_count": 19,
     "metadata": {
      "tags": []
     },
     "output_type": "execute_result"
    }
   ],
   "source": [
    "img, label = train[0]\n",
    "img.shape, img.dtype, img.max(), img.min()"
   ]
  },
  {
   "cell_type": "code",
   "execution_count": 20,
   "metadata": {
    "ExecuteTime": {
     "end_time": "2020-10-08T12:53:40.818655Z",
     "start_time": "2020-10-08T12:53:40.794573Z"
    },
    "colab": {
     "base_uri": "https://localhost:8080/",
     "height": 34
    },
    "id": "0926xTdFRvQ8",
    "outputId": "ba727315-7268-4e26-b99b-fb7deb8fd39a"
   },
   "outputs": [
    {
     "data": {
      "text/plain": [
       "(torch.Size([32, 784]), torch.Size([32]))"
      ]
     },
     "execution_count": 20,
     "metadata": {
      "tags": []
     },
     "output_type": "execute_result"
    }
   ],
   "source": [
    "dataloader = torch.utils.data.DataLoader(train, batch_size=32, shuffle=True)\n",
    "\n",
    "imgs, labels = next(iter(dataloader))\n",
    "imgs.shape, labels.shape"
   ]
  },
  {
   "cell_type": "markdown",
   "metadata": {
    "id": "7jS594hJRvRA"
   },
   "source": [
    "En cuanto al discriminador, utilizaremos una `CNN` típica como las que conocemos cuando hacemos clasificación de imagen."
   ]
  },
  {
   "cell_type": "code",
   "execution_count": 21,
   "metadata": {
    "ExecuteTime": {
     "end_time": "2020-10-08T12:53:40.848435Z",
     "start_time": "2020-10-08T12:53:40.830400Z"
    },
    "id": "N3BsrEAARvRB"
   },
   "outputs": [],
   "source": [
    "class Discriminator(nn.Module):\n",
    "  def __init__(self):\n",
    "    super().__init__()\n",
    "    self.main = nn.Sequential(\n",
    "        nn.Conv2d(1, 64, 4, stride=2, padding=1, bias=False),\n",
    "        nn.BatchNorm2d(64),\n",
    "        nn.ReLU(True),\n",
    "        nn.Conv2d(64, 128, 4, stride=2, padding=1, bias=False),\n",
    "        nn.BatchNorm2d(128),\n",
    "        nn.ReLU(True)\n",
    "    )\n",
    "    self.out = nn.Sequential(\n",
    "        nn.Linear(128*7*7, 1),\n",
    "        nn.Sigmoid()\n",
    "    )\n",
    "\n",
    "  def forward(self, x):\n",
    "    # esperamos vectores a la entrada de 28*28\n",
    "    x = x.view(x.size(0), 1, 28, 28)\n",
    "    x = self.main(x)\n",
    "    x = x.view(x.size(0), -1)\n",
    "    x = self.out(x)\n",
    "    return x"
   ]
  },
  {
   "cell_type": "code",
   "execution_count": 22,
   "metadata": {
    "ExecuteTime": {
     "end_time": "2020-10-08T12:53:40.947755Z",
     "start_time": "2020-10-08T12:53:40.869203Z"
    },
    "colab": {
     "base_uri": "https://localhost:8080/",
     "height": 34
    },
    "id": "0pegKxb5RvRD",
    "outputId": "00395c7c-328b-43fd-f6ac-3e42cef2c642"
   },
   "outputs": [
    {
     "data": {
      "text/plain": [
       "torch.Size([64, 1])"
      ]
     },
     "execution_count": 22,
     "metadata": {
      "tags": []
     },
     "output_type": "execute_result"
    }
   ],
   "source": [
    "discriminator = Discriminator()\n",
    "output = discriminator(torch.randn(64, 28*28))\n",
    "output.shape"
   ]
  },
  {
   "cell_type": "markdown",
   "metadata": {
    "id": "rqXmPfu1RvRG"
   },
   "source": [
    "Ahora podemos utilizar exactamente el mismo bucle de entrenamiento anterior para obtener un nuevo generador."
   ]
  },
  {
   "cell_type": "code",
   "execution_count": 23,
   "metadata": {
    "ExecuteTime": {
     "end_time": "2020-10-08T12:54:04.609588Z",
     "start_time": "2020-10-08T12:53:40.960997Z"
    },
    "colab": {
     "base_uri": "https://localhost:8080/",
     "height": 707
    },
    "id": "-tOMYAqQRvRG",
    "outputId": "a9e2bed8-3f33-469e-faa2-c92f6c6f07ae"
   },
   "outputs": [
    {
     "data": {
      "text/html": [
       "Epoch 1/30 g_loss 3.73015 d_loss 0.09304<p>Epoch 2/30 g_loss 3.54930 d_loss 0.11941<p>Epoch 3/30 g_loss 3.37544 d_loss 0.14058<p>Epoch 4/30 g_loss 3.23196 d_loss 0.15923<p>Epoch 5/30 g_loss 3.12469 d_loss 0.17419<p>Epoch 6/30 g_loss 3.04545 d_loss 0.18503<p>Epoch 7/30 g_loss 2.98984 d_loss 0.19310<p>Epoch 8/30 g_loss 2.95037 d_loss 0.19884<p>Epoch 9/30 g_loss 2.92706 d_loss 0.20282<p>Epoch 10/30 g_loss 2.90994 d_loss 0.20592<p>Epoch 11/30 g_loss 2.89911 d_loss 0.20805<p>Epoch 12/30 g_loss 2.89438 d_loss 0.20930<p>Epoch 13/30 g_loss 2.89441 d_loss 0.20987<p>Epoch 14/30 g_loss 2.90019 d_loss 0.21003<p>Epoch 15/30 g_loss 2.90794 d_loss 0.20995<p>Epoch 16/30 g_loss 2.92009 d_loss 0.20948<p>Epoch 17/30 g_loss 2.93189 d_loss 0.20886<p>Epoch 18/30 g_loss 2.94563 d_loss 0.20791<p>Epoch 19/30 g_loss 2.96259 d_loss 0.20684<p>Epoch 20/30 g_loss 2.98008 d_loss 0.20580<p>Epoch 21/30 g_loss 2.99995 d_loss 0.20456<p>Epoch 22/30 g_loss 3.02062 d_loss 0.20326<p>Epoch 23/30 g_loss 3.04050 d_loss 0.20204<p>Epoch 24/30 g_loss 3.06054 d_loss 0.20082<p>Epoch 25/30 g_loss 3.08201 d_loss 0.19955<p>Epoch 26/30 g_loss 3.10495 d_loss 0.19826<p>Epoch 27/30 g_loss 3.12594 d_loss 0.19705<p>Epoch 28/30 g_loss 3.14764 d_loss 0.19593<p>Epoch 29/30 g_loss 3.16874 d_loss 0.19471<p>Epoch 30/30 g_loss 3.19141 d_loss 0.19353"
      ],
      "text/plain": [
       "<IPython.core.display.HTML object>"
      ]
     },
     "metadata": {
      "tags": []
     },
     "output_type": "display_data"
    }
   ],
   "source": [
    "hist = fit(generator, discriminator, dataloader, crit=torch.nn.BCELoss())"
   ]
  },
  {
   "cell_type": "code",
   "execution_count": 24,
   "metadata": {
    "colab": {
     "base_uri": "https://localhost:8080/",
     "height": 265
    },
    "id": "XIFnctljRvRJ",
    "outputId": "5be30e45-023b-4537-970d-365ceec15b9a"
   },
   "outputs": [
    {
     "data": {
      "image/png": "[encoded data removed]",
      "text/plain": [
       "<Figure size 432x288 with 1 Axes>"
      ]
     },
     "metadata": {
      "needs_background": "light",
      "tags": []
     },
     "output_type": "display_data"
    }
   ],
   "source": [
    "df = pd.DataFrame(hist)\n",
    "df.plot(grid=True)\n",
    "plt.show()"
   ]
  },
  {
   "cell_type": "code",
   "execution_count": 25,
   "metadata": {
    "colab": {
     "base_uri": "https://localhost:8080/",
     "height": 321
    },
    "id": "F273gfyMRvRL",
    "outputId": "0252d424-82a0-47c8-fcf0-4db88dd86abe"
   },
   "outputs": [
    {
     "data": {
      "image/png": "[encoded data removed]",
      "text/plain": [
       "<Figure size 1080x360 with 10 Axes>"
      ]
     },
     "metadata": {
      "needs_background": "light",
      "tags": []
     },
     "output_type": "display_data"
    }
   ],
   "source": [
    "generator.eval()\n",
    "with torch.no_grad():\n",
    "  noise = torch.randn((10, generator.input_size)).to(device)\n",
    "  generated_images = generator(noise)\n",
    "  fig, axs = plt.subplots(2,5,figsize=(15,5))\n",
    "  i = 0\n",
    "  for ax in axs:\n",
    "    for _ax in ax:\n",
    "      img = generated_images[i].view(28,28).cpu()\n",
    "      _ax.imshow(img)\n",
    "      i+=1\n",
    "  plt.show()"
   ]
  },
  {
   "cell_type": "markdown",
   "metadata": {
    "id": "1YJF45MWVBgd"
   },
   "source": [
    "En este caso las imágenes generadas son un poco mejores que las que obteníamos con la *GAN* simple, aunque todavía hay márgen de mejora."
   ]
  },
  {
   "cell_type": "markdown",
   "metadata": {},
   "source": [
    "> ⚡¿Te ves capaz de utilizar este código como base para entrenar una *GAN* capaz de generar caras realistas? Para ello puedes utilizar el dataset [CelebA](https://pytorch.org/docs/stable/torchvision/datasets.html#celeba)"
   ]
  },
  {
   "cell_type": "markdown",
   "metadata": {},
   "source": [
    "## Resumen\n",
    "\n",
    "En este post hemos aprendido a implementar *GANs*, redes neuronales capaces de generar datos similares a los usados en el entrenamiento, en este caso imágenes. Este tipo de arquitecturas están formadas por dos redes neuronales que compiten entre sí durante el entrenamiento: el generador y el discriminador. El generador se encarga de generar imágenes falsas a partir de un vector de valores aleatorios, que se puede interpretar como una versión comprimida de la imagen, mientras que el discriminador se encarga de distinguir entre imágenes reales, obtenidas del dataset, y falsas, generadas por el generador. Una vez entrenado el modelo, descartamos el discriminador y nos quedamos con el generador que será capaz de generar imágenes realistas, similares a la usadas en el dataset. Este tipo de modelos se utilizan para generar caras de gente que no existe, colorear imágenes en blanco y negro, generar imágenes realistas a partir de máscaras de segmentación, incluso los famosos *deep fakes*."
   ]
  }
 ],
 "metadata": {
  "accelerator": "GPU",
  "colab": {
   "name": "gans.ipynb",
   "provenance": []
  },
  "kernelspec": {
   "display_name": "Python 3",
   "language": "python",
   "name": "python3"
  },
  "language_info": {
   "codemirror_mode": {
    "name": "ipython",
    "version": 3
   },
   "file_extension": ".py",
   "mimetype": "text/x-python",
   "name": "python",
   "nbconvert_exporter": "python",
   "pygments_lexer": "ipython3",
   "version": "3.7.3"
  },
  "toc": {
   "base_numbering": 1,
   "nav_menu": {},
   "number_sections": true,
   "sideBar": true,
   "skip_h1_title": false,
   "title_cell": "Table of Contents",
   "title_sidebar": "Contents",
   "toc_cell": false,
   "toc_position": {},
   "toc_section_display": true,
   "toc_window_display": false
  }
 },
 "nbformat": 4,
 "nbformat_minor": 1
}
