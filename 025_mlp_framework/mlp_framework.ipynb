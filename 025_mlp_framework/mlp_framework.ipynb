{
 "cells": [
  {
   "cell_type": "markdown",
   "metadata": {},
   "source": [
    "[![Open In Colab](https://colab.research.google.com/assets/colab-badge.svg)](https://colab.research.google.com/github/sensioai/blog/blob/master/025_mlp_framework/mlp_framework.ipynb)"
   ]
  },
  {
   "cell_type": "markdown",
   "metadata": {},
   "source": [
    "# El Perceptrón Multicapa - Nuestro propio Framework"
   ]
  },
  {
   "cell_type": "markdown",
   "metadata": {},
   "source": [
    "En el [post](https://sensioai.com/blog/024_mlp_clasificacion) anterior completamos una implementación del Perceptrón Multicapa capaz de llevar a cabo tareas de `regresión` y `clasificación`. Sin embargo, esta implementación tiene muchas limitaciones. Por ejemplo, sólo sirve para un perceptrón multicapa con una capa oculta con funciones de activación de tipo `relu`, entre otras. Aún así, programar todos los elementos envueltos en un arquitectura en concreto es muy útil para entender qué está pasando dentro de la `red neuronal` en todo momento. En este post vamos a mejorar la implementación para resolver estas limitaciones, haciendo nuestro propio framework inspirado en [Pytorch](https://pytorch.org/)."
   ]
  },
  {
   "cell_type": "markdown",
   "metadata": {},
   "source": [
    "## Diseño de la API"
   ]
  },
  {
   "cell_type": "markdown",
   "metadata": {},
   "source": [
    "Nuestro objetivo es el de ser capaces de resolver los problemas que hemos visto hasta ahora con una interfaz similar a la siguiente:"
   ]
  },
  {
   "cell_type": "code",
   "execution_count": null,
   "metadata": {
    "ExecuteTime": {
     "end_time": "2020-08-10T13:12:53.512342Z",
     "start_time": "2020-08-10T13:12:53.466478Z"
    }
   },
   "outputs": [],
   "source": [
    "D_in, H, D_out = 2, 3, 2\n",
    "\n",
    "mlp = MLP([\n",
    "    Linear(D_in, H),\n",
    "    ReLU(),\n",
    "    Linear(H, D_out)\n",
    "])\n",
    "\n",
    "optimizer = SGD(mlp, lr=0.1)\n",
    "loss = CrossEntropy(mlp)\n",
    "\n",
    "epochs = 100\n",
    "for e in range(epochs):\n",
    "  for batch in batches:\n",
    "    y_pred = mlp(x)    \n",
    "    loss(y_pred, y)\n",
    "    loss.backward()    \n",
    "    optimizer.update()"
   ]
  },
  {
   "cell_type": "markdown",
   "metadata": {},
   "source": [
    "En primer lugar, queremos definir nuestro `MLP` como una secuencia de capas, las cuales pasaremos como una lista a la clase `MLP`. Como puedes ver, de esta manera, podemos usar diferentes funciones de activación simplemente cambiando la clase utilizada. Después, definiremos los objetos `optimizer` y `loss` como clases particulares de manera que podamos, de manera totalmente transparente, utilizar diferentes funciones de pérdida o algoritmos de optimización simplemente cambiando la clase en cuestión. Por último, en el bucle de entrenamiento, querremos ser capaces de calcular la salida del modelo, gradientes y actualizar los pesos de manera automática. Vamos a ver cómo conseguirlo en las siguientes secciones."
   ]
  },
  {
   "cell_type": "markdown",
   "metadata": {},
   "source": [
    "## MLP y Capas"
   ]
  },
  {
   "cell_type": "markdown",
   "metadata": {},
   "source": [
    "Vamos a empezar definiendo nuestra clase `MLP`. Como ya hemos comentado, esta clase estará formada por una lista de capas y simplemente se encargará de calcular la salida del modelo aplicando cada capa de manera secuencial."
   ]
  },
  {
   "cell_type": "code",
   "execution_count": 24,
   "metadata": {
    "ExecuteTime": {
     "end_time": "2020-08-10T13:13:12.785890Z",
     "start_time": "2020-08-10T13:13:12.775889Z"
    }
   },
   "outputs": [],
   "source": [
    "class MLP:\n",
    "    def __init__(self, layers):\n",
    "        # el MLP es una lista de capas\n",
    "        self.layers = layers\n",
    "\n",
    "    def __call__(self, x):\n",
    "        # calculamos la salida del modelo aplicando\n",
    "        # cada capa de manera secuencial\n",
    "        for layer in self.layers:\n",
    "            x = layer(x)\n",
    "        return x"
   ]
  },
  {
   "cell_type": "markdown",
   "metadata": {},
   "source": [
    "Ahora definimos las diferentes capas que necesitamos. En primer lugar tendremos una clase base que contendrá los elementos y funcionalidad común de cada capa. Esta clase contendrá una lista con los parámetros entrenables de la capa y sus gradientes."
   ]
  },
  {
   "cell_type": "code",
   "execution_count": 25,
   "metadata": {
    "ExecuteTime": {
     "end_time": "2020-08-10T13:13:13.130767Z",
     "start_time": "2020-08-10T13:13:13.123088Z"
    }
   },
   "outputs": [],
   "source": [
    "class Layer():\n",
    "    def __init__(self):\n",
    "        self.params = []\n",
    "        self.grads = []\n",
    "\n",
    "    def __call__(self, x):\n",
    "        # por defecto, devolver los inputs\n",
    "        # cada capa hará algo diferente aquí\n",
    "        return x\n",
    "\n",
    "    def backward(self, grad):\n",
    "        # cada capa, calculará sus gradientes\n",
    "        # y los devolverá para las capas siguientes\n",
    "        return grad\n",
    "\n",
    "    def update(self, params):\n",
    "        # si hay parámetros, los actualizaremos\n",
    "        # con lo que nos de el optimizer\n",
    "        return"
   ]
  },
  {
   "cell_type": "markdown",
   "metadata": {},
   "source": [
    "Ahora podemos definir las diferentes capas que utilizaremos. Hasta ahora sólo hemos visto la capa lineal y diferentes funciones de activación."
   ]
  },
  {
   "cell_type": "code",
   "execution_count": 26,
   "metadata": {
    "ExecuteTime": {
     "end_time": "2020-08-10T13:13:13.413081Z",
     "start_time": "2020-08-10T13:13:13.396082Z"
    }
   },
   "outputs": [],
   "source": [
    "class Linear(Layer):\n",
    "    def __init__(self, d_in, d_out):\n",
    "        # pesos de la capa\n",
    "        self.w = np.random.normal(loc=0.0,\n",
    "                                  scale=np.sqrt(2/(d_in+d_out)),\n",
    "                                  size=(d_in, d_out))\n",
    "        self.b = np.zeros(d_out)\n",
    "\n",
    "    def __call__(self, x):\n",
    "        self.x = x\n",
    "        self.params = [self.w, self.b]\n",
    "        # salida del preceptrón\n",
    "        return np.dot(x, self.w) + self.b    \n",
    "    \n",
    "    def backward(self, grad_output):\n",
    "        # gradientes para la capa siguiente (BACKPROP)\n",
    "        grad = np.dot(grad_output, self.w.T)\n",
    "        self.grad_w = np.dot(self.x.T, grad_output)\n",
    "        # gradientes para actualizar pesos\n",
    "        self.grad_b = grad_output.mean(axis=0)*self.x.shape[0]\n",
    "        self.grads = [self.grad_w, self.grad_b]\n",
    "        return grad\n",
    "\n",
    "    def update(self, params):\n",
    "        self.w, self.b = params"
   ]
  },
  {
   "cell_type": "code",
   "execution_count": 27,
   "metadata": {
    "ExecuteTime": {
     "end_time": "2020-08-10T13:13:13.553974Z",
     "start_time": "2020-08-10T13:13:13.534217Z"
    }
   },
   "outputs": [],
   "source": [
    "class ReLU(Layer):\n",
    "    def __call__(self, x):\n",
    "        self.x = x\n",
    "        return np.maximum(0, x)\n",
    "\n",
    "    def backward(self, grad_output):\n",
    "        grad = self.x > 0\n",
    "        return grad_output*grad\n",
    "    \n",
    "def sigmoid(x):\n",
    "  return 1 / (1 + np.exp(-x))\n",
    "\n",
    "def softmax(x):\n",
    "    return np.exp(x) / np.exp(x).sum(axis=-1,keepdims=True)\n",
    "\n",
    "class Sigmoid(Layer):    \n",
    "    def __call__(self, x):\n",
    "        self.x = x\n",
    "        return sigmoid(x)\n",
    "\n",
    "    def backward(self, grad_output):\n",
    "        grad = sigmoid(self.x)*(1 - sigmoid(self.x))\n",
    "        return grad_output*grad"
   ]
  },
  {
   "cell_type": "markdown",
   "metadata": {},
   "source": [
    "## Optimizador"
   ]
  },
  {
   "cell_type": "markdown",
   "metadata": {},
   "source": [
    "De momento solo conocemos un algoritmo de optimización, el `descenso por gradiente`. En este algoritmo, iteraremos por todas las capas del `MLP` actualizando los parámetros."
   ]
  },
  {
   "cell_type": "code",
   "execution_count": 28,
   "metadata": {
    "ExecuteTime": {
     "end_time": "2020-08-10T13:13:13.980603Z",
     "start_time": "2020-08-10T13:13:13.975081Z"
    }
   },
   "outputs": [],
   "source": [
    "class SGD():\n",
    "    def __init__(self, net, lr):\n",
    "        self.net = net\n",
    "        self.lr = lr\n",
    "\n",
    "    def update(self):\n",
    "        for layer in self.net.layers:\n",
    "            layer.update([\n",
    "                params - self.lr*grads\n",
    "                for params, grads in zip(layer.params, layer.grads)\n",
    "            ])"
   ]
  },
  {
   "cell_type": "markdown",
   "metadata": {},
   "source": [
    "Puedes probar algoritmos de optimización diferentes simplemente creando una nueva clase con una regla distinta para la actualización de los pesos. En futuros posts exploraremos optimizadores alternativos. Esta clase sólo se encarga de aplicar los gradientes en una manera determinada para actualizar los pesos, el cálculo de los gradientes depende de cada capa en concreto."
   ]
  },
  {
   "cell_type": "markdown",
   "metadata": {},
   "source": [
    "## Funciones de pérdida"
   ]
  },
  {
   "cell_type": "markdown",
   "metadata": {},
   "source": [
    "Del mismo modo que hemos hecho para las capas, vamos a implementar una clase base para calcular funciones de pérdida con la funcionalidad común y después tendremos clases particulares para las diferentes funciones de pérdida que conocemos."
   ]
  },
  {
   "cell_type": "code",
   "execution_count": 29,
   "metadata": {
    "ExecuteTime": {
     "end_time": "2020-08-10T13:13:14.563035Z",
     "start_time": "2020-08-10T13:13:14.545038Z"
    }
   },
   "outputs": [],
   "source": [
    "class Loss():\n",
    "    def __init__(self, net):\n",
    "        self.net = net\n",
    "\n",
    "    def backward(self):\n",
    "        # derivada de la loss function con respecto \n",
    "        # a la salida del MLP\n",
    "        grad = self.grad_loss()\n",
    "        # BACKPROPAGATION\n",
    "        for layer in reversed(self.net.layers):\n",
    "            grad = layer.backward(grad)\n",
    "            \n",
    "class MSE(Loss):\n",
    "    def __call__(self, output, target):\n",
    "        self.output, self.target = output, target.reshape(output.shape)\n",
    "        loss = np.mean((self.output - self.target)**2)\n",
    "        return loss.mean()\n",
    "\n",
    "    def grad_loss(self):\n",
    "        return self.output -  self.target\n",
    "    \n",
    "class BCE(Loss):\n",
    "    def __call__(self, output, target):\n",
    "        self.output, self.target = output, target.reshape(output.shape)\n",
    "        loss = - np.mean(self.target*np.log(self.output) - (1 - self.target)*np.log(1 - self.output))\n",
    "        return loss.mean()\n",
    "\n",
    "    def grad_loss(self):\n",
    "        return self.output -  self.target\n",
    "            \n",
    "class CrossEntropy(Loss):\n",
    "    def __call__(self, output, target):\n",
    "        self.output, self.target = output, target\n",
    "        logits = output[np.arange(len(output)), target]\n",
    "        loss = - logits + np.log(np.sum(np.exp(output), axis=-1))\n",
    "        loss = loss.mean()\n",
    "        return loss\n",
    "\n",
    "    def grad_loss(self):\n",
    "        answers = np.zeros_like(self.output)\n",
    "        answers[np.arange(len(self.output)), self.target] = 1\n",
    "        return (- answers + softmax(self.output)) / self.output.shape[0]"
   ]
  },
  {
   "cell_type": "markdown",
   "metadata": {},
   "source": [
    "La clase que utilicemos como función de pérdida tendrá la responsabilidad de llevar a cabo el algoritmo de `backpropagation`, propagando los gradientes desde la última capa hasta la primera para que, más tarde, el optimizador pueda actualizar los pesos."
   ]
  },
  {
   "cell_type": "markdown",
   "metadata": {},
   "source": [
    "## Probando la implementación"
   ]
  },
  {
   "cell_type": "markdown",
   "metadata": {
    "ExecuteTime": {
     "end_time": "2020-08-10T12:42:20.221071Z",
     "start_time": "2020-08-10T12:42:20.202060Z"
    }
   },
   "source": [
    "En este punto tenemos todas las clases que necesitamos para resolver nuestros casos de interés."
   ]
  },
  {
   "cell_type": "markdown",
   "metadata": {},
   "source": [
    "### Regresión"
   ]
  },
  {
   "cell_type": "markdown",
   "metadata": {},
   "source": [
    "Empezamos con el caso de la regresión (en este caso directamente no lineal)."
   ]
  },
  {
   "cell_type": "code",
   "execution_count": 30,
   "metadata": {
    "ExecuteTime": {
     "end_time": "2020-08-10T13:13:15.736926Z",
     "start_time": "2020-08-10T13:13:15.621919Z"
    }
   },
   "outputs": [
    {
     "data": {
      "image/png": "[encoded data removed]",
      "text/plain": [
       "<Figure size 432x288 with 1 Axes>"
      ]
     },
     "metadata": {
      "needs_background": "light"
     },
     "output_type": "display_data"
    }
   ],
   "source": [
    "import numpy as np\n",
    "import matplotlib.pyplot as plt\n",
    "\n",
    "m = 100\n",
    "X = 6 * np.random.rand(m, 1) - 3\n",
    "Y = 0.5 * X**2 + X + 2 + np.random.randn(m, 1)\n",
    "\n",
    "plt.plot(X, Y, \"b.\")\n",
    "plt.xlabel(\"$x_1$\", fontsize=14)\n",
    "plt.ylabel(\"$y$\", rotation=0, fontsize=14)\n",
    "plt.grid(True)\n",
    "plt.show()"
   ]
  },
  {
   "cell_type": "markdown",
   "metadata": {},
   "source": [
    "Para ello usamos una función de activación de tipo `MSE` con una función de activación lineal en la última capa."
   ]
  },
  {
   "cell_type": "code",
   "execution_count": 33,
   "metadata": {
    "ExecuteTime": {
     "end_time": "2020-08-10T13:13:20.145094Z",
     "start_time": "2020-08-10T13:13:20.063969Z"
    },
    "code_folding": []
   },
   "outputs": [
    {
     "name": "stdout",
     "output_type": "stream",
     "text": [
      "Epoch 10/100, Loss: 1.4147\n",
      "Epoch 20/100, Loss: 1.2022\n",
      "Epoch 30/100, Loss: 1.1307\n",
      "Epoch 40/100, Loss: 1.0946\n",
      "Epoch 50/100, Loss: 1.0728\n",
      "Epoch 60/100, Loss: 1.0581\n",
      "Epoch 70/100, Loss: 1.0475\n",
      "Epoch 80/100, Loss: 1.0393\n",
      "Epoch 90/100, Loss: 1.0326\n",
      "Epoch 100/100, Loss: 1.0271\n"
     ]
    }
   ],
   "source": [
    "D_in, H, D_out = 1, 3, 1\n",
    "mlp = MLP([\n",
    "    Linear(D_in, H),\n",
    "    ReLU(),\n",
    "    Linear(H, D_out)\n",
    "])\n",
    "\n",
    "optimizer = SGD(mlp, lr=0.01)\n",
    "loss = MSE(mlp)\n",
    "\n",
    "epochs = 100\n",
    "batch_size = 10\n",
    "\n",
    "batches = len(X) // batch_size\n",
    "log_each = 10\n",
    "l = []\n",
    "for e in range(1,epochs+1):\n",
    "    _l = []\n",
    "    for b in range(batches):\n",
    "        x = X[b*batch_size:(b+1)*batch_size]\n",
    "        y = Y[b*batch_size:(b+1)*batch_size] \n",
    "        y_pred = mlp(x)    \n",
    "        _l.append(loss(y_pred, y))\n",
    "        loss.backward()    \n",
    "        optimizer.update()\n",
    "    l.append(np.mean(_l))\n",
    "    if not e % log_each:\n",
    "        print(f'Epoch {e}/{epochs}, Loss: {np.mean(l):.4f}')"
   ]
  },
  {
   "cell_type": "code",
   "execution_count": 34,
   "metadata": {
    "ExecuteTime": {
     "end_time": "2020-08-10T13:13:20.304074Z",
     "start_time": "2020-08-10T13:13:20.193087Z"
    }
   },
   "outputs": [
    {
     "data": {
      "image/png": "[encoded data removed]",
      "text/plain": [
       "<Figure size 432x288 with 1 Axes>"
      ]
     },
     "metadata": {
      "needs_background": "light"
     },
     "output_type": "display_data"
    }
   ],
   "source": [
    "x_new = np.linspace(-3, 3, 100)\n",
    "x_new = x_new.reshape(len(x_new),1)\n",
    "y_pred = mlp(x_new)\n",
    "    \n",
    "plt.plot(X, Y, \"b.\")\n",
    "plt.plot(x_new, y_pred, \"-k\")\n",
    "plt.xlabel(\"$x_1$\", fontsize=14)\n",
    "plt.ylabel(\"$y$\", rotation=0, fontsize=14)\n",
    "plt.grid(True)\n",
    "plt.show()"
   ]
  },
  {
   "cell_type": "markdown",
   "metadata": {},
   "source": [
    "¿Y si queremos utilizar un `MLP` con más capas y más neuronas? Simplemente las añadimos a la lista."
   ]
  },
  {
   "cell_type": "code",
   "execution_count": 35,
   "metadata": {
    "ExecuteTime": {
     "end_time": "2020-08-10T13:13:23.222303Z",
     "start_time": "2020-08-10T13:13:23.080353Z"
    }
   },
   "outputs": [
    {
     "name": "stdout",
     "output_type": "stream",
     "text": [
      "Epoch 10/100, Loss: 3.7139\n",
      "Epoch 20/100, Loss: 2.6905\n",
      "Epoch 30/100, Loss: 2.3742\n",
      "Epoch 40/100, Loss: 2.1474\n",
      "Epoch 50/100, Loss: 1.9811\n",
      "Epoch 60/100, Loss: 1.8580\n",
      "Epoch 70/100, Loss: 1.7650\n",
      "Epoch 80/100, Loss: 1.6933\n",
      "Epoch 90/100, Loss: 1.6356\n",
      "Epoch 100/100, Loss: 1.5885\n"
     ]
    }
   ],
   "source": [
    "D_in, H, D_out = 1, 10, 1\n",
    "# añadimos más capas\n",
    "mlp = MLP([\n",
    "    Linear(D_in, H),\n",
    "    ReLU(),\n",
    "    Linear(H, H),\n",
    "    ReLU(),\n",
    "    Linear(H, H),\n",
    "    ReLU(),\n",
    "    Linear(H, D_out)\n",
    "])\n",
    "\n",
    "optimizer = SGD(mlp, lr=0.01)\n",
    "loss = MSE(mlp)\n",
    "\n",
    "epochs = 100\n",
    "batch_size = 10\n",
    "\n",
    "batches = len(X) // batch_size\n",
    "log_each = 10\n",
    "l = []\n",
    "for e in range(1,epochs+1):\n",
    "    _l = []\n",
    "    for b in range(batches):\n",
    "        x = X[b*batch_size:(b+1)*batch_size]\n",
    "        y = Y[b*batch_size:(b+1)*batch_size] \n",
    "        y_pred = mlp(x)    \n",
    "        _l.append(loss(y_pred, y))\n",
    "        loss.backward()    \n",
    "        optimizer.update()\n",
    "    l.append(np.mean(_l))\n",
    "    if not e % log_each:\n",
    "        print(f'Epoch {e}/{epochs}, Loss: {np.mean(l):.4f}')"
   ]
  },
  {
   "cell_type": "code",
   "execution_count": 36,
   "metadata": {
    "ExecuteTime": {
     "end_time": "2020-08-10T13:13:24.848984Z",
     "start_time": "2020-08-10T13:13:24.740752Z"
    }
   },
   "outputs": [
    {
     "data": {
      "image/png": "[encoded data removed]",
      "text/plain": [
       "<Figure size 432x288 with 1 Axes>"
      ]
     },
     "metadata": {
      "needs_background": "light"
     },
     "output_type": "display_data"
    }
   ],
   "source": [
    "x_new = np.linspace(-3, 3, 100)\n",
    "x_new = x_new.reshape(len(x_new),1)\n",
    "y_pred = mlp(x_new)\n",
    "    \n",
    "plt.plot(X, Y, \"b.\")\n",
    "plt.plot(x_new, y_pred, \"-k\")\n",
    "plt.xlabel(\"$x_1$\", fontsize=14)\n",
    "plt.ylabel(\"$y$\", rotation=0, fontsize=14)\n",
    "plt.grid(True)\n",
    "plt.show()"
   ]
  },
  {
   "cell_type": "markdown",
   "metadata": {},
   "source": [
    "Nuestro framework es capaz de llevar a cabo la tarea de regresión, y si ahora queremos llevar a cabo tareas de clasificación es tan sencillo como cambiar la función de pérdida y de activación en la clase `MLP`."
   ]
  },
  {
   "cell_type": "markdown",
   "metadata": {},
   "source": [
    "### Clasificación Binaria"
   ]
  },
  {
   "cell_type": "markdown",
   "metadata": {},
   "source": [
    "Vamos a probar nuestro framework para clasificación con el dataset *Iris*."
   ]
  },
  {
   "cell_type": "code",
   "execution_count": 37,
   "metadata": {
    "ExecuteTime": {
     "end_time": "2020-08-10T13:14:19.641175Z",
     "start_time": "2020-08-10T13:14:19.624634Z"
    }
   },
   "outputs": [
    {
     "data": {
      "text/plain": [
       "((150, 2), (150,))"
      ]
     },
     "execution_count": 37,
     "metadata": {},
     "output_type": "execute_result"
    }
   ],
   "source": [
    "from sklearn.datasets import load_iris\n",
    "\n",
    "iris = load_iris()\n",
    "X = iris.data[:, (2, 3)]  # petal length, petal width\n",
    "Y = iris.target\n",
    "\n",
    "# normalización datos\n",
    "X_mean, X_std = X.mean(axis=0), X.std(axis=0)\n",
    "X_norm = (X - X_mean) / X_std\n",
    "\n",
    "X.shape, Y.shape"
   ]
  },
  {
   "cell_type": "code",
   "execution_count": 38,
   "metadata": {
    "ExecuteTime": {
     "end_time": "2020-08-10T13:14:20.096963Z",
     "start_time": "2020-08-10T13:14:20.094901Z"
    }
   },
   "outputs": [],
   "source": [
    "Y = (iris.target == 0).astype(np.int)"
   ]
  },
  {
   "cell_type": "code",
   "execution_count": 39,
   "metadata": {
    "ExecuteTime": {
     "end_time": "2020-08-10T13:14:20.349784Z",
     "start_time": "2020-08-10T13:14:20.224738Z"
    }
   },
   "outputs": [
    {
     "data": {
      "image/png": "[encoded data removed]",
      "text/plain": [
       "<Figure size 432x288 with 1 Axes>"
      ]
     },
     "metadata": {
      "needs_background": "light"
     },
     "output_type": "display_data"
    }
   ],
   "source": [
    "plt.plot(X[Y==1, 0], X[Y==1, 1], 's', label=\"Iris Setosa\")\n",
    "plt.plot(X[Y==0, 0], X[Y==0, 1], 'x', label=\"No Iris Setosa\")\n",
    "plt.grid()\n",
    "plt.legend()\n",
    "plt.xlabel('petal length', fontsize=14)\n",
    "plt.ylabel('petal width', fontsize=14)\n",
    "plt.title(\"Iris dataset\", fontsize=14)\n",
    "plt.show()"
   ]
  },
  {
   "cell_type": "markdown",
   "metadata": {},
   "source": [
    "Para llevar a cabo la tarea de clasificación binaria, usamos una función de activación `Sigmoid` en la última capa junto a la función de activación `Binary Cross Entropy`."
   ]
  },
  {
   "cell_type": "code",
   "execution_count": 40,
   "metadata": {
    "ExecuteTime": {
     "end_time": "2020-08-10T13:14:21.477873Z",
     "start_time": "2020-08-10T13:14:21.331816Z"
    }
   },
   "outputs": [
    {
     "name": "stdout",
     "output_type": "stream",
     "text": [
      "Epoch 10/100, Loss: -0.0641\n",
      "Epoch 20/100, Loss: 0.0114\n",
      "Epoch 30/100, Loss: 0.0383\n",
      "Epoch 40/100, Loss: 0.0477\n",
      "Epoch 50/100, Loss: 0.0509\n",
      "Epoch 60/100, Loss: 0.0515\n",
      "Epoch 70/100, Loss: 0.0511\n",
      "Epoch 80/100, Loss: 0.0503\n",
      "Epoch 90/100, Loss: 0.0492\n",
      "Epoch 100/100, Loss: 0.0481\n"
     ]
    }
   ],
   "source": [
    "D_in, H, D_out = 2, 3, 1\n",
    "mlp = MLP([\n",
    "    Linear(D_in, H),\n",
    "    ReLU(),\n",
    "    Linear(H, D_out),\n",
    "    Sigmoid()\n",
    "])\n",
    "\n",
    "optimizer = SGD(mlp, lr=0.01)\n",
    "loss = BCE(mlp)\n",
    "\n",
    "epochs = 100\n",
    "batch_size = 10\n",
    "\n",
    "batches = len(X) // batch_size\n",
    "log_each = 10\n",
    "l = []\n",
    "for e in range(1,epochs+1):\n",
    "    _l = []\n",
    "    for b in range(batches):\n",
    "        x = X_norm[b*batch_size:(b+1)*batch_size]\n",
    "        y = Y[b*batch_size:(b+1)*batch_size] \n",
    "        y_pred = mlp(x)    \n",
    "        _l.append(loss(y_pred, y))\n",
    "        loss.backward()    \n",
    "        optimizer.update()\n",
    "    l.append(np.mean(_l))\n",
    "    if not e % log_each:\n",
    "        print(f'Epoch {e}/{epochs}, Loss: {np.mean(l):.4f}')"
   ]
  },
  {
   "cell_type": "code",
   "execution_count": 41,
   "metadata": {
    "ExecuteTime": {
     "end_time": "2020-08-10T13:14:22.642676Z",
     "start_time": "2020-08-10T13:14:22.485667Z"
    }
   },
   "outputs": [
    {
     "data": {
      "image/png": "[encoded data removed]",
      "text/plain": [
       "<Figure size 432x288 with 1 Axes>"
      ]
     },
     "metadata": {
      "needs_background": "light"
     },
     "output_type": "display_data"
    }
   ],
   "source": [
    "from matplotlib.colors import ListedColormap\n",
    "custom_cmap = ListedColormap(['#9898ff', '#fafab0'])\n",
    "\n",
    "axes = [0.5, 5, 0, 2]\n",
    "label=\"Iris Setosa\"\n",
    "x0, x1 = np.meshgrid(\n",
    "        np.linspace(axes[0], axes[1], 500).reshape(-1, 1),\n",
    "        np.linspace(axes[2], axes[3], 200).reshape(-1, 1),\n",
    "    )\n",
    "X_new = np.c_[x0.ravel(), x1.ravel()]\n",
    "X_new = (X_new - X_mean) / X_std \n",
    "y_predict = mlp(X_new)\n",
    "zz = y_predict.reshape(x0.shape)\n",
    "plt.plot(X[Y==0, 0], X[Y==0, 1], \"bs\", label=f\"No {label}\")\n",
    "plt.plot(X[Y==1, 0], X[Y==1, 1], \"yo\", label=label)\n",
    "plt.contourf(x0, x1, zz, cmap=custom_cmap)\n",
    "plt.xlabel(\"Petal length\", fontsize=14)\n",
    "plt.ylabel(\"Petal width\", fontsize=14)\n",
    "plt.legend(loc=\"lower right\", fontsize=14)\n",
    "plt.axis(axes)\n",
    "plt.show()"
   ]
  },
  {
   "cell_type": "markdown",
   "metadata": {},
   "source": [
    "Vamos a entrenar un `MLP` en el caso de la clasificación de las flores *Iris Versicolor*, una clase que no es linealmente separable, con más capas y neuronas."
   ]
  },
  {
   "cell_type": "code",
   "execution_count": 44,
   "metadata": {
    "ExecuteTime": {
     "end_time": "2020-08-10T13:15:21.161755Z",
     "start_time": "2020-08-10T13:15:21.044120Z"
    }
   },
   "outputs": [
    {
     "data": {
      "image/png": "[encoded data removed]",
      "text/plain": [
       "<Figure size 432x288 with 1 Axes>"
      ]
     },
     "metadata": {
      "needs_background": "light"
     },
     "output_type": "display_data"
    }
   ],
   "source": [
    "Y = (iris.target == 1).astype(np.int)\n",
    "\n",
    "plt.plot(X[Y==0, 0], X[Y==0, 1], 's', label=\"No Iris Versicolor\")\n",
    "plt.plot(X[Y==1, 0], X[Y==1, 1], 'x', label=\"Iris Versicolor\")\n",
    "plt.grid()\n",
    "plt.legend()\n",
    "plt.xlabel('petal length', fontsize=14)\n",
    "plt.ylabel('petal width', fontsize=14)\n",
    "plt.title(\"Iris dataset\", fontsize=14)\n",
    "plt.show()"
   ]
  },
  {
   "cell_type": "code",
   "execution_count": 45,
   "metadata": {
    "ExecuteTime": {
     "end_time": "2020-08-10T13:15:22.164847Z",
     "start_time": "2020-08-10T13:15:21.780335Z"
    }
   },
   "outputs": [
    {
     "name": "stdout",
     "output_type": "stream",
     "text": [
      "Epoch 10/100, Loss: 0.0031\n",
      "Epoch 20/100, Loss: 0.0436\n",
      "Epoch 30/100, Loss: 0.0472\n",
      "Epoch 40/100, Loss: 0.0441\n",
      "Epoch 50/100, Loss: 0.0402\n",
      "Epoch 60/100, Loss: 0.0367\n",
      "Epoch 70/100, Loss: 0.0337\n",
      "Epoch 80/100, Loss: 0.0312\n",
      "Epoch 90/100, Loss: 0.0291\n",
      "Epoch 100/100, Loss: 0.0273\n"
     ]
    }
   ],
   "source": [
    "D_in, H, D_out = 2, 100, 1\n",
    "mlp = MLP([\n",
    "    Linear(D_in, H),\n",
    "    ReLU(),\n",
    "    Linear(H, H),\n",
    "    ReLU(),\n",
    "    Linear(H, H),\n",
    "    ReLU(),\n",
    "    Linear(H, D_out),\n",
    "    Sigmoid()\n",
    "])\n",
    "\n",
    "optimizer = SGD(mlp, lr=0.01)\n",
    "loss = BCE(mlp)\n",
    "\n",
    "epochs = 100\n",
    "batch_size = 10\n",
    "\n",
    "batches = len(X) // batch_size\n",
    "log_each = 10\n",
    "l = []\n",
    "for e in range(1,epochs+1):\n",
    "    _l = []\n",
    "    for b in range(batches):\n",
    "        x = X_norm[b*batch_size:(b+1)*batch_size]\n",
    "        y = Y[b*batch_size:(b+1)*batch_size] \n",
    "        y_pred = mlp(x)    \n",
    "        _l.append(loss(y_pred, y))\n",
    "        loss.backward()    \n",
    "        optimizer.update()\n",
    "    l.append(np.mean(_l))\n",
    "    if not e % log_each:\n",
    "        print(f'Epoch {e}/{epochs}, Loss: {np.mean(l):.4f}')"
   ]
  },
  {
   "cell_type": "code",
   "execution_count": 46,
   "metadata": {
    "ExecuteTime": {
     "end_time": "2020-08-10T13:15:25.034241Z",
     "start_time": "2020-08-10T13:15:24.659286Z"
    }
   },
   "outputs": [
    {
     "data": {
      "image/png": "[encoded data removed]",
      "text/plain": [
       "<Figure size 432x288 with 1 Axes>"
      ]
     },
     "metadata": {
      "needs_background": "light"
     },
     "output_type": "display_data"
    }
   ],
   "source": [
    "axes = [0.5, 7, 0, 2.8]\n",
    "label=\"Iris Versicolor\"\n",
    "x0, x1 = np.meshgrid(\n",
    "        np.linspace(axes[0], axes[1], 500).reshape(-1, 1),\n",
    "        np.linspace(axes[2], axes[3], 200).reshape(-1, 1),\n",
    "    )\n",
    "X_new = np.c_[x0.ravel(), x1.ravel()]\n",
    "X_new = (X_new - X_mean) / X_std \n",
    "y_predict = mlp(X_new)\n",
    "zz = y_predict.reshape(x0.shape)\n",
    "plt.plot(X[Y==0, 0], X[Y==0, 1], \"bs\", label=f\"No {label}\")\n",
    "plt.plot(X[Y==1, 0], X[Y==1, 1], \"yo\", label=label)\n",
    "plt.contourf(x0, x1, zz, cmap=custom_cmap)\n",
    "plt.xlabel(\"Petal length\", fontsize=14)\n",
    "plt.ylabel(\"Petal width\", fontsize=14)\n",
    "plt.legend(loc=\"lower right\", fontsize=14)\n",
    "plt.axis(axes)\n",
    "plt.show()"
   ]
  },
  {
   "cell_type": "markdown",
   "metadata": {},
   "source": [
    "Como puedes ver, nuestro framework ahora es flexible a la vez que funcional."
   ]
  },
  {
   "cell_type": "markdown",
   "metadata": {},
   "source": [
    "### Clasificación Multiclase"
   ]
  },
  {
   "cell_type": "markdown",
   "metadata": {},
   "source": [
    "Por último, resolvemos el caso de clasificación multiclase."
   ]
  },
  {
   "cell_type": "code",
   "execution_count": 49,
   "metadata": {
    "ExecuteTime": {
     "end_time": "2020-08-10T13:16:52.519913Z",
     "start_time": "2020-08-10T13:16:52.394143Z"
    }
   },
   "outputs": [
    {
     "data": {
      "image/png": "[encoded data removed]",
      "text/plain": [
       "<Figure size 432x288 with 1 Axes>"
      ]
     },
     "metadata": {
      "needs_background": "light"
     },
     "output_type": "display_data"
    }
   ],
   "source": [
    "Y = iris.target\n",
    "\n",
    "plt.plot(X[Y==0, 0], X[Y==0, 1], 's', label=\"Iris Setosa\")\n",
    "plt.plot(X[Y==1, 0], X[Y==1, 1], 'x', label=\"Iris Versicolor\")\n",
    "plt.plot(X[Y==2, 0], X[Y==2, 1], 'o', label=\"Iris Virginica\")\n",
    "plt.grid()\n",
    "plt.legend()\n",
    "plt.xlabel('petal length', fontsize=14)\n",
    "plt.ylabel('petal width', fontsize=14)\n",
    "plt.title(\"Iris dataset\", fontsize=14)\n",
    "plt.show()"
   ]
  },
  {
   "cell_type": "markdown",
   "metadata": {},
   "source": [
    "Para ello ya sabemos que tenemos que usar la función de pérdida `CrossEntropy` con función de activación lineal en la última capa."
   ]
  },
  {
   "cell_type": "code",
   "execution_count": 52,
   "metadata": {
    "ExecuteTime": {
     "end_time": "2020-08-10T13:16:59.934417Z",
     "start_time": "2020-08-10T13:16:59.511295Z"
    }
   },
   "outputs": [
    {
     "name": "stdout",
     "output_type": "stream",
     "text": [
      "Epoch 10/100, Loss: 0.7623\n",
      "Epoch 20/100, Loss: 0.5704\n",
      "Epoch 30/100, Loss: 0.4458\n",
      "Epoch 40/100, Loss: 0.3658\n",
      "Epoch 50/100, Loss: 0.3130\n",
      "Epoch 60/100, Loss: 0.2762\n",
      "Epoch 70/100, Loss: 0.2491\n",
      "Epoch 80/100, Loss: 0.2285\n",
      "Epoch 90/100, Loss: 0.2122\n",
      "Epoch 100/100, Loss: 0.1991\n"
     ]
    }
   ],
   "source": [
    "D_in, H, D_out = 2, 100, 3\n",
    "mlp = MLP([\n",
    "    Linear(D_in, H),\n",
    "    ReLU(),\n",
    "    Linear(H, H),\n",
    "    ReLU(),\n",
    "    Linear(H, H),\n",
    "    ReLU(),\n",
    "    Linear(H, D_out)\n",
    "])\n",
    "\n",
    "optimizer = SGD(mlp, lr=0.02)\n",
    "loss = CrossEntropy(mlp)\n",
    "\n",
    "epochs = 100\n",
    "batch_size = 10\n",
    "\n",
    "batches = len(X) // batch_size\n",
    "log_each = 10\n",
    "l = []\n",
    "for e in range(1,epochs+1):\n",
    "    _l = []\n",
    "    for b in range(batches):\n",
    "        x = X_norm[b*batch_size:(b+1)*batch_size]\n",
    "        y = Y[b*batch_size:(b+1)*batch_size] \n",
    "        y_pred = mlp(x)    \n",
    "        _l.append(loss(y_pred, y))\n",
    "        loss.backward()    \n",
    "        optimizer.update()\n",
    "    l.append(np.mean(_l))\n",
    "    if not e % log_each:\n",
    "        print(f'Epoch {e}/{epochs}, Loss: {np.mean(l):.4f}')"
   ]
  },
  {
   "cell_type": "code",
   "execution_count": 53,
   "metadata": {
    "ExecuteTime": {
     "end_time": "2020-08-10T13:17:00.930108Z",
     "start_time": "2020-08-10T13:17:00.525463Z"
    }
   },
   "outputs": [
    {
     "data": {
      "image/png": "[encoded data removed]",
      "text/plain": [
       "<Figure size 432x288 with 1 Axes>"
      ]
     },
     "metadata": {
      "needs_background": "light"
     },
     "output_type": "display_data"
    }
   ],
   "source": [
    "resolution=0.02\n",
    "markers = ('s', 'x', 'o', '^', 'v')\n",
    "colors = ('red', 'blue', 'lightgreen', 'gray', 'cyan')\n",
    "cmap = ListedColormap(colors[:len(np.unique(Y))])\n",
    "\n",
    "# plot the decision surface\n",
    "x1_min, x1_max = X[:, 0].min() - 1, X[:, 0].max() + 1\n",
    "x2_min, x2_max = X[:, 1].min() - 1, X[:, 1].max() + 1\n",
    "xx1, xx2 = np.meshgrid(np.arange(x1_min, x1_max, resolution),\n",
    "                       np.arange(x2_min, x2_max, resolution))\n",
    "X_new = (np.array([xx1.ravel(), xx2.ravel()]).T - X_mean)/X_std\n",
    "Z = mlp(X_new)\n",
    "Z = np.argmax(softmax(Z), axis=1) \n",
    "Z = Z.reshape(xx1.shape)\n",
    "plt.contourf(xx1, xx2, Z, alpha=0.3, cmap=cmap)\n",
    "plt.xlim(xx1.min(), xx1.max())\n",
    "plt.ylim(xx2.min(), xx2.max())\n",
    "plt.xlabel('petal length', fontsize=14)\n",
    "plt.ylabel('petal width', fontsize=14)\n",
    "classes = [\"Iris-Setosa\", \"Iris-Versicolor\", \"Iris-Virginica\"]\n",
    "for idx, cl in enumerate(np.unique(Y)):\n",
    "    plt.scatter(x=X[Y == cl, 0], \n",
    "                y=X[Y == cl, 1],\n",
    "                alpha=0.8, \n",
    "                c=colors[idx],\n",
    "                marker=markers[idx], \n",
    "                label=classes[cl], \n",
    "                edgecolor='black')\n",
    "plt.legend(loc='upper left', fontsize=14)\n",
    "plt.show()"
   ]
  },
  {
   "cell_type": "markdown",
   "metadata": {},
   "source": [
    "## Resumen"
   ]
  },
  {
   "cell_type": "markdown",
   "metadata": {},
   "source": [
    "En este post hemos visto como podemos implementar nuestro propio framework de perceptrón multicapa. Las ideas expuestas son muy similares a las utilizadas internamente por frameworks de `redes neuronales` como `Pytorch` o `Tensorflow`, lo cual nos permitirá conocer en detalle como funcionan estos frameworks a la hora de trabajar con arquitecturas más complicadas. Nuestro framework es flexible, ya que con la misma interfaz es capaz de llevar a cabo las diferentes tareas y de manera muy sencilla podemos probar diferentes arquitecturas de `MLP` con más o menos capas, diferentes funciones de pérdida y de activación, etc. En este [post](https://sensioai.com/blog/017_clasificacion_multiclase) utilizamos el dataset MNIST para clasificación de imágenes, ¿te ves capaz de utilizar nuestro framework para esta tarea?"
   ]
  }
 ],
 "metadata": {
  "kernelspec": {
   "display_name": "Python 3",
   "language": "python",
   "name": "python3"
  },
  "language_info": {
   "codemirror_mode": {
    "name": "ipython",
    "version": 3
   },
   "file_extension": ".py",
   "mimetype": "text/x-python",
   "name": "python",
   "nbconvert_exporter": "python",
   "pygments_lexer": "ipython3",
   "version": "3.7.6"
  },
  "toc": {
   "base_numbering": 1,
   "nav_menu": {},
   "number_sections": true,
   "sideBar": true,
   "skip_h1_title": false,
   "title_cell": "Table of Contents",
   "title_sidebar": "Contents",
   "toc_cell": false,
   "toc_position": {
    "height": "calc(100% - 180px)",
    "left": "10px",
    "top": "150px",
    "width": "233.594px"
   },
   "toc_section_display": true,
   "toc_window_display": false
  }
 },
 "nbformat": 4,
 "nbformat_minor": 4
}
