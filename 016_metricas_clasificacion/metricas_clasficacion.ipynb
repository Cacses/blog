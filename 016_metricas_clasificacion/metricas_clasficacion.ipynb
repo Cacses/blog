{
 "cells": [
  {
   "cell_type": "markdown",
   "metadata": {},
   "source": [
    "[![Open In Colab](https://colab.research.google.com/assets/colab-badge.svg)](https://colab.research.google.com/github/sensioai/blog/blob/master/015_metricas_clasificacion/metricas_clasficacion.ipynb)"
   ]
  },
  {
   "cell_type": "markdown",
   "metadata": {},
   "source": [
    "# Métricas para Clasificación Binaria"
   ]
  },
  {
   "cell_type": "markdown",
   "metadata": {},
   "source": [
    "En [posts](https://sensioai.com/blog/015_logistic_regression) anteriores hemos visto como podemos implementar modelos lineales para clasficación binaria, ejemplos de los modelos más simples en el `Machine Learning` pero no por ello menos usados (pese a las limitaciones que ya hemos comentado, estos modelos son eficientes y explicables, lo cual es preferido en multitud de aplicaciones). En este post vamos a ver algunas de las métricas más utilizadas en clasificación binaria (aunque pueden extenderse también a clasificación en varias clases). Estas métricas nos van a ser muy útiles para caracterizar el desempeño de nuestros modelos y comparar diferentes modelos entre sí para, por ejemplos, utilizar el mejor. "
   ]
  },
  {
   "cell_type": "markdown",
   "metadata": {},
   "source": [
    "## El dataset MNIST"
   ]
  },
  {
   "cell_type": "markdown",
   "metadata": {},
   "source": [
    "En los posts anteriores sobre clasificación binaria hemos trabajado con el dataset Iris para clasificación de flores a partir de características como el ancho o la longitud de sus pétalos. En este post vamos a utilizar un nuevo dataset, probablemente el más utilizado mientras aprendemos sobre `Deep Learning` y considerado el *hello world* del `Machine Learning`: el dataset [MNIST](http://yann.lecun.com/exdb/mnist/). Este dataset fue elaborado con el objetivo de entrenar modelos automáticos de OCR (*Optical Character Recognition*) para poder acelerar el trabajo de clasificación de correo a partir del código postal escrito. Está formado por 70,0000 imágenes de dígitos manuscritos, entre $0$ y $9$, y el objetivo es el de ser capaces de diseñar un algoritmo capaz de clasificar una imágen (decir que número es) directamente a partir de sus pixeles. De entre las diferentes fuentes que podemos utilizar para descargar estos datos, vamos a utilizar [Scikit-Learn](https://scikit-learn.org/stable/)."
   ]
  },
  {
   "cell_type": "code",
   "execution_count": 1,
   "metadata": {
    "ExecuteTime": {
     "end_time": "2020-07-14T11:34:30.332724Z",
     "start_time": "2020-07-14T11:34:11.690776Z"
    }
   },
   "outputs": [
    {
     "data": {
      "text/plain": [
       "dict_keys(['data', 'target', 'frame', 'feature_names', 'target_names', 'DESCR', 'details', 'categories', 'url'])"
      ]
     },
     "execution_count": 1,
     "metadata": {},
     "output_type": "execute_result"
    }
   ],
   "source": [
    "from sklearn.datasets import fetch_openml\n",
    "\n",
    "mnist = fetch_openml('mnist_784', version=1)\n",
    "mnist.keys()"
   ]
  },
  {
   "cell_type": "code",
   "execution_count": 2,
   "metadata": {
    "ExecuteTime": {
     "end_time": "2020-07-14T11:34:30.348758Z",
     "start_time": "2020-07-14T11:34:30.333725Z"
    }
   },
   "outputs": [
    {
     "data": {
      "text/plain": [
       "((70000, 784), (70000,))"
      ]
     },
     "execution_count": 2,
     "metadata": {},
     "output_type": "execute_result"
    }
   ],
   "source": [
    "X, y = mnist[\"data\"], mnist[\"target\"]\n",
    "\n",
    "X.shape, y.shape"
   ]
  },
  {
   "cell_type": "markdown",
   "metadata": {},
   "source": [
    "Como puedes ver, cada imágen está formada por $784$ características (los pixeles). Podemos visualizar unas cuantas imágenes junto a sus etiquetas de la siguiente manera para hacernos una idea del tipo de datos al que nos enfrentamos."
   ]
  },
  {
   "cell_type": "code",
   "execution_count": 3,
   "metadata": {
    "ExecuteTime": {
     "end_time": "2020-07-14T11:34:30.906759Z",
     "start_time": "2020-07-14T11:34:30.349757Z"
    }
   },
   "outputs": [
    {
     "data": {
      "image/png": "[encoded data removed]",
      "text/plain": [
       "<Figure size 720x432 with 15 Axes>"
      ]
     },
     "metadata": {
      "needs_background": "light"
     },
     "output_type": "display_data"
    }
   ],
   "source": [
    "%matplotlib inline\n",
    "\n",
    "import matplotlib as mpl\n",
    "import matplotlib.pyplot as plt\n",
    "import random \n",
    "\n",
    "r, c = 3, 5\n",
    "fig = plt.figure(figsize=(2*c, 2*r))\n",
    "for _r in range(r):\n",
    "    for _c in range(c):\n",
    "        plt.subplot(r, c, _r*c + _c + 1)\n",
    "        ix = random.randint(0, len(X)-1)\n",
    "        img = X[ix]\n",
    "        plt.imshow(img.reshape(28,28), cmap='gray')\n",
    "        plt.axis(\"off\")\n",
    "        plt.title(y[ix])\n",
    "plt.tight_layout()\n",
    "plt.show()"
   ]
  },
  {
   "cell_type": "markdown",
   "metadata": {},
   "source": [
    "Por último, vamos a extraer $60,000$ imágenes para entrenar nuestro modelo y $10,000$ para evaluarlo y calcular las diferentes métricas que veremos."
   ]
  },
  {
   "cell_type": "code",
   "execution_count": 4,
   "metadata": {
    "ExecuteTime": {
     "end_time": "2020-07-14T11:34:31.016284Z",
     "start_time": "2020-07-14T11:34:30.907761Z"
    }
   },
   "outputs": [],
   "source": [
    "X_train, X_test, y_train, y_test = X[:60000] / 255., X[60000:] / 255., y[:60000], y[60000:]"
   ]
  },
  {
   "cell_type": "markdown",
   "metadata": {},
   "source": [
    "> 💡 Recuerda que para que nuestro modelo pueda aprender mejor tenemos que normalizar los datos que usaremos como entrada. En este caso cada píxel está representado por un valor entero entre 0-255, por lo que al dividir cada imágen por 255 nos aseguramos que nuestros valores a la entrada estén en el rango 0-1"
   ]
  },
  {
   "cell_type": "markdown",
   "metadata": {
    "ExecuteTime": {
     "end_time": "2020-07-14T09:09:07.216330Z",
     "start_time": "2020-07-14T09:09:07.203298Z"
    }
   },
   "source": [
    "## Entrenando un clasificador binario"
   ]
  },
  {
   "cell_type": "markdown",
   "metadata": {},
   "source": [
    "Para llevar a cabo una tarea de clasificación binaria necesitamos que nuestro dataset esté dividido en dos clases, sin embargo el dataset MNIST, cómo ya hemos visto, tiene $10$ clases (todos los dígitos entre $0$ y $9$). En este caso vamos entrenar un modelo para clasificar las imágenes con el número $5$ del resto."
   ]
  },
  {
   "cell_type": "code",
   "execution_count": 5,
   "metadata": {
    "ExecuteTime": {
     "end_time": "2020-07-14T11:34:31.032283Z",
     "start_time": "2020-07-14T11:34:31.017285Z"
    }
   },
   "outputs": [],
   "source": [
    "import numpy as np\n",
    "\n",
    "y_train_5 = (y_train == '5').astype(np.int)\n",
    "y_test_5 = (y_test == '5').astype(np.int)"
   ]
  },
  {
   "cell_type": "markdown",
   "metadata": {},
   "source": [
    "Y ahora traemos el modelo de Regresión Logística que implementamos en el [post](https://sensioai.com/blog/015_logistic_regression) anterior. Si no estás familiarizado con este modelo te recomiendo que le eches un vistazo al post antes de seguir. En este caso hemos cambiado el esquema de inicialización de los pesos, utilizando una distribución normal escalada por el número de pesos. También hemos añadido un `print` para ver cómo va evolucionando el modelo durante el entrenamiento, visualizando el valor de la *loss function* en cada *epoch*."
   ]
  },
  {
   "cell_type": "code",
   "execution_count": 6,
   "metadata": {
    "ExecuteTime": {
     "end_time": "2020-07-14T11:34:31.047282Z",
     "start_time": "2020-07-14T11:34:31.033284Z"
    },
    "code_folding": [
     0,
     3,
     6
    ]
   },
   "outputs": [],
   "source": [
    "def bce(y, y_hat):\n",
    "    return - np.mean(y*np.log(y_hat) - (1 - y)*np.log(1 - y_hat))\n",
    "\n",
    "def sigmoid(x):\n",
    "  return 1 / (1 + np.exp(-x))\n",
    "\n",
    "class Perceptron():\n",
    "  def __init__(self, size):\n",
    "    self.w = np.random.normal(loc=0.0, \n",
    "          scale = np.sqrt(2/(size+1)), \n",
    "          size = (size, )) \n",
    "    self.ws = []\n",
    "    self.activation = sigmoid\n",
    "    self.loss = bce\n",
    "    \n",
    "  def __call__(self, w, x):\n",
    "    return self.activation(np.dot(x, w)) \n",
    "\n",
    "  def fit(self, x, y, epochs, lr, verbose=True):\n",
    "    x = np.c_[np.ones(len(x)), x]\n",
    "    for epoch in range(1,epochs+1):\n",
    "        # Batch Gradient Descent\n",
    "        y_hat = self(self.w, x)  \n",
    "        # función de pérdida\n",
    "        l = self.loss(y, y_hat)\n",
    "        # derivadas\n",
    "        dldh = (y_hat - y)\n",
    "        dhdw = x\n",
    "        dldw = np.dot(dldh, dhdw)\n",
    "        # actualizar pesos\n",
    "        self.w = self.w - lr*dldw\n",
    "        # guardar pesos para animación\n",
    "        self.ws.append(self.w.copy())\n",
    "        # print loss\n",
    "        if verbose:\n",
    "            print(f\"Epoch {epoch}/{epochs} Loss {l}\")\n"
   ]
  },
  {
   "cell_type": "code",
   "execution_count": 7,
   "metadata": {
    "ExecuteTime": {
     "end_time": "2020-07-14T11:34:31.706966Z",
     "start_time": "2020-07-14T11:34:31.049283Z"
    }
   },
   "outputs": [
    {
     "name": "stdout",
     "output_type": "stream",
     "text": [
      "Epoch 1/10 Loss -0.5548410142855105\n",
      "Epoch 2/10 Loss 0.7206598224991427\n",
      "Epoch 3/10 Loss 0.5304482677090413\n",
      "Epoch 4/10 Loss 0.3387412138758039\n",
      "Epoch 5/10 Loss 0.1481787367177464\n",
      "Epoch 6/10 Loss 0.02999051884537081\n",
      "Epoch 7/10 Loss 0.07018573941348853\n",
      "Epoch 8/10 Loss 0.03957115693418077\n",
      "Epoch 9/10 Loss 0.053798900444024085\n",
      "Epoch 10/10 Loss 0.0419895655402817\n"
     ]
    }
   ],
   "source": [
    "np.random.seed(42)\n",
    "\n",
    "perceptron = Perceptron(X.shape[1] + 1)\n",
    "epochs, lr = 10, 1e-5\n",
    "perceptron.fit(X_train, y_train_5, epochs, lr)"
   ]
  },
  {
   "cell_type": "markdown",
   "metadata": {},
   "source": [
    "En este punto ya hemos entrenado nuestro modelo. Ahora, ¿cómo lo podemos evaluar? ¿Es este un buen modelo o un mal modelo? ¿Si entrenamos otro modelo, cómo podemos saber si es mejor o pero que el primero? Todas estas preguntas las podemos responder con las `métricas`."
   ]
  },
  {
   "cell_type": "markdown",
   "metadata": {},
   "source": [
    "## Métricas"
   ]
  },
  {
   "cell_type": "markdown",
   "metadata": {},
   "source": [
    "Vamos a ver las métricas más utilizadas en la evaluación de modelos de clasificación binaria. Para calcular cualquier métrica vamos a necesitar ser capaces de generar predicciones con nuestro modelo. En posts anterior ya hemos visto cómo podemos hacerlo."
   ]
  },
  {
   "cell_type": "code",
   "execution_count": 8,
   "metadata": {
    "ExecuteTime": {
     "end_time": "2020-07-14T11:34:31.722963Z",
     "start_time": "2020-07-14T11:34:31.707968Z"
    }
   },
   "outputs": [],
   "source": [
    "def evaluate(perceptron, x, t = 0.5):\n",
    "    w = perceptron.ws[-1]\n",
    "    x = np.c_[np.ones(len(x)), x]\n",
    "    y = perceptron(w, x)\n",
    "    return (y > t).astype(np.int)"
   ]
  },
  {
   "cell_type": "markdown",
   "metadata": {},
   "source": [
    "### *Accuracy*"
   ]
  },
  {
   "cell_type": "markdown",
   "metadata": {},
   "source": [
    "La primera métrica que vamos a ver, también la más común, es la *accuracy* (o precisión). En esta métrica simplemente contamos todos los elementos del dataset que nuestro modelo ha sido capaz de clasificar correctamente y lo dividimos entre el número total de elementos. Ésto implica que la precisión será un valor entre $0$ y $1$, significando $0$ que nuestro modelo no ha acertado ningún resultado y $1$ que los ha acertado todos. También es común dar este valor en porcentaje (simplemente multiplicando por $100$ el resultado anterior)."
   ]
  },
  {
   "cell_type": "code",
   "execution_count": 9,
   "metadata": {
    "ExecuteTime": {
     "end_time": "2020-07-14T11:34:31.738962Z",
     "start_time": "2020-07-14T11:34:31.723965Z"
    }
   },
   "outputs": [],
   "source": [
    "def accuracy(y_pred, y):\n",
    "    return np.sum(y_pred == y) / len(y)"
   ]
  },
  {
   "cell_type": "code",
   "execution_count": 10,
   "metadata": {
    "ExecuteTime": {
     "end_time": "2020-07-14T11:34:31.880965Z",
     "start_time": "2020-07-14T11:34:31.739962Z"
    }
   },
   "outputs": [
    {
     "data": {
      "text/plain": [
       "0.9196666666666666"
      ]
     },
     "execution_count": 10,
     "metadata": {},
     "output_type": "execute_result"
    }
   ],
   "source": [
    "y_pred = evaluate(perceptron, X_train)\n",
    "accuracy(y_pred, y_train_5)"
   ]
  },
  {
   "cell_type": "code",
   "execution_count": 11,
   "metadata": {
    "ExecuteTime": {
     "end_time": "2020-07-14T11:34:31.912963Z",
     "start_time": "2020-07-14T11:34:31.881965Z"
    }
   },
   "outputs": [
    {
     "data": {
      "text/plain": [
       "0.9232"
      ]
     },
     "execution_count": 11,
     "metadata": {},
     "output_type": "execute_result"
    }
   ],
   "source": [
    "y_pred = evaluate(perceptron, X_test)\n",
    "accuracy(y_pred, y_test_5)"
   ]
  },
  {
   "cell_type": "markdown",
   "metadata": {},
   "source": [
    "Cómo podemos ver nuestro modelo tiene una precisión cercana al $92 \\%$ tanto para el conjunto de entrenamiento como para el de evaluación. ¿Es este un buen modelo? A priori podríamos pensar que si, ya que nuestro modelo acierta $9$ de cada $10$ imágenes... Sin embargo, la realidad es que nuestro modelo no está haciendo prácticamente nada. Vamos a ver porqué analizando nuestros datos. Cómo ya hemos comentado estamos haciendo un clasificador binario para detectar el número $5$. ¿Cuántas imágenes diferentes de $5$s tenemos en nuestro dataset?"
   ]
  },
  {
   "cell_type": "code",
   "execution_count": 12,
   "metadata": {
    "ExecuteTime": {
     "end_time": "2020-07-14T11:34:31.928962Z",
     "start_time": "2020-07-14T11:34:31.913963Z"
    }
   },
   "outputs": [
    {
     "data": {
      "text/plain": [
       "(0.90965, 0.9108)"
      ]
     },
     "execution_count": 12,
     "metadata": {},
     "output_type": "execute_result"
    }
   ],
   "source": [
    "1 - y_train_5.mean(), 1 - y_test_5.mean()"
   ]
  },
  {
   "cell_type": "markdown",
   "metadata": {},
   "source": [
    "Aquí tenemos la respuesta, nuestro dataset está formado en un $91 \\%$ por imágenes que no son $5$. Esto significa que un modelo *naive* que siempre diga que NO tenemos un $5$ va a tener una *accuracy* del $91 \\%$. Sin embargo, en el mundo real, nunca detectaremos este dígito y nuestra aplicación fallará estrepitosamente. Nuestro modelo tiene una precisión del $92 \\%$, mejorando ligreamente este valor pero no por mucho."
   ]
  },
  {
   "cell_type": "code",
   "execution_count": 13,
   "metadata": {
    "ExecuteTime": {
     "end_time": "2020-07-14T11:34:32.447968Z",
     "start_time": "2020-07-14T11:34:31.929963Z"
    }
   },
   "outputs": [
    {
     "data": {
      "image/png": "[encoded data removed]",
      "text/plain": [
       "<Figure size 720x432 with 15 Axes>"
      ]
     },
     "metadata": {
      "needs_background": "light"
     },
     "output_type": "display_data"
    }
   ],
   "source": [
    "r, c = 3, 5\n",
    "fig = plt.figure(figsize=(2*c, 2*r))\n",
    "for _r in range(r):\n",
    "    for _c in range(c):\n",
    "        plt.subplot(r, c, _r*c + _c + 1)\n",
    "        fives = (y_test_5 == 1)\n",
    "        ix = random.randint(0, len(X_test[fives])-1)\n",
    "        img = X_test[fives][ix]\n",
    "        plt.imshow(img.reshape(28,28), cmap='gray')\n",
    "        plt.axis(\"off\")\n",
    "        y_pred = evaluate(perceptron, [img])\n",
    "        plt.title(f\"{y_test_5[fives][ix]} / {y_pred[0]}\", color=\"red\" if y_test_5[fives][ix] != y_pred[0] else \"green\")\n",
    "plt.tight_layout()\n",
    "plt.show()"
   ]
  },
  {
   "cell_type": "markdown",
   "metadata": {},
   "source": [
    "Como puedes ver la métrica de precisión es muy útil pero puede llevar a engaños. Esto se hace especialmente patente en aplicaciones en las que tenemos muy pocas muestras de la clase que queremos capturar. Un ejemplo claro es el de detección de transacciones bancarias fraudulentas, que representan cerca del 0.001% del total de operaciones realizadas. Un modelo de clasificación binaria que siempre diese como resultado que una transacción NO es fraudulenta tendría una precisión del 99.999%, sin embargo sería un modelo totalmente inútil en el mundo real."
   ]
  },
  {
   "cell_type": "markdown",
   "metadata": {},
   "source": [
    "> ⚡ Siempre es recomendable tener unas primeras métricas `baseline` con las que comparar nuestros modelos. Estas métricas pueden obtenerse con un modelo aleatorio (antes de ser entrenado) o en el caso de la clasificación podemos utilizar directamente la distribución de clases en el dataset. Cualquier modelo que hagamos debería mejorar estas métricas."
   ]
  },
  {
   "cell_type": "markdown",
   "metadata": {},
   "source": [
    "En este caso en particular podemos obtener un mejor modelo simplemente entrenando durante más epochs (el modelo anterior no había convergido)."
   ]
  },
  {
   "cell_type": "code",
   "execution_count": 14,
   "metadata": {
    "ExecuteTime": {
     "end_time": "2020-07-14T11:34:48.937986Z",
     "start_time": "2020-07-14T11:34:32.448966Z"
    }
   },
   "outputs": [
    {
     "data": {
      "text/plain": [
       "0.9693"
      ]
     },
     "execution_count": 14,
     "metadata": {},
     "output_type": "execute_result"
    }
   ],
   "source": [
    "perceptron = Perceptron(X.shape[1] + 1)\n",
    "epochs, lr = 300, 1e-5\n",
    "perceptron.fit(X_train, y_train_5, epochs, lr, verbose=False)\n",
    "y_pred = evaluate(perceptron, X_test)\n",
    "accuracy(y_pred, y_test_5)"
   ]
  },
  {
   "cell_type": "code",
   "execution_count": 15,
   "metadata": {
    "ExecuteTime": {
     "end_time": "2020-07-14T11:34:49.525005Z",
     "start_time": "2020-07-14T11:34:48.938989Z"
    }
   },
   "outputs": [
    {
     "data": {
      "image/png": "[encoded data removed]",
      "text/plain": [
       "<Figure size 720x432 with 15 Axes>"
      ]
     },
     "metadata": {
      "needs_background": "light"
     },
     "output_type": "display_data"
    }
   ],
   "source": [
    "r, c = 3, 5\n",
    "fig = plt.figure(figsize=(2*c, 2*r))\n",
    "for _r in range(r):\n",
    "    for _c in range(c):\n",
    "        plt.subplot(r, c, _r*c + _c + 1)\n",
    "        fives = (y_test_5 == 1)\n",
    "        ix = random.randint(0, len(X_test[fives])-1)\n",
    "        img = X_test[fives][ix]\n",
    "        plt.imshow(img.reshape(28,28), cmap='gray')\n",
    "        plt.axis(\"off\")\n",
    "        y_preds = evaluate(perceptron, [img])\n",
    "        plt.title(f\"{y_test_5[fives][ix]} / {y_preds[0]}\", color=\"red\" if y_test_5[fives][ix] != y_preds[0] else \"green\")\n",
    "plt.tight_layout()\n",
    "plt.show()"
   ]
  },
  {
   "cell_type": "markdown",
   "metadata": {},
   "source": [
    "Todas las métricas que vamos a ver están implementadas en la librería `Scikit Learn`, por lo que te recomiendo que las uses directamente para evitar errores en la implementación."
   ]
  },
  {
   "cell_type": "code",
   "execution_count": 16,
   "metadata": {
    "ExecuteTime": {
     "end_time": "2020-07-14T11:34:49.555999Z",
     "start_time": "2020-07-14T11:34:49.526005Z"
    }
   },
   "outputs": [
    {
     "data": {
      "text/plain": [
       "0.9693"
      ]
     },
     "execution_count": 16,
     "metadata": {},
     "output_type": "execute_result"
    }
   ],
   "source": [
    "from sklearn.metrics import accuracy_score\n",
    "\n",
    "accuracy_score(y_test_5, y_pred)"
   ]
  },
  {
   "cell_type": "markdown",
   "metadata": {},
   "source": [
    "### La Matriz de Confusión"
   ]
  },
  {
   "cell_type": "markdown",
   "metadata": {},
   "source": [
    "Una matriz de confusión nos va a indicar exactamente cuales son los puntos fuertes y débiles de nuestro clasificador. Para cada clase, vamos a calcular cuantos elementos han sido bien clasificados por nuestro modelo y cuántos han sido confundidos con otras clases (esta matriz nos será muy útil en clasificación en varias clases también)."
   ]
  },
  {
   "cell_type": "code",
   "execution_count": 17,
   "metadata": {
    "ExecuteTime": {
     "end_time": "2020-07-14T11:34:49.571999Z",
     "start_time": "2020-07-14T11:34:49.556999Z"
    }
   },
   "outputs": [
    {
     "data": {
      "text/plain": [
       "[[9038, 70], [237, 655]]"
      ]
     },
     "execution_count": 17,
     "metadata": {},
     "output_type": "execute_result"
    }
   ],
   "source": [
    "TP = np.sum((y_pred == 1) & (y_test_5 == 1)) \n",
    "TN = np.sum((y_pred == 0) & (y_test_5 == 0)) \n",
    "FP = np.sum((y_pred == 1) & (y_test_5 == 0))\n",
    "FN = np.sum((y_pred == 0) & (y_test_5 == 1))\n",
    "\n",
    "CM = [[TN, FP],\n",
    "      [FN, TP]]\n",
    "CM"
   ]
  },
  {
   "cell_type": "markdown",
   "metadata": {},
   "source": [
    "En esta matriz podemos observar:\n",
    "    \n",
    "- Verdaderos Positivos (TP, *True Positives*): elementos que nuestro modelo clasifica correctamente como la clase que nos interesa, la clase positiva (fila 1, columna 1).\n",
    "- Verdaderos Negativos (TN, *True Negatives*): elementos que nuestro modelo clasifica correctamente como la clase negativa (fila 0, columna 0).\n",
    "- Falsos Positivos (FP, *False Positives*): elementos que nuestro modelo clasifica erróneamente como la clase positiva (fila 0, columna 1).\n",
    "- Falsos Negativos (FN, *False Negatives*): elementos que nuestro modelo clasifica erróneamente como la clase negativa (fila 1, columna 0)."
   ]
  },
  {
   "cell_type": "code",
   "execution_count": 18,
   "metadata": {
    "ExecuteTime": {
     "end_time": "2020-07-14T11:34:49.587999Z",
     "start_time": "2020-07-14T11:34:49.572999Z"
    }
   },
   "outputs": [
    {
     "data": {
      "text/plain": [
       "array([[9038,   70],\n",
       "       [ 237,  655]], dtype=int64)"
      ]
     },
     "execution_count": 18,
     "metadata": {},
     "output_type": "execute_result"
    }
   ],
   "source": [
    "from sklearn.metrics import confusion_matrix\n",
    "\n",
    "confusion_matrix(y_test_5, y_pred)"
   ]
  },
  {
   "cell_type": "markdown",
   "metadata": {},
   "source": [
    "> 💡 Una vez vistos los conceptos definidos en este apartado podemos reescribir la *accuracy* como $ accuracy = \\frac{TP + TN}{TP+TN+FP+FN} $"
   ]
  },
  {
   "cell_type": "markdown",
   "metadata": {},
   "source": [
    "### *Precision* y *Recall*"
   ]
  },
  {
   "cell_type": "markdown",
   "metadata": {},
   "source": [
    "Hemos visto la confusión a la que nos puede llevar una métrica simple como la *accuracy*. Ahora veremos dos métricas que un poco más informativas. Éstas son *precision* (no confundir con la precisión, en castellano, equivalente a la *accuracy*) y *recall*. Para definir estas métricas primero necesitamos definir los siguiente conceptos:\n",
    "\n",
    "$$ precision = \\frac{TP}{TP+FP} $$\n",
    "\n",
    "$$ recall = \\frac{TP}{TP+FN} $$\n",
    "\n",
    "En la siguiente imágen puedes ver una visualización de estas métricas. *Precision* nos da una idea de cómo de propenso es nuestro modelo a dar falsos positivos. Un valor cercano a $1$ indicará que nuestro modelo apenas da falsos positivos (aunque puede seguir fallando dando falsos negativos) mientras que un valor cercano a $0$ indicará que nuestro modelo da muchos falsos positivos. Lo mismo aplica al *Recall*, pero en este caso aplicada a los falsos negativos. Un valor cercano a $1$ indicará que nuestro modelo apenas da falsos negativos (aunque puede seguir fallando dando falsos positivos) mientras que un valor cercano a $0$ indicará que nuestro modelo da muchos falsos negativos. "
   ]
  },
  {
   "cell_type": "markdown",
   "metadata": {
    "ExecuteTime": {
     "end_time": "2020-07-14T10:17:58.102236Z",
     "start_time": "2020-07-14T10:17:58.050344Z"
    }
   },
   "source": [
    "![](https://upload.wikimedia.org/wikipedia/commons/thumb/2/26/Precisionrecall.svg/800px-Precisionrecall.svg.png)"
   ]
  },
  {
   "cell_type": "code",
   "execution_count": 19,
   "metadata": {
    "ExecuteTime": {
     "end_time": "2020-07-14T11:34:49.604000Z",
     "start_time": "2020-07-14T11:34:49.588999Z"
    }
   },
   "outputs": [],
   "source": [
    "def precision(y_pred, y):\n",
    "    TP = np.sum((y_pred == 1) & (y == 1)) \n",
    "    FP = np.sum((y_pred == 1) & (y == 0))\n",
    "    return TP / (TP + FP)\n",
    "\n",
    "def recall(y_pred, y):\n",
    "    TP = np.sum((y_pred == 1) & (y == 1)) \n",
    "    FN = np.sum((y_pred == 0) & (y == 1))\n",
    "    return TP / (TP + FN)"
   ]
  },
  {
   "cell_type": "code",
   "execution_count": 20,
   "metadata": {
    "ExecuteTime": {
     "end_time": "2020-07-14T11:34:49.636000Z",
     "start_time": "2020-07-14T11:34:49.605003Z"
    }
   },
   "outputs": [
    {
     "data": {
      "text/plain": [
       "(0.903448275862069, 0.734304932735426)"
      ]
     },
     "execution_count": 20,
     "metadata": {},
     "output_type": "execute_result"
    }
   ],
   "source": [
    "y_pred = evaluate(perceptron, X_test)\n",
    "precision(y_pred, y_test_5), recall(y_pred, y_test_5)"
   ]
  },
  {
   "cell_type": "code",
   "execution_count": 21,
   "metadata": {
    "ExecuteTime": {
     "end_time": "2020-07-14T11:34:49.652002Z",
     "start_time": "2020-07-14T11:34:49.637999Z"
    }
   },
   "outputs": [
    {
     "data": {
      "text/plain": [
       "(0.903448275862069, 0.734304932735426)"
      ]
     },
     "execution_count": 21,
     "metadata": {},
     "output_type": "execute_result"
    }
   ],
   "source": [
    "from sklearn.metrics import precision_score, recall_score\n",
    "\n",
    "precision_score(y_test_5, y_pred), recall_score(y_test_5, y_pred)"
   ]
  },
  {
   "cell_type": "markdown",
   "metadata": {},
   "source": [
    "En función de la aplicación en la que estemos trabajando vamos a querer optimizar una métrica u otra. En aplicaciones en las que tener falsos positivos sea perjudicial (por ejemplo, aplicaciones de seguridad) querremos modelos con un buena *precision*, mientras que en aplicaciones en las que tener falsos negativos sea perjudicial (por ejemplo, sistemas de diagnóstico médico) querremos modelos con buen *recall*. Una vez nuestro modelo ha sido entrenado, podemos ajustar estas métricas variando el valor del *threshold* utilizado en la evaluación. A esto se le conoce como el *precision-recall trade off*."
   ]
  },
  {
   "cell_type": "code",
   "execution_count": 22,
   "metadata": {
    "ExecuteTime": {
     "end_time": "2020-07-14T11:34:50.082002Z",
     "start_time": "2020-07-14T11:34:49.654000Z"
    }
   },
   "outputs": [
    {
     "name": "stdout",
     "output_type": "stream",
     "text": [
      "Threshold: 0.100 Precision 0.5112 Recall 0.9193\n",
      "Threshold: 0.142 Precision 0.5996 Recall 0.8980\n",
      "Threshold: 0.184 Precision 0.6639 Recall 0.8879\n",
      "Threshold: 0.226 Precision 0.7229 Recall 0.8688\n",
      "Threshold: 0.268 Precision 0.7686 Recall 0.8453\n",
      "Threshold: 0.311 Precision 0.8033 Recall 0.8240\n",
      "Threshold: 0.353 Precision 0.8244 Recall 0.7948\n",
      "Threshold: 0.395 Precision 0.8461 Recall 0.7825\n",
      "Threshold: 0.437 Precision 0.8740 Recall 0.7623\n",
      "Threshold: 0.479 Precision 0.8950 Recall 0.7455\n",
      "Threshold: 0.521 Precision 0.9106 Recall 0.7197\n",
      "Threshold: 0.563 Precision 0.9180 Recall 0.6906\n",
      "Threshold: 0.605 Precision 0.9428 Recall 0.6648\n",
      "Threshold: 0.647 Precision 0.9545 Recall 0.6357\n",
      "Threshold: 0.689 Precision 0.9657 Recall 0.5998\n",
      "Threshold: 0.732 Precision 0.9696 Recall 0.5717\n",
      "Threshold: 0.774 Precision 0.9727 Recall 0.5202\n",
      "Threshold: 0.816 Precision 0.9792 Recall 0.4753\n",
      "Threshold: 0.858 Precision 0.9866 Recall 0.4114\n",
      "Threshold: 0.900 Precision 0.9935 Recall 0.3453\n"
     ]
    }
   ],
   "source": [
    "for t in np.linspace(0.1,0.9,20):\n",
    "    y_pred = evaluate(perceptron, X_test, t)\n",
    "    print(f\"Threshold: {t:.3f} Precision {precision(y_pred, y_test_5):.4f} Recall {recall(y_pred, y_test_5):.4f}\")"
   ]
  },
  {
   "cell_type": "markdown",
   "metadata": {},
   "source": [
    "Cómo se puede observar, incrementar el valor de una de las métricas implica que la otra va a disminuir (es por esto que se le llama *trade-off* ya que tenemos que llegar a un compromiso). Así pues, escogeremos un valor del *threshold* que se ajusto a los criterios de diseño de nuestra aplicación en particular (en función de la cantidad de falsos positivos y falsos negativos que estemos dispuestos a asumir)."
   ]
  },
  {
   "cell_type": "markdown",
   "metadata": {
    "ExecuteTime": {
     "end_time": "2020-07-14T10:45:15.188117Z",
     "start_time": "2020-07-14T10:45:15.144035Z"
    }
   },
   "source": [
    "![](https://wizardforcel.gitbooks.io/scikit-and-tensorflow-workbooks-bjpcjp/pics/decision-threshold-and-precision-vs-recall.png)"
   ]
  },
  {
   "cell_type": "markdown",
   "metadata": {},
   "source": [
    "### F1-Score"
   ]
  },
  {
   "cell_type": "markdown",
   "metadata": {},
   "source": [
    "Una métrica rápida que nos va a decir si nuestro modelo tiene buena *precision* y *recall* es el *F1-score*.\n",
    "\n",
    "$$  F_1 = 2 \\times \\frac{precision \\times recall}{precision + recall} $$\n",
    "\n",
    "Es una métrica muy usada ya que aglutina la información de ambas métricas, sin embargo va a favorecer mucho aquellos modelos con un valor similar de *precision* y *recall*, lo cual ya hemos comentado que no es siempre lo que vamos a querer."
   ]
  },
  {
   "cell_type": "code",
   "execution_count": 23,
   "metadata": {
    "ExecuteTime": {
     "end_time": "2020-07-14T11:34:50.114041Z",
     "start_time": "2020-07-14T11:34:50.083004Z"
    }
   },
   "outputs": [
    {
     "data": {
      "text/plain": [
       "0.8101422387136673"
      ]
     },
     "execution_count": 23,
     "metadata": {},
     "output_type": "execute_result"
    }
   ],
   "source": [
    "y_pred = evaluate(perceptron, X_test)\n",
    "\n",
    "p = precision_score(y_test_5, y_pred)\n",
    "r = recall_score(y_test_5, y_pred)\n",
    "\n",
    "f1 = 2*(p*r)/(p+r)\n",
    "f1"
   ]
  },
  {
   "cell_type": "code",
   "execution_count": 24,
   "metadata": {
    "ExecuteTime": {
     "end_time": "2020-07-14T11:34:50.130040Z",
     "start_time": "2020-07-14T11:34:50.115041Z"
    }
   },
   "outputs": [
    {
     "data": {
      "text/plain": [
       "0.8101422387136673"
      ]
     },
     "execution_count": 24,
     "metadata": {},
     "output_type": "execute_result"
    }
   ],
   "source": [
    "from sklearn.metrics import f1_score\n",
    "\n",
    "f1_score(y_test_5, y_pred)"
   ]
  },
  {
   "cell_type": "markdown",
   "metadata": {},
   "source": [
    "### La curva ROC"
   ]
  },
  {
   "cell_type": "markdown",
   "metadata": {},
   "source": [
    "Podemos visualizar rápidamente el comportamiento de un modelo para varios *thresholds* con la llamada curva ROC (*Receiver Operating Characteristic*). En ella representamos el ratio de verdaderos positivos (TPR) contra el ratio de falsos positivos (FPR), definidos de la siguiente manera:\n",
    "\n",
    "$$ TPR = \\frac{TP}{TP+FN} $$\n",
    "\n",
    "$$ FPR = \\frac{FP}{FP+TN} $$"
   ]
  },
  {
   "cell_type": "code",
   "execution_count": 25,
   "metadata": {
    "ExecuteTime": {
     "end_time": "2020-07-14T11:34:50.145040Z",
     "start_time": "2020-07-14T11:34:50.131040Z"
    }
   },
   "outputs": [],
   "source": [
    "def evaluate2(perceptron, x):\n",
    "    w = perceptron.ws[-1]\n",
    "    x = np.c_[np.ones(len(x)), x]\n",
    "    y = perceptron(w, x)\n",
    "    return y"
   ]
  },
  {
   "cell_type": "code",
   "execution_count": 26,
   "metadata": {
    "ExecuteTime": {
     "end_time": "2020-07-14T11:34:50.176040Z",
     "start_time": "2020-07-14T11:34:50.146040Z"
    }
   },
   "outputs": [],
   "source": [
    "from sklearn.metrics import roc_curve\n",
    "\n",
    "y_pred2 = evaluate2(perceptron, X_test)\n",
    "fpr, tpr, thresholds = roc_curve(y_test_5, y_pred2)"
   ]
  },
  {
   "cell_type": "code",
   "execution_count": 27,
   "metadata": {
    "ExecuteTime": {
     "end_time": "2020-07-14T11:34:50.272041Z",
     "start_time": "2020-07-14T11:34:50.177040Z"
    }
   },
   "outputs": [
    {
     "data": {
      "image/png": "[encoded data removed]",
      "text/plain": [
       "<Figure size 576x432 with 1 Axes>"
      ]
     },
     "metadata": {
      "needs_background": "light"
     },
     "output_type": "display_data"
    }
   ],
   "source": [
    "def plot_roc_curve(fpr, tpr, label=None):\n",
    "    plt.plot(fpr, tpr, linewidth=2, label=label)\n",
    "    plt.plot([0, 1], [0, 1], 'k--') \n",
    "    plt.axis([0, 1, 0, 1])                                    \n",
    "    plt.xlabel('FPR', fontsize=16) \n",
    "    plt.ylabel('TPR', fontsize=16)    \n",
    "    plt.grid(True)                                            \n",
    "\n",
    "plt.figure(figsize=(8, 6))                         \n",
    "plot_roc_curve(fpr, tpr)              \n",
    "plt.show()"
   ]
  },
  {
   "cell_type": "markdown",
   "metadata": {},
   "source": [
    "Una métrica muy utilizada para comparar clasificadores es el área bajo la curva ROC, ya que nos indica como de robusto es un modelo. La línea recta representa un modelo *naive* que podemos usar como baseline. Cómo puedes ver el área bajo la curva ROC de este modelo es de $0.5$, por lo que cualquier modelo que hagamos debería superar este valor. Cuánto más se acerque la curva a la esquina superior izquierda, mayor será el área y mejor será el modelo."
   ]
  },
  {
   "cell_type": "code",
   "execution_count": 28,
   "metadata": {
    "ExecuteTime": {
     "end_time": "2020-07-14T11:34:50.288041Z",
     "start_time": "2020-07-14T11:34:50.273041Z"
    }
   },
   "outputs": [
    {
     "data": {
      "text/plain": [
       "0.9693789129351619"
      ]
     },
     "execution_count": 28,
     "metadata": {},
     "output_type": "execute_result"
    }
   ],
   "source": [
    "from sklearn.metrics import roc_auc_score\n",
    "\n",
    "roc_auc_score(y_test_5, y_pred2)"
   ]
  },
  {
   "cell_type": "markdown",
   "metadata": {},
   "source": [
    "## Resumen"
   ]
  },
  {
   "cell_type": "markdown",
   "metadata": {},
   "source": [
    "En este post hemos visto las métricas más comunes cuando trabajamos con clasificadores (tanto binarios como multi-clase). Para ello hemos trabajado con el dataset MNIST, uno de los datasets más utilizados en el `Machine Learning`. El objetivo es el de clasificar imágenes de dígitos manuscritos en 10 clases (desde el dígito 0 al 9), sin embargo lo hemos adaptado para hacer clasificación binaria de imágenes con el número 5. También hemos mejorado ligeramente la implementación de nuestro `Perceptrón` con una mejor inicialización de los pesos y la posibilidad de visualizar la evolución de la función de pérdida durante el entrenamiento. Después hemos visto las siguiente métricas:\n",
    "\n",
    "- *Accuracy* es la más simple, consistente en contar cuantos elementos del dataset nuestro modelo clasifica correctamente. Puede llevarnos a engaños si no tenemos en cuenta la distribución de nuestras clases, poniendo en relevancia la necesidad de tener métricas `baseline` para comprar nuestros primeros modelos.\n",
    "- La matriz de confusión nos va indicar el número de elementos del nuestro dataset que el modelo clasifica bien, así como todos los que confunda con otras clases. De esta manera sabremos cómo mejorar nuestro modelo.\n",
    "- *Precision* y *Recall* nos indican cómo de robusto será nuestro modelo, cuantificando los falsos positivos y falsos negativos. En función de nuestra aplicación y su sensibilidad preferiremos una mejor métrica u otra (como hemos visto, mejorar una de ella implica empeorar la otra).\n",
    "- El *F1-Score* nos dará una idea rápida de la robustez del modelo combinando las dos métricas anteriores.\n",
    "- La curva *ROC*, y en especial el área debajo de la curva, será una muy buena manera de comparar modelos para poder elegir el que más se ajuste a nuestras necesidades.\n",
    "\n",
    "Como podemos ver, evaluar un modelo va más allá de proporcionar un valor de precisión y dependerá en gran medida de la aplicación en cuestión y las condiciones reales a las que se vaya a enfrentar nuestro modelo en el mundo real. Monitorizar nuestros modelos constantemente nos permitirá mejorarlos de manera contínua así como encontrar posibles fallos, y para ello saber qué métricas son las importantes es fundamental."
   ]
  },
  {
   "cell_type": "code",
   "execution_count": null,
   "metadata": {},
   "outputs": [],
   "source": []
  }
 ],
 "metadata": {
  "kernelspec": {
   "display_name": "Python 3",
   "language": "python",
   "name": "python3"
  },
  "language_info": {
   "codemirror_mode": {
    "name": "ipython",
    "version": 3
   },
   "file_extension": ".py",
   "mimetype": "text/x-python",
   "name": "python",
   "nbconvert_exporter": "python",
   "pygments_lexer": "ipython3",
   "version": "3.7.6"
  },
  "toc": {
   "base_numbering": 1,
   "nav_menu": {},
   "number_sections": true,
   "sideBar": true,
   "skip_h1_title": false,
   "title_cell": "Table of Contents",
   "title_sidebar": "Contents",
   "toc_cell": false,
   "toc_position": {},
   "toc_section_display": true,
   "toc_window_display": true
  }
 },
 "nbformat": 4,
 "nbformat_minor": 4
}
