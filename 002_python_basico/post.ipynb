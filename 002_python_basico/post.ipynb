{
 "cells": [
  {
   "cell_type": "markdown",
   "metadata": {},
   "source": [
    "[![Open In Colab](https://colab.research.google.com/assets/colab-badge.svg)](https://colab.research.google.com/github/sensioai/blog/blob/master/002_python_basico/post.ipynb)"
   ]
  },
  {
   "cell_type": "markdown",
   "metadata": {},
   "source": [
    "# Python básico"
   ]
  },
  {
   "cell_type": "markdown",
   "metadata": {},
   "source": [
    "En el post anterior hablamos sobre `Python` y su aplicación al campo del análisis de datos. Aprendimos a instalarlo y vimos diferentes herramientas que podemos utilizar para trabajar con él, desde *scripts* en un editor de texto como `VSCode` hasta *notebooks* en `Jupyter` o `Google Colab`."
   ]
  },
  {
   "cell_type": "markdown",
   "metadata": {},
   "source": [
    "En este post vamos a introducir la sintaxis básica de `Python` para entender conceptos esenciales de programación así como la mecánica del lenguaje. `Python` es un lenguaje diseñado con el objetivo de ser simple y explícito, asemejándose lo máximo posible al concepto de *pseudocódigo*."
   ]
  },
  {
   "cell_type": "markdown",
   "metadata": {},
   "source": [
    "## Objetos"
   ]
  },
  {
   "cell_type": "markdown",
   "metadata": {},
   "source": [
    "En `Python` cualquier número, cadena de caracteres (*string*), función, clase, módulo, etc, es considerado como un `objeto`, una \"caja\" con su propio tipo y datos internos que es tratada de la misma manera independientemente de su función. Este es uno de los motivos que hacen que `Python` sea un lenguaje tan flexible."
   ]
  },
  {
   "cell_type": "markdown",
   "metadata": {},
   "source": [
    "## Comentarios"
   ]
  },
  {
   "cell_type": "markdown",
   "metadata": {},
   "source": [
    "Podemos utilizar el símbolo `#` para incluir texto que no queremos que sea ejecutado, es decir, que sea ignorado por `Python`. Esto suele utilizarse para incluir `comentarios` en nuestro código, indicando la funcionalidad del mismo o cualquier aspecto que otra persona tenga que tener en cuenta si alguna vez se encuentra con nuestro programa."
   ]
  },
  {
   "cell_type": "code",
   "execution_count": 2,
   "metadata": {
    "ExecuteTime": {
     "end_time": "2020-05-20T13:22:51.650925Z",
     "start_time": "2020-05-20T13:22:51.646926Z"
    }
   },
   "outputs": [],
   "source": [
    "# esto es un comentario, Python ignorará esta línea"
   ]
  },
  {
   "cell_type": "markdown",
   "metadata": {},
   "source": [
    "## Variables y referencias"
   ]
  },
  {
   "cell_type": "markdown",
   "metadata": {},
   "source": [
    "Cuando asignamos una `variable` en `Python` estamos creando una `referencia` al `objeto` de la derecha del símbolo `=`. Esto significa que cualquier cambio aplicado al objeto original se verá también reflejado en la nueva variable, a diferencia de lo que ocurriría si se crease una copia. "
   ]
  },
  {
   "cell_type": "code",
   "execution_count": 23,
   "metadata": {
    "ExecuteTime": {
     "end_time": "2020-05-20T13:29:31.135667Z",
     "start_time": "2020-05-20T13:29:31.130667Z"
    }
   },
   "outputs": [
    {
     "data": {
      "text/plain": [
       "[1, 2, 3]"
      ]
     },
     "execution_count": 23,
     "metadata": {},
     "output_type": "execute_result"
    }
   ],
   "source": [
    "a = [1, 2, 3]\n",
    "a"
   ]
  },
  {
   "cell_type": "markdown",
   "metadata": {},
   "source": [
    "> 💡 En este ejemplo, la variable `a` es una `lista`, un tipo de estructura de datos que `Python` nos ofrece para almacenar objetos de manera secuencial. Hablaremos sobre listas (y otras estructuras de datos) más adelante."
   ]
  },
  {
   "cell_type": "code",
   "execution_count": 24,
   "metadata": {
    "ExecuteTime": {
     "end_time": "2020-05-20T13:29:33.174226Z",
     "start_time": "2020-05-20T13:29:33.164719Z"
    }
   },
   "outputs": [
    {
     "data": {
      "text/plain": [
       "[1, 2, 3]"
      ]
     },
     "execution_count": 24,
     "metadata": {},
     "output_type": "execute_result"
    }
   ],
   "source": [
    "b = a\n",
    "b"
   ]
  },
  {
   "cell_type": "code",
   "execution_count": 25,
   "metadata": {
    "ExecuteTime": {
     "end_time": "2020-05-20T13:29:38.440655Z",
     "start_time": "2020-05-20T13:29:38.424600Z"
    }
   },
   "outputs": [
    {
     "data": {
      "text/plain": [
       "[1, 2, 3, 4]"
      ]
     },
     "execution_count": 25,
     "metadata": {},
     "output_type": "execute_result"
    }
   ],
   "source": [
    "a.append(4)\n",
    "a"
   ]
  },
  {
   "cell_type": "code",
   "execution_count": 26,
   "metadata": {
    "ExecuteTime": {
     "end_time": "2020-05-20T13:29:39.566330Z",
     "start_time": "2020-05-20T13:29:39.550863Z"
    }
   },
   "outputs": [
    {
     "data": {
      "text/plain": [
       "[1, 2, 3, 4]"
      ]
     },
     "execution_count": 26,
     "metadata": {},
     "output_type": "execute_result"
    }
   ],
   "source": [
    "b"
   ]
  },
  {
   "cell_type": "markdown",
   "metadata": {},
   "source": [
    "Entender cuándo, cómo y por qué los datos son copiados o referenciados es importante, sobre todo cuando trabajamos con grandes *datasets*."
   ]
  },
  {
   "cell_type": "markdown",
   "metadata": {},
   "source": [
    "## Referencias dinámicas"
   ]
  },
  {
   "cell_type": "markdown",
   "metadata": {},
   "source": [
    "A diferencia de otros lenguajes, una variable en `Python` (al ser una referencia a otro objeto) no tiene ningún tipo asociado, toda la información está almacenada en el objeto original. "
   ]
  },
  {
   "cell_type": "code",
   "execution_count": 27,
   "metadata": {
    "ExecuteTime": {
     "end_time": "2020-05-20T13:34:53.534462Z",
     "start_time": "2020-05-20T13:34:53.523953Z"
    }
   },
   "outputs": [
    {
     "data": {
      "text/plain": [
       "1"
      ]
     },
     "execution_count": 27,
     "metadata": {},
     "output_type": "execute_result"
    }
   ],
   "source": [
    "a = 1\n",
    "a"
   ]
  },
  {
   "cell_type": "code",
   "execution_count": 28,
   "metadata": {
    "ExecuteTime": {
     "end_time": "2020-05-20T13:34:59.450010Z",
     "start_time": "2020-05-20T13:34:59.434011Z"
    }
   },
   "outputs": [
    {
     "data": {
      "text/plain": [
       "'hola'"
      ]
     },
     "execution_count": 28,
     "metadata": {},
     "output_type": "execute_result"
    }
   ],
   "source": [
    "a = \"hola\"\n",
    "a"
   ]
  },
  {
   "cell_type": "markdown",
   "metadata": {},
   "source": [
    "Podemos cambiar el objeto al que una variable hace referencia en cualquier momento. Podemos conocer el tipo del objeto al que una variable hace referencia con la función `isinstance`."
   ]
  },
  {
   "cell_type": "code",
   "execution_count": 29,
   "metadata": {
    "ExecuteTime": {
     "end_time": "2020-05-20T13:36:41.381530Z",
     "start_time": "2020-05-20T13:36:41.364960Z"
    }
   },
   "outputs": [
    {
     "data": {
      "text/plain": [
       "True"
      ]
     },
     "execution_count": 29,
     "metadata": {},
     "output_type": "execute_result"
    }
   ],
   "source": [
    "# a es un número entero (int)\n",
    "\n",
    "a = 1\n",
    "isinstance(a, int)"
   ]
  },
  {
   "cell_type": "code",
   "execution_count": 30,
   "metadata": {
    "ExecuteTime": {
     "end_time": "2020-05-20T13:36:46.594029Z",
     "start_time": "2020-05-20T13:36:46.584681Z"
    }
   },
   "outputs": [
    {
     "data": {
      "text/plain": [
       "False"
      ]
     },
     "execution_count": 30,
     "metadata": {},
     "output_type": "execute_result"
    }
   ],
   "source": [
    "# a no es un string (str)\n",
    "\n",
    "a = 1\n",
    "isinstance(a, str)"
   ]
  },
  {
   "cell_type": "code",
   "execution_count": 31,
   "metadata": {
    "ExecuteTime": {
     "end_time": "2020-05-20T13:36:52.857432Z",
     "start_time": "2020-05-20T13:36:52.852431Z"
    }
   },
   "outputs": [
    {
     "data": {
      "text/plain": [
       "True"
      ]
     },
     "execution_count": 31,
     "metadata": {},
     "output_type": "execute_result"
    }
   ],
   "source": [
    "# a sí es un string (str)\n",
    "\n",
    "\n",
    "a = \"hola\"\n",
    "isinstance(a, str)"
   ]
  },
  {
   "cell_type": "markdown",
   "metadata": {},
   "source": [
    "## Métodos y atributos"
   ]
  },
  {
   "cell_type": "markdown",
   "metadata": {},
   "source": [
    "La mayoría de `objetos` en `Python` tienen `métodos` (funciones asociadas con el objeto) y `atributos` (otros objetos guardados en su interior). Por ejemplo, un objeto de tipo `str` tiene métodos para convertirlo a mayúsculas, separarlo en caracteres, etc."
   ]
  },
  {
   "cell_type": "code",
   "execution_count": 35,
   "metadata": {
    "ExecuteTime": {
     "end_time": "2020-05-20T13:44:27.159830Z",
     "start_time": "2020-05-20T13:44:27.154764Z"
    }
   },
   "outputs": [
    {
     "data": {
      "text/plain": [
       "'Hola'"
      ]
     },
     "execution_count": 35,
     "metadata": {},
     "output_type": "execute_result"
    }
   ],
   "source": [
    "a = \"hola\"\n",
    "a.capitalize()"
   ]
  },
  {
   "cell_type": "code",
   "execution_count": 37,
   "metadata": {
    "ExecuteTime": {
     "end_time": "2020-05-20T13:44:37.721881Z",
     "start_time": "2020-05-20T13:44:37.707862Z"
    }
   },
   "outputs": [
    {
     "data": {
      "text/plain": [
       "'HOLA'"
      ]
     },
     "execution_count": 37,
     "metadata": {},
     "output_type": "execute_result"
    }
   ],
   "source": [
    "a.upper()"
   ]
  },
  {
   "cell_type": "markdown",
   "metadata": {},
   "source": [
    "Esto nos aporta una gran funcionalidad por defecto que podemos aprovechar y que de otra forma tendriamos que implementar nosotros mismos."
   ]
  },
  {
   "cell_type": "markdown",
   "metadata": {},
   "source": [
    "## Operadores binarios y comparación"
   ]
  },
  {
   "cell_type": "markdown",
   "metadata": {},
   "source": [
    "En `Python` tenemos disponibles prácticamente todos los operadores binarios que podemos esperar de cualquier lenguaje de programación"
   ]
  },
  {
   "cell_type": "code",
   "execution_count": 45,
   "metadata": {
    "ExecuteTime": {
     "end_time": "2020-05-20T13:52:20.342389Z",
     "start_time": "2020-05-20T13:52:20.325562Z"
    }
   },
   "outputs": [
    {
     "data": {
      "text/plain": [
       "2"
      ]
     },
     "execution_count": 45,
     "metadata": {},
     "output_type": "execute_result"
    }
   ],
   "source": [
    "# suma\n",
    "\n",
    "1 + 1"
   ]
  },
  {
   "cell_type": "code",
   "execution_count": 46,
   "metadata": {
    "ExecuteTime": {
     "end_time": "2020-05-20T13:52:28.329968Z",
     "start_time": "2020-05-20T13:52:28.320988Z"
    }
   },
   "outputs": [
    {
     "data": {
      "text/plain": [
       "1"
      ]
     },
     "execution_count": 46,
     "metadata": {},
     "output_type": "execute_result"
    }
   ],
   "source": [
    "# resta\n",
    "\n",
    "2 - 1"
   ]
  },
  {
   "cell_type": "code",
   "execution_count": 47,
   "metadata": {
    "ExecuteTime": {
     "end_time": "2020-05-20T13:52:35.067904Z",
     "start_time": "2020-05-20T13:52:35.050874Z"
    }
   },
   "outputs": [
    {
     "data": {
      "text/plain": [
       "6"
      ]
     },
     "execution_count": 47,
     "metadata": {},
     "output_type": "execute_result"
    }
   ],
   "source": [
    "# multiplicación\n",
    "\n",
    "2 * 3"
   ]
  },
  {
   "cell_type": "code",
   "execution_count": 48,
   "metadata": {
    "ExecuteTime": {
     "end_time": "2020-05-20T13:52:39.421437Z",
     "start_time": "2020-05-20T13:52:39.405408Z"
    }
   },
   "outputs": [
    {
     "data": {
      "text/plain": [
       "0.5"
      ]
     },
     "execution_count": 48,
     "metadata": {},
     "output_type": "execute_result"
    }
   ],
   "source": [
    "# división\n",
    "\n",
    "1 / 2"
   ]
  },
  {
   "cell_type": "code",
   "execution_count": 49,
   "metadata": {
    "ExecuteTime": {
     "end_time": "2020-05-20T13:52:45.660082Z",
     "start_time": "2020-05-20T13:52:45.650568Z"
    }
   },
   "outputs": [
    {
     "data": {
      "text/plain": [
       "1"
      ]
     },
     "execution_count": 49,
     "metadata": {},
     "output_type": "execute_result"
    }
   ],
   "source": [
    "# division entera\n",
    "\n",
    "3 // 2"
   ]
  },
  {
   "cell_type": "code",
   "execution_count": 50,
   "metadata": {
    "ExecuteTime": {
     "end_time": "2020-05-20T13:53:00.139296Z",
     "start_time": "2020-05-20T13:53:00.121258Z"
    }
   },
   "outputs": [
    {
     "data": {
      "text/plain": [
       "8"
      ]
     },
     "execution_count": 50,
     "metadata": {},
     "output_type": "execute_result"
    }
   ],
   "source": [
    "# potenciación\n",
    "\n",
    "2**3"
   ]
  },
  {
   "cell_type": "code",
   "execution_count": 54,
   "metadata": {
    "ExecuteTime": {
     "end_time": "2020-05-20T13:54:13.130043Z",
     "start_time": "2020-05-20T13:54:13.122401Z"
    }
   },
   "outputs": [
    {
     "data": {
      "text/plain": [
       "False"
      ]
     },
     "execution_count": 54,
     "metadata": {},
     "output_type": "execute_result"
    }
   ],
   "source": [
    "# operador AND (True si ambos operadores son True)\n",
    "\n",
    "True & False"
   ]
  },
  {
   "cell_type": "code",
   "execution_count": 53,
   "metadata": {
    "ExecuteTime": {
     "end_time": "2020-05-20T13:54:09.094934Z",
     "start_time": "2020-05-20T13:54:09.082417Z"
    }
   },
   "outputs": [
    {
     "data": {
      "text/plain": [
       "True"
      ]
     },
     "execution_count": 53,
     "metadata": {},
     "output_type": "execute_result"
    }
   ],
   "source": [
    "# operador OR (True si alguno de los operadores es True)\n",
    "\n",
    "True | False"
   ]
  },
  {
   "cell_type": "markdown",
   "metadata": {},
   "source": [
    "Lo mismo ocurre con los operadores de comparación"
   ]
  },
  {
   "cell_type": "code",
   "execution_count": 55,
   "metadata": {
    "ExecuteTime": {
     "end_time": "2020-05-20T13:55:21.026269Z",
     "start_time": "2020-05-20T13:55:21.014212Z"
    }
   },
   "outputs": [
    {
     "data": {
      "text/plain": [
       "False"
      ]
     },
     "execution_count": 55,
     "metadata": {},
     "output_type": "execute_result"
    }
   ],
   "source": [
    "# igualdad\n",
    "\n",
    "1 == 2"
   ]
  },
  {
   "cell_type": "code",
   "execution_count": 56,
   "metadata": {
    "ExecuteTime": {
     "end_time": "2020-05-20T13:55:31.484775Z",
     "start_time": "2020-05-20T13:55:31.478768Z"
    }
   },
   "outputs": [
    {
     "data": {
      "text/plain": [
       "True"
      ]
     },
     "execution_count": 56,
     "metadata": {},
     "output_type": "execute_result"
    }
   ],
   "source": [
    "# desigualdad\n",
    "\n",
    "1 != 2"
   ]
  },
  {
   "cell_type": "code",
   "execution_count": 59,
   "metadata": {
    "ExecuteTime": {
     "end_time": "2020-05-20T13:55:54.603180Z",
     "start_time": "2020-05-20T13:55:54.594615Z"
    }
   },
   "outputs": [
    {
     "data": {
      "text/plain": [
       "False"
      ]
     },
     "execution_count": 59,
     "metadata": {},
     "output_type": "execute_result"
    }
   ],
   "source": [
    "# menor que\n",
    "\n",
    "1 < 1"
   ]
  },
  {
   "cell_type": "code",
   "execution_count": 58,
   "metadata": {
    "ExecuteTime": {
     "end_time": "2020-05-20T13:55:52.576125Z",
     "start_time": "2020-05-20T13:55:52.561126Z"
    }
   },
   "outputs": [
    {
     "data": {
      "text/plain": [
       "True"
      ]
     },
     "execution_count": 58,
     "metadata": {},
     "output_type": "execute_result"
    }
   ],
   "source": [
    "# menor o igual que\n",
    "\n",
    "1 <= 1"
   ]
  },
  {
   "cell_type": "code",
   "execution_count": 60,
   "metadata": {
    "ExecuteTime": {
     "end_time": "2020-05-20T13:56:06.272116Z",
     "start_time": "2020-05-20T13:56:06.262118Z"
    }
   },
   "outputs": [
    {
     "data": {
      "text/plain": [
       "True"
      ]
     },
     "execution_count": 60,
     "metadata": {},
     "output_type": "execute_result"
    }
   ],
   "source": [
    "# mayor que\n",
    "\n",
    "3 > 2"
   ]
  },
  {
   "cell_type": "code",
   "execution_count": 61,
   "metadata": {
    "ExecuteTime": {
     "end_time": "2020-05-20T13:56:17.549764Z",
     "start_time": "2020-05-20T13:56:17.540764Z"
    }
   },
   "outputs": [
    {
     "data": {
      "text/plain": [
       "False"
      ]
     },
     "execution_count": 61,
     "metadata": {},
     "output_type": "execute_result"
    }
   ],
   "source": [
    "# mayor o igual que\n",
    "\n",
    "2 >= 3"
   ]
  },
  {
   "cell_type": "markdown",
   "metadata": {},
   "source": [
    "## Tipos básicos"
   ]
  },
  {
   "cell_type": "markdown",
   "metadata": {},
   "source": [
    "En `Python` encontramos varios tipos por defecto"
   ]
  },
  {
   "cell_type": "code",
   "execution_count": 67,
   "metadata": {
    "ExecuteTime": {
     "end_time": "2020-05-20T14:00:01.942663Z",
     "start_time": "2020-05-20T14:00:01.927666Z"
    }
   },
   "outputs": [
    {
     "data": {
      "text/plain": [
       "float"
      ]
     },
     "execution_count": 67,
     "metadata": {},
     "output_type": "execute_result"
    }
   ],
   "source": [
    "# número decimal\n",
    "\n",
    "float"
   ]
  },
  {
   "cell_type": "code",
   "execution_count": 69,
   "metadata": {
    "ExecuteTime": {
     "end_time": "2020-05-20T14:00:31.986227Z",
     "start_time": "2020-05-20T14:00:31.969226Z"
    }
   },
   "outputs": [
    {
     "data": {
      "text/plain": [
       "int"
      ]
     },
     "execution_count": 69,
     "metadata": {},
     "output_type": "execute_result"
    }
   ],
   "source": [
    "# número entero \n",
    "\n",
    "int"
   ]
  },
  {
   "cell_type": "code",
   "execution_count": null,
   "metadata": {},
   "outputs": [],
   "source": [
    "# número decimal\n",
    "\n",
    "a = 1.34\n",
    "\n",
    "# número entero\n",
    "\n",
    "b = 2"
   ]
  },
  {
   "cell_type": "code",
   "execution_count": 65,
   "metadata": {
    "ExecuteTime": {
     "end_time": "2020-05-20T13:59:33.454104Z",
     "start_time": "2020-05-20T13:59:33.440106Z"
    }
   },
   "outputs": [
    {
     "data": {
      "text/plain": [
       "str"
      ]
     },
     "execution_count": 65,
     "metadata": {},
     "output_type": "execute_result"
    }
   ],
   "source": [
    "# string\n",
    "\n",
    "str"
   ]
  },
  {
   "cell_type": "markdown",
   "metadata": {},
   "source": [
    "Una de las características por las que `Python` brilla es su potencia a la hora de trabajar con *strings*."
   ]
  },
  {
   "cell_type": "code",
   "execution_count": 103,
   "metadata": {
    "ExecuteTime": {
     "end_time": "2020-05-20T14:44:58.444668Z",
     "start_time": "2020-05-20T14:44:58.430650Z"
    }
   },
   "outputs": [],
   "source": [
    "a = 'esto es una cadena de caracteres'\n",
    "b = \"podemos usar comillas simples o dobles\"\n",
    "c = \"\"\"\n",
    "    Podemos hacer cadenas de múltiples líneas\n",
    "    con triples comillas (simples o dobles)\n",
    "\"\"\""
   ]
  },
  {
   "cell_type": "markdown",
   "metadata": {},
   "source": [
    "La función `print` es muy útil para mostrar por consola un *string*."
   ]
  },
  {
   "cell_type": "code",
   "execution_count": 105,
   "metadata": {
    "ExecuteTime": {
     "end_time": "2020-05-20T14:45:08.800450Z",
     "start_time": "2020-05-20T14:45:08.783374Z"
    }
   },
   "outputs": [
    {
     "name": "stdout",
     "output_type": "stream",
     "text": [
      "\n",
      "    Podemos hacer cadenas de múltiples líneas\n",
      "    con triples comillas (simples o dobles)\n",
      "\n"
     ]
    }
   ],
   "source": [
    "print(c)"
   ]
  },
  {
   "cell_type": "markdown",
   "metadata": {},
   "source": [
    "Podemos transformar otros tipos de datos a *string* con la función `str`."
   ]
  },
  {
   "cell_type": "code",
   "execution_count": 74,
   "metadata": {
    "ExecuteTime": {
     "end_time": "2020-05-20T14:08:20.612592Z",
     "start_time": "2020-05-20T14:08:20.593975Z"
    }
   },
   "outputs": [
    {
     "data": {
      "text/plain": [
       "'1.3'"
      ]
     },
     "execution_count": 74,
     "metadata": {},
     "output_type": "execute_result"
    }
   ],
   "source": [
    "a = 1.3\n",
    "b = str(a)\n",
    "b"
   ]
  },
  {
   "cell_type": "markdown",
   "metadata": {},
   "source": [
    "Aunque la forma más versátil es utilizando *string templates*."
   ]
  },
  {
   "cell_type": "code",
   "execution_count": 76,
   "metadata": {
    "ExecuteTime": {
     "end_time": "2020-05-20T14:09:11.767016Z",
     "start_time": "2020-05-20T14:09:11.748990Z"
    }
   },
   "outputs": [
    {
     "name": "stdout",
     "output_type": "stream",
     "text": [
      "el valor de 'a' es 1.3\n"
     ]
    }
   ],
   "source": [
    "c = f\"el valor de 'a' es {a}\"\n",
    "print(c)"
   ]
  },
  {
   "cell_type": "code",
   "execution_count": 77,
   "metadata": {
    "ExecuteTime": {
     "end_time": "2020-05-20T14:10:39.894860Z",
     "start_time": "2020-05-20T14:10:39.887340Z"
    }
   },
   "outputs": [
    {
     "data": {
      "text/plain": [
       "bool"
      ]
     },
     "execution_count": 77,
     "metadata": {},
     "output_type": "execute_result"
    }
   ],
   "source": [
    "# booleano\n",
    "\n",
    "bool"
   ]
  },
  {
   "cell_type": "markdown",
   "metadata": {},
   "source": [
    "Sólo existen dos valores booleanos: `True` y `False`."
   ]
  },
  {
   "cell_type": "code",
   "execution_count": 66,
   "metadata": {
    "ExecuteTime": {
     "end_time": "2020-05-20T13:59:49.896039Z",
     "start_time": "2020-05-20T13:59:49.880042Z"
    }
   },
   "outputs": [
    {
     "data": {
      "text/plain": [
       "bytes"
      ]
     },
     "execution_count": 66,
     "metadata": {},
     "output_type": "execute_result"
    }
   ],
   "source": [
    "# cadena de bytes\n",
    "\n",
    "bytes"
   ]
  },
  {
   "cell_type": "code",
   "execution_count": 64,
   "metadata": {
    "ExecuteTime": {
     "end_time": "2020-05-20T13:59:22.332664Z",
     "start_time": "2020-05-20T13:59:22.329667Z"
    }
   },
   "outputs": [],
   "source": [
    "# valor inexistente\n",
    "\n",
    "None"
   ]
  },
  {
   "cell_type": "markdown",
   "metadata": {},
   "source": [
    "## Control de flujo"
   ]
  },
  {
   "cell_type": "markdown",
   "metadata": {},
   "source": [
    "En `Python` podemos encontrar varias palabras reservadas para la lógica condicional, bucles y otros métodos de control de flujo."
   ]
  },
  {
   "cell_type": "code",
   "execution_count": 80,
   "metadata": {
    "ExecuteTime": {
     "end_time": "2020-05-20T14:16:58.135757Z",
     "start_time": "2020-05-20T14:16:58.123758Z"
    }
   },
   "outputs": [
    {
     "name": "stdout",
     "output_type": "stream",
     "text": [
      "positivo\n"
     ]
    }
   ],
   "source": [
    "# if, elif, else\n",
    "\n",
    "x = 1\n",
    "\n",
    "if x < 0:\n",
    "    print(\"negativo\")\n",
    "elif x == 0:\n",
    "    print(\"cero\")\n",
    "else:\n",
    "    print(\"positivo\")"
   ]
  },
  {
   "cell_type": "markdown",
   "metadata": {},
   "source": [
    "> ⚠️ Para estructurar nuestro código con `Python` utilizamos indentación en vez de llaves como otros lenguajes de programación."
   ]
  },
  {
   "cell_type": "markdown",
   "metadata": {},
   "source": [
    "Utilizamos bucles `for` para iterar sobre un `iterador`."
   ]
  },
  {
   "cell_type": "code",
   "execution_count": 82,
   "metadata": {
    "ExecuteTime": {
     "end_time": "2020-05-20T14:17:58.188730Z",
     "start_time": "2020-05-20T14:17:58.180729Z"
    }
   },
   "outputs": [
    {
     "name": "stdout",
     "output_type": "stream",
     "text": [
      "0\n",
      "1\n",
      "2\n"
     ]
    }
   ],
   "source": [
    "# bucle for\n",
    "\n",
    "for i in range(3):\n",
    "    print(i)"
   ]
  },
  {
   "cell_type": "markdown",
   "metadata": {},
   "source": [
    "> 💡 La función `range` nos devuelve un iterador sobre una secuencia consecutiva de números enteros."
   ]
  },
  {
   "cell_type": "markdown",
   "metadata": {},
   "source": [
    "Podemos saltar al siguiente paso con la palabra `continue`."
   ]
  },
  {
   "cell_type": "code",
   "execution_count": 83,
   "metadata": {
    "ExecuteTime": {
     "end_time": "2020-05-20T14:19:33.141435Z",
     "start_time": "2020-05-20T14:19:33.136901Z"
    }
   },
   "outputs": [
    {
     "name": "stdout",
     "output_type": "stream",
     "text": [
      "0\n",
      "2\n",
      "4\n"
     ]
    }
   ],
   "source": [
    "for i in range(5):\n",
    "    # si el número es impar, saltar al siguiente paso \n",
    "    # sin hacer el 'print'\n",
    "    if i % 2:\n",
    "        continue\n",
    "    print(i)"
   ]
  },
  {
   "cell_type": "markdown",
   "metadata": {},
   "source": [
    "También podemos detener el bucle con la palabra `break`."
   ]
  },
  {
   "cell_type": "code",
   "execution_count": 84,
   "metadata": {
    "ExecuteTime": {
     "end_time": "2020-05-20T14:20:48.253794Z",
     "start_time": "2020-05-20T14:20:48.246793Z"
    }
   },
   "outputs": [
    {
     "name": "stdout",
     "output_type": "stream",
     "text": [
      "0\n",
      "1\n",
      "2\n"
     ]
    }
   ],
   "source": [
    "for i in range(5):\n",
    "    # parar cuando lleguemos a 3\n",
    "    if i >= 3:\n",
    "        break\n",
    "    print(i)"
   ]
  },
  {
   "cell_type": "markdown",
   "metadata": {},
   "source": [
    "Como en otros lenguajes, podemos usar un bucle `while` para ejectuar código siempre y cuando se cumpla una condición"
   ]
  },
  {
   "cell_type": "code",
   "execution_count": 86,
   "metadata": {
    "ExecuteTime": {
     "end_time": "2020-05-20T14:24:26.340777Z",
     "start_time": "2020-05-20T14:24:26.332791Z"
    }
   },
   "outputs": [
    {
     "name": "stdout",
     "output_type": "stream",
     "text": [
      "0\n",
      "1\n",
      "2\n"
     ]
    }
   ],
   "source": [
    "i = 0\n",
    "while i < 3:\n",
    "    print(i)\n",
    "    i = i + 1"
   ]
  },
  {
   "cell_type": "markdown",
   "metadata": {},
   "source": [
    "Una funcionalidad que puede ahorrarnos varias líneas de código es el uso del operador ternario"
   ]
  },
  {
   "cell_type": "code",
   "execution_count": 91,
   "metadata": {
    "ExecuteTime": {
     "end_time": "2020-05-20T14:27:06.937211Z",
     "start_time": "2020-05-20T14:27:06.921705Z"
    }
   },
   "outputs": [
    {
     "data": {
      "text/plain": [
       "1"
      ]
     },
     "execution_count": 91,
     "metadata": {},
     "output_type": "execute_result"
    }
   ],
   "source": [
    "x = 1\n",
    "if x > 0:\n",
    "    a = x\n",
    "else:\n",
    "    a = 0\n",
    "a"
   ]
  },
  {
   "cell_type": "code",
   "execution_count": 92,
   "metadata": {
    "ExecuteTime": {
     "end_time": "2020-05-20T14:27:08.853002Z",
     "start_time": "2020-05-20T14:27:08.845492Z"
    }
   },
   "outputs": [
    {
     "data": {
      "text/plain": [
       "1"
      ]
     },
     "execution_count": 92,
     "metadata": {},
     "output_type": "execute_result"
    }
   ],
   "source": [
    "# equivalente a la expresión anterior\n",
    "\n",
    "a = x if x > 0 else 0\n",
    "a"
   ]
  },
  {
   "cell_type": "markdown",
   "metadata": {},
   "source": [
    "## Módulos"
   ]
  },
  {
   "cell_type": "markdown",
   "metadata": {},
   "source": [
    "En `Python` cualquier archivo terminado en `.py` es considerado como un `módulo` y puede ser importado para tener acceso a su código."
   ]
  },
  {
   "cell_type": "code",
   "execution_count": 96,
   "metadata": {
    "ExecuteTime": {
     "end_time": "2020-05-20T14:34:51.182065Z",
     "start_time": "2020-05-20T14:34:51.175555Z"
    }
   },
   "outputs": [
    {
     "data": {
      "text/plain": [
       "2"
      ]
     },
     "execution_count": 96,
     "metadata": {},
     "output_type": "execute_result"
    }
   ],
   "source": [
    "# importamos el módulo llamado `module`, que tiene el siguiente código dentro\n",
    "# \n",
    "# def f(x):\n",
    "#     return 2*x\n",
    "\n",
    "import module\n",
    "\n",
    "module.f(1)"
   ]
  },
  {
   "cell_type": "markdown",
   "metadata": {},
   "source": [
    "> ⚠️ Hablaremos sobre funciones en próximos posts, de momento es necesario con que entiendas que la función `f` recibe una variable `x` y la devuelve, multiplicada por 2."
   ]
  },
  {
   "cell_type": "markdown",
   "metadata": {},
   "source": [
    "Existen varias maneras de importar módulos, aquí tienes algunos ejemplos"
   ]
  },
  {
   "cell_type": "code",
   "execution_count": 97,
   "metadata": {
    "ExecuteTime": {
     "end_time": "2020-05-20T14:34:51.758443Z",
     "start_time": "2020-05-20T14:34:51.751443Z"
    }
   },
   "outputs": [
    {
     "data": {
      "text/plain": [
       "4"
      ]
     },
     "execution_count": 97,
     "metadata": {},
     "output_type": "execute_result"
    }
   ],
   "source": [
    "# podemos asignar un nuevo nombre al módulo\n",
    "\n",
    "import module as m\n",
    "\n",
    "m.f(2)"
   ]
  },
  {
   "cell_type": "code",
   "execution_count": 98,
   "metadata": {
    "ExecuteTime": {
     "end_time": "2020-05-20T14:34:52.152109Z",
     "start_time": "2020-05-20T14:34:52.136101Z"
    }
   },
   "outputs": [
    {
     "data": {
      "text/plain": [
       "6"
      ]
     },
     "execution_count": 98,
     "metadata": {},
     "output_type": "execute_result"
    }
   ],
   "source": [
    "# podemos usar la función directamente, \n",
    "# sin usar el nombre del módulo\n",
    "\n",
    "from module import f\n",
    "\n",
    "f(3)"
   ]
  },
  {
   "cell_type": "code",
   "execution_count": 101,
   "metadata": {
    "ExecuteTime": {
     "end_time": "2020-05-20T14:36:21.434076Z",
     "start_time": "2020-05-20T14:36:21.423567Z"
    }
   },
   "outputs": [
    {
     "data": {
      "text/plain": [
       "8"
      ]
     },
     "execution_count": 101,
     "metadata": {},
     "output_type": "execute_result"
    }
   ],
   "source": [
    "# podemos asignar un nuevo nombre a la función\n",
    "\n",
    "from module import f as mf\n",
    "\n",
    "mf(4)"
   ]
  },
  {
   "cell_type": "code",
   "execution_count": 102,
   "metadata": {
    "ExecuteTime": {
     "end_time": "2020-05-20T14:37:00.218713Z",
     "start_time": "2020-05-20T14:37:00.214712Z"
    }
   },
   "outputs": [
    {
     "data": {
      "text/plain": [
       "10"
      ]
     },
     "execution_count": 102,
     "metadata": {},
     "output_type": "execute_result"
    }
   ],
   "source": [
    "# podemos importar todo lo que haya\n",
    "# en el módulo (no recomendado)\n",
    "\n",
    "from module import *\n",
    "\n",
    "f(5)"
   ]
  },
  {
   "cell_type": "markdown",
   "metadata": {},
   "source": [
    "## Próximos pasos"
   ]
  },
  {
   "cell_type": "markdown",
   "metadata": {},
   "source": [
    "Hasta aquí nuestro viaje explorando los conceptos básicos del lenguaje `Python`. Aquellos familiarizados con el mundo de la programación y que ya conozcan algún lenguaje encontrarán en `Python` una sintaxis familiar con la funcionalidad típica de cualquier lenguaje moderno. Tras un tiempo de uso verán que la simplicidad del lenguaje, la gran funcionalidad que ofrece por defecto y la gran cantidad de módulos existentes en el ecosistema le convertirán en un programador más productivo, capaz de expresar más con menos código. En cuanto a aquellos que no hayan programado nunca, encontrarán en `Python` un lenguaje sencillo de aprender y que les permitirá el desarrollo de programas interesantes sin tener que invertir cientos de horas practicando.\n",
    "\n",
    "En el siguiente post de esta serie hablaremos sobre las estructuras de datos que `Python` nos ofrece y que nos permitirán llevar a cabo tareas más interesantes."
   ]
  }
 ],
 "metadata": {
  "kernelspec": {
   "display_name": "Python 3",
   "language": "python",
   "name": "python3"
  },
  "language_info": {
   "codemirror_mode": {
    "name": "ipython",
    "version": 3
   },
   "file_extension": ".py",
   "mimetype": "text/x-python",
   "name": "python",
   "nbconvert_exporter": "python",
   "pygments_lexer": "ipython3",
   "version": "3.7.6"
  },
  "toc": {
   "base_numbering": 1,
   "nav_menu": {},
   "number_sections": true,
   "sideBar": true,
   "skip_h1_title": false,
   "title_cell": "Table of Contents",
   "title_sidebar": "Contents",
   "toc_cell": false,
   "toc_position": {},
   "toc_section_display": true,
   "toc_window_display": false
  }
 },
 "nbformat": 4,
 "nbformat_minor": 4
}
