{
 "cells": [
  {
   "cell_type": "markdown",
   "metadata": {},
   "source": [
    "[![Open In Colab](https://colab.research.google.com/assets/colab-badge.svg)](https://colab.research.google.com/github/sensioai/blog/blob/master/037_charRNN/charRNN.ipynb)"
   ]
  },
  {
   "cell_type": "markdown",
   "metadata": {},
   "source": [
    "# Generación de texto"
   ]
  },
  {
   "cell_type": "markdown",
   "metadata": {},
   "source": [
    "En este post vamos a entrenar una `red neuronal recurrente` para generar texto, carácter a carácter, inspirado en [CharRNN](https://github.com/karpathy/char-rnn). Nuestra red neuronal recibirá como entrada una secuencia de letras y deberá dar como salida la siguiente letra (la cual añadiremos a las entradas para volver a generar un nuevo carácter). "
   ]
  },
  {
   "cell_type": "markdown",
   "metadata": {},
   "source": [
    "## Los datos"
   ]
  },
  {
   "cell_type": "markdown",
   "metadata": {},
   "source": [
    "Lo primero que necesitamos para lograr nuestro objetivo es un conjunto de datos. En este caso, al querer generar texto, nos servirá con un archivo con mucho texto que queramos imitar. Para ello descargaremos *Don Quijote de la Mancha*, la obra principal del escritor Miguel de Cervantes y una de las más relevantes en la literatura castellana. "
   ]
  },
  {
   "cell_type": "code",
   "execution_count": 1,
   "metadata": {
    "ExecuteTime": {
     "end_time": "2020-08-31T15:51:00.374245Z",
     "start_time": "2020-08-31T15:50:59.375004Z"
    }
   },
   "outputs": [
    {
     "name": "stdout",
     "output_type": "stream",
     "text": [
      "100% [..............................] 1060259 / 1060259"
     ]
    },
    {
     "data": {
      "text/plain": [
       "'el_quijote (1).txt'"
      ]
     },
     "execution_count": 1,
     "metadata": {},
     "output_type": "execute_result"
    }
   ],
   "source": [
    "import wget\n",
    "\n",
    "wget.download('https://mymldatasets.s3.eu-de.cloud-object-storage.appdomain.cloud/el_quijote.txt')"
   ]
  },
  {
   "cell_type": "code",
   "execution_count": 2,
   "metadata": {
    "ExecuteTime": {
     "end_time": "2020-08-31T15:51:00.389244Z",
     "start_time": "2020-08-31T15:51:00.375244Z"
    }
   },
   "outputs": [
    {
     "data": {
      "text/plain": [
       "('DON QUIJOTE DE LA MANCHA\\nMiguel de Cervantes Saavedra\\n\\nPRIMERA PARTE\\nCAPÍTULO 1: Que trata de la condición y ejercicio del famoso hidalgo D. Quijote de la Mancha\\nEn un lugar de la Mancha, de cuyo nombre no quiero acordarme, no ha mucho tiempo que vivía un hidalgo de los de lanza en astillero, ada',\n",
       " 1038397)"
      ]
     },
     "execution_count": 2,
     "metadata": {},
     "output_type": "execute_result"
    }
   ],
   "source": [
    "f = open(\"el_quijote.txt\", \"r\", encoding='utf-8')\n",
    "text = f.read()\n",
    "text[:300], len(text)"
   ]
  },
  {
   "cell_type": "markdown",
   "metadata": {},
   "source": [
    "Tenemos alrededor de 1 millón de carácteres en nuestro dataset, suficientes para generar texto de manera convincente como si fuésemos el manco de Lepanto."
   ]
  },
  {
   "cell_type": "markdown",
   "metadata": {},
   "source": [
    "## Tokenización"
   ]
  },
  {
   "cell_type": "markdown",
   "metadata": {},
   "source": [
    "Para poder darle este texto a nuestra red neuronal necesitamos transformarlo en números con los que podemos llevar a cabo las operaciones que tienen lugar en la red. Este proceso se conoce como `tokenización`. Existen muchas formas de llevar a cabo este proceso, en este caso simplemente sustituiremos cada carácter en nuestro texto por su posición en el siguiente vector de carácteres."
   ]
  },
  {
   "cell_type": "code",
   "execution_count": 3,
   "metadata": {
    "ExecuteTime": {
     "end_time": "2020-08-31T15:51:00.405244Z",
     "start_time": "2020-08-31T15:51:00.390244Z"
    }
   },
   "outputs": [
    {
     "data": {
      "text/plain": [
       "'0123456789abcdefghijklmnopqrstuvwxyzABCDEFGHIJKLMNOPQRSTUVWXYZ!\"#$%&\\'()*+,-./:;<=>?@[\\\\]^_`{|}~ \\t\\n\\r\\x0b\\x0cñÑáÁéÉíÍóÓúÚ¿¡'"
      ]
     },
     "execution_count": 3,
     "metadata": {},
     "output_type": "execute_result"
    }
   ],
   "source": [
    "import string\n",
    "\n",
    "all_characters = string.printable + \"ñÑáÁéÉíÍóÓúÚ¿¡\"\n",
    "all_characters"
   ]
  },
  {
   "cell_type": "code",
   "execution_count": 4,
   "metadata": {
    "ExecuteTime": {
     "end_time": "2020-08-31T15:51:00.421244Z",
     "start_time": "2020-08-31T15:51:00.406244Z"
    }
   },
   "outputs": [
    {
     "data": {
      "text/plain": [
       "114"
      ]
     },
     "execution_count": 4,
     "metadata": {},
     "output_type": "execute_result"
    }
   ],
   "source": [
    "import string\n",
    "\n",
    "class Tokenizer(): \n",
    "    \n",
    "  def __init__(self):\n",
    "    self.all_characters = all_characters\n",
    "    self.n_characters = len(self.all_characters)\n",
    "    \n",
    "  def text_to_seq(self, string):\n",
    "    seq = []\n",
    "    for c in range(len(string)):\n",
    "        try:\n",
    "            seq.append(self.all_characters.index(string[c]))\n",
    "        except:\n",
    "            continue\n",
    "    return seq\n",
    "\n",
    "  def seq_to_text(self, seq):\n",
    "    text = ''\n",
    "    for c in range(len(seq)):\n",
    "        text += self.all_characters[seq[c]]\n",
    "    return text\n",
    "\n",
    "tokenizer = Tokenizer()\n",
    "tokenizer.n_characters"
   ]
  },
  {
   "cell_type": "markdown",
   "metadata": {},
   "source": [
    "El tokenizer puede convertir una secuencia de texto en números, y al revés."
   ]
  },
  {
   "cell_type": "code",
   "execution_count": 5,
   "metadata": {
    "ExecuteTime": {
     "end_time": "2020-08-31T15:51:00.437243Z",
     "start_time": "2020-08-31T15:51:00.422244Z"
    }
   },
   "outputs": [
    {
     "data": {
      "text/plain": [
       "[28, 14, 100, 24, 27, 73, 94, 112, 26, 30, 104, 94, 29, 10, 21, 82]"
      ]
     },
     "execution_count": 5,
     "metadata": {},
     "output_type": "execute_result"
    }
   ],
   "source": [
    "tokenizer.text_to_seq('señor, ¿qué tal?')"
   ]
  },
  {
   "cell_type": "code",
   "execution_count": 6,
   "metadata": {
    "ExecuteTime": {
     "end_time": "2020-08-31T15:51:00.453243Z",
     "start_time": "2020-08-31T15:51:00.438244Z"
    }
   },
   "outputs": [
    {
     "data": {
      "text/plain": [
       "'señor, ¿qué tal?'"
      ]
     },
     "execution_count": 6,
     "metadata": {},
     "output_type": "execute_result"
    }
   ],
   "source": [
    "tokenizer.seq_to_text([28, 14, 100, 24, 27, 73, 94, 112, 26, 30, 104, 94, 29, 10, 21, 82])"
   ]
  },
  {
   "cell_type": "markdown",
   "metadata": {},
   "source": [
    "Ahora podemos tokenizar todo el texto."
   ]
  },
  {
   "cell_type": "code",
   "execution_count": 7,
   "metadata": {
    "ExecuteTime": {
     "end_time": "2020-08-31T15:51:00.707244Z",
     "start_time": "2020-08-31T15:51:00.454244Z"
    }
   },
   "outputs": [],
   "source": [
    "text_encoded = tokenizer.text_to_seq(text)"
   ]
  },
  {
   "cell_type": "markdown",
   "metadata": {},
   "source": [
    "> 💡 Pese a que podemos implementar nuestra lógica de tokenización para trabajar a nivel de carácteres, cuando trabajamos con palabras completas el proceso puede complicarse. Es por esto que existen muchas herramientas que ya implementan este tipo de procesado (y muchos otros) que podemos utilizar. Un ejemplo, especialmente integrado con `Pytorch`, es la librería [torchtext](https://pytorch.org/text/)."
   ]
  },
  {
   "cell_type": "markdown",
   "metadata": {},
   "source": [
    "## El *Dataset*"
   ]
  },
  {
   "cell_type": "markdown",
   "metadata": {},
   "source": [
    "En primer lugar, vamos a separar nuestro texto en un conjunto de entrenamiento y otro de test. Cómo ya hemos hablado en posts anteriores, usaremos los datos de entrenamiento para entrenar nuestra red neuronal y los datos de test para calcular las métricas finales."
   ]
  },
  {
   "cell_type": "code",
   "execution_count": 8,
   "metadata": {
    "ExecuteTime": {
     "end_time": "2020-08-31T15:51:00.723244Z",
     "start_time": "2020-08-31T15:51:00.709244Z"
    }
   },
   "outputs": [
    {
     "data": {
      "text/plain": [
       "(814065, 203517)"
      ]
     },
     "execution_count": 8,
     "metadata": {},
     "output_type": "execute_result"
    }
   ],
   "source": [
    "train_size = len(text_encoded) * 80 // 100 \n",
    "train = text_encoded[:train_size]\n",
    "test = text_encoded[train_size:]\n",
    "\n",
    "len(train), len(test)"
   ]
  },
  {
   "cell_type": "markdown",
   "metadata": {},
   "source": [
    "Para entrenar nuestra red, vamos a necesitar secuencias de texto de una longitud determinada. Podemos generar estas ventanas con la siguiente función"
   ]
  },
  {
   "cell_type": "code",
   "execution_count": 9,
   "metadata": {
    "ExecuteTime": {
     "end_time": "2020-08-31T15:51:01.671256Z",
     "start_time": "2020-08-31T15:51:00.724244Z"
    }
   },
   "outputs": [],
   "source": [
    "import random\n",
    "\n",
    "def windows(text, window_size = 25):\n",
    "    start_index = 0\n",
    "    end_index = len(text) - window_size\n",
    "    text_windows = []\n",
    "    while start_index < end_index:\n",
    "      text_windows.append(text[start_index:start_index+window_size+1])\n",
    "      start_index += 1\n",
    "    return text_windows\n",
    "\n",
    "text_encoded_windows = windows(text_encoded)"
   ]
  },
  {
   "cell_type": "markdown",
   "metadata": {},
   "source": [
    "Como puedes ver, hemos generado un número determinado de frases con la longitud especificada las cuales empiezan cada vez un carácter más a la derecha."
   ]
  },
  {
   "cell_type": "code",
   "execution_count": 10,
   "metadata": {
    "ExecuteTime": {
     "end_time": "2020-08-31T15:51:01.687258Z",
     "start_time": "2020-08-31T15:51:01.672259Z"
    }
   },
   "outputs": [
    {
     "name": "stdout",
     "output_type": "stream",
     "text": [
      "DON QUIJOTE DE LA MANCHA\n",
      "M\n",
      "\n",
      "ON QUIJOTE DE LA MANCHA\n",
      "Mi\n",
      "\n",
      "N QUIJOTE DE LA MANCHA\n",
      "Mig\n"
     ]
    }
   ],
   "source": [
    "print(tokenizer.seq_to_text((text_encoded_windows[0])))\n",
    "print()\n",
    "print(tokenizer.seq_to_text((text_encoded_windows[1])))\n",
    "print()\n",
    "print(tokenizer.seq_to_text((text_encoded_windows[2])))"
   ]
  },
  {
   "cell_type": "markdown",
   "metadata": {},
   "source": [
    "Nuestro *dataset* de `Pytorch` se encargará de darnos cada una de estas frases, utilizando todos los carácteres excepto el último como entradas para la red y el último carácter como la etiqueta que usaremos durante el entrenamiento (la red deberá predecir la siguiente letra)."
   ]
  },
  {
   "cell_type": "code",
   "execution_count": 11,
   "metadata": {
    "ExecuteTime": {
     "end_time": "2020-08-31T15:51:02.115384Z",
     "start_time": "2020-08-31T15:51:01.688258Z"
    }
   },
   "outputs": [],
   "source": [
    "import torch\n",
    "\n",
    "class CharRNNDataset(torch.utils.data.Dataset):\n",
    "  def __init__(self, text_encoded_windows, train=True):\n",
    "    self.text = text_encoded_windows\n",
    "    self.train = train\n",
    "\n",
    "  def __len__(self):\n",
    "    return len(self.text)\n",
    "\n",
    "  def __getitem__(self, ix):\n",
    "    if self.train:\n",
    "      return torch.tensor(self.text[ix][:-1]), torch.tensor(self.text[ix][-1])\n",
    "    return torch.tensor(self.text[ix])"
   ]
  },
  {
   "cell_type": "code",
   "execution_count": 12,
   "metadata": {
    "ExecuteTime": {
     "end_time": "2020-08-31T15:51:03.082414Z",
     "start_time": "2020-08-31T15:51:02.116385Z"
    }
   },
   "outputs": [
    {
     "data": {
      "text/plain": [
       "(814040, 203492)"
      ]
     },
     "execution_count": 12,
     "metadata": {},
     "output_type": "execute_result"
    }
   ],
   "source": [
    "train_text_encoded_windows = windows(train)\n",
    "test_text_encoded_windows = windows(test)\n",
    "\n",
    "dataset = {\n",
    "    'train': CharRNNDataset(train_text_encoded_windows),\n",
    "    'val': CharRNNDataset(test_text_encoded_windows)\n",
    "}\n",
    "\n",
    "dataloader = {\n",
    "    'train': torch.utils.data.DataLoader(dataset['train'], batch_size=512, shuffle=True, pin_memory=True),\n",
    "    'val': torch.utils.data.DataLoader(dataset['val'], batch_size=2048, shuffle=False, pin_memory=True),\n",
    "}\n",
    "\n",
    "len(dataset['train']), len(dataset['val'])"
   ]
  },
  {
   "cell_type": "code",
   "execution_count": 13,
   "metadata": {
    "ExecuteTime": {
     "end_time": "2020-08-31T15:51:03.098414Z",
     "start_time": "2020-08-31T15:51:03.083416Z"
    }
   },
   "outputs": [
    {
     "data": {
      "text/plain": [
       "'DON QUIJOTE DE LA MANCHA\\n'"
      ]
     },
     "execution_count": 13,
     "metadata": {},
     "output_type": "execute_result"
    }
   ],
   "source": [
    "input, output = dataset['train'][0]\n",
    "tokenizer.seq_to_text(input)"
   ]
  },
  {
   "cell_type": "code",
   "execution_count": 14,
   "metadata": {
    "ExecuteTime": {
     "end_time": "2020-08-31T15:51:03.114414Z",
     "start_time": "2020-08-31T15:51:03.099416Z"
    }
   },
   "outputs": [
    {
     "data": {
      "text/plain": [
       "'M'"
      ]
     },
     "execution_count": 14,
     "metadata": {},
     "output_type": "execute_result"
    }
   ],
   "source": [
    "tokenizer.seq_to_text([output])"
   ]
  },
  {
   "cell_type": "markdown",
   "metadata": {},
   "source": [
    "## Embeddings"
   ]
  },
  {
   "cell_type": "markdown",
   "metadata": {},
   "source": [
    "Si bien hemos conseguido convertir nuestro texto a números, una red neuronal seguirá sin ser capaz de trabajar con nuestros datos ya que, como hemos visto en posts anteriores, éstos tienen que estar normalizados. Además, en función del `tokenizador` que utilicemos es posible que el  mismo carácter tenga asociados diferentes valores. Es por esto que necesitamos codificar nuestro texto de alguna manera. \n",
    "\n",
    "Una opción puede ser el `one-hot encoding`, al fin y al cabo podemos considerar cada letra como una categoría y que nuestra red nos de a la salida una distribución de probabilidad sobre todos los posibles carácteres. A continuación tienes un ejemplo de este tipo de codificación (utilizando palabras en vez de letras).\n",
    "\n",
    "![](https://i0.wp.com/shanelynnwebsite-mid9n9g1q9y8tt.netdna-ssl.com/wp-content/uploads/2018/01/one-hot-word-embedding-vectors.png?ssl=1)\n",
    "\n",
    "A nuestra red le daremos a la entrada un vector que representará cada elemento en el vocabulario. Este vector tendrá una longitud igual al número de elementos diferentes en el vocabulario, y estará lleno de ceros excepto por una posición (la posición que ocupe el elemento en concreto dentro del vocabulario, la lista de elementos únicos). En nuestro caso podríamos optar por esta alternativa, ya que apenas tenemos un centenar de carácteres diferentes. Sin embargo, cuando trabajemos con palabras, nuestros vocabularios serán enormes (¿cuántas palabras hay en el diccionario?). Esto implica que trabajar con una codificación `one-hot` será muy costoso (vectores muy grandes) e ineficiente (prácticamente llenos de ceros). Es por esto que utilizamos una mejor codificación: los `embeddings`\n",
    "\n",
    "![](https://i.stack.imgur.com/5gAnY.png)\n",
    "\n",
    "Un embedding es una matriz con un número de filas igual al tamaño del vocabulario y un número de columnas que nosotros decidiremos. Cada fila en la matriz representará la codificación de una palabara (o carácter en nuestro ejemplo). A diferencia de la codificación `one-hot`, estos vectores son densos (pueden tener valores diferentes de cero en cualquier posición). Además, estos valores son aprendidos por la red neuronal, de manera que podrá representar los datos de la mejor forma posible para llevar a cabo la tarea. En la figura anterior tienes un ejemplo de un embedding entrenado, ¿observas algún patrón?. Efectivamente, palabras similares tienen representaciones similares. Además, cada columna del embedding tiene un significado que permite establecer relaciones entre las diferentes representaciones."
   ]
  },
  {
   "cell_type": "markdown",
   "metadata": {},
   "source": [
    "> ⚡ ¿Qué resultado obtienes al restar el vector `boy` al vector `man` y sumarle el vector `girl`?"
   ]
  },
  {
   "cell_type": "markdown",
   "metadata": {},
   "source": [
    "En `Pytorch` tenemos esta capa implementada en la clase `torch.nn.Embedding`, y más adelante veremos como podemos utilizar `transfer learning` con embeddings pre-entrenados (lo cual nos dará una mejor representación de nuestro vocabulario desde el principio sin tener que entrenar esta capa)."
   ]
  },
  {
   "cell_type": "code",
   "execution_count": 15,
   "metadata": {
    "ExecuteTime": {
     "end_time": "2020-08-31T15:51:03.130417Z",
     "start_time": "2020-08-31T15:51:03.115416Z"
    }
   },
   "outputs": [],
   "source": [
    "class CharRNN(torch.nn.Module):\n",
    "  def __init__(self, input_size, embedding_size=100, hidden_size=100, num_layers=1):\n",
    "    super().__init__()\n",
    "    self.encoder = torch.nn.Embedding(input_size, embedding_size)\n",
    "    self.rnn = torch.nn.LSTM(input_size=embedding_size, hidden_size=hidden_size, num_layers=num_layers, batch_first=True)\n",
    "    self.fc = torch.nn.Linear(hidden_size, input_size)\n",
    "\n",
    "  def forward(self, x):\n",
    "    x = self.encoder(x)\n",
    "    x, h = self.rnn(x)         \n",
    "    y = self.fc(x[:,-1,:])\n",
    "    return y"
   ]
  },
  {
   "cell_type": "markdown",
   "metadata": {},
   "source": [
    "Nuestro modelo recibirá *batches* de frases con el índice de cada palabra que nos proporciona el `tokenizador`. A la salida tendremos una distribución de probabilidad sobre todos los posibles carácteres para cada frase del *batch*. Aquellos con mayor probabilidad serán los que la red cree que son buenos candidatos para seguir la frase recibida a la entrada."
   ]
  },
  {
   "cell_type": "code",
   "execution_count": 16,
   "metadata": {
    "ExecuteTime": {
     "end_time": "2020-08-31T15:51:03.162415Z",
     "start_time": "2020-08-31T15:51:03.131418Z"
    }
   },
   "outputs": [
    {
     "data": {
      "text/plain": [
       "torch.Size([64, 114])"
      ]
     },
     "execution_count": 16,
     "metadata": {},
     "output_type": "execute_result"
    }
   ],
   "source": [
    "model = CharRNN(input_size=tokenizer.n_characters)\n",
    "outputs = model(torch.randint(0, tokenizer.n_characters, (64, 50)))\n",
    "outputs.shape"
   ]
  },
  {
   "cell_type": "markdown",
   "metadata": {},
   "source": [
    "## Entrenamiento"
   ]
  },
  {
   "cell_type": "code",
   "execution_count": 17,
   "metadata": {
    "ExecuteTime": {
     "end_time": "2020-08-31T15:51:03.210415Z",
     "start_time": "2020-08-31T15:51:03.163415Z"
    },
    "code_folding": [
     5,
     37
    ]
   },
   "outputs": [],
   "source": [
    "from tqdm import tqdm\n",
    "import numpy as np\n",
    "\n",
    "device = \"cuda\" if torch.cuda.is_available() else \"cpu\"\n",
    "\n",
    "def fit(model, dataloader, epochs=10):\n",
    "    model.to(device)\n",
    "    optimizer = torch.optim.Adam(model.parameters(), lr=1e-3)\n",
    "    criterion = torch.nn.CrossEntropyLoss()\n",
    "    for epoch in range(1, epochs+1):\n",
    "        model.train()\n",
    "        train_loss = []\n",
    "        bar = tqdm(dataloader['train'])\n",
    "        for batch in bar:\n",
    "            X, y = batch\n",
    "            X, y = X.to(device), y.to(device)\n",
    "            optimizer.zero_grad()\n",
    "            y_hat = model(X)\n",
    "            loss = criterion(y_hat, y)\n",
    "            loss.backward()\n",
    "            optimizer.step()\n",
    "            train_loss.append(loss.item())\n",
    "            bar.set_description(f\"loss {np.mean(train_loss):.5f}\")\n",
    "        bar = tqdm(dataloader['val'])\n",
    "        val_loss = []\n",
    "        with torch.no_grad():\n",
    "            for batch in bar:\n",
    "                X, y = batch\n",
    "                X, y = X.to(device), y.to(device)\n",
    "                y_hat = model(X)\n",
    "                loss = criterion(y_hat, y)\n",
    "                val_loss.append(loss.item())\n",
    "                bar.set_description(f\"val_loss {np.mean(val_loss):.5f}\")\n",
    "        print(f\"Epoch {epoch}/{epochs} loss {np.mean(train_loss):.5f} val_loss {np.mean(val_loss):.5f}\")\n",
    "\n",
    "def predict(model, X):\n",
    "    model.eval() \n",
    "    with torch.no_grad():\n",
    "        X = torch.tensor(X).to(device)\n",
    "        pred = model(X.unsqueeze(0))\n",
    "        return pred"
   ]
  },
  {
   "cell_type": "code",
   "execution_count": 18,
   "metadata": {
    "ExecuteTime": {
     "end_time": "2020-08-31T15:58:22.972942Z",
     "start_time": "2020-08-31T15:51:03.212418Z"
    }
   },
   "outputs": [
    {
     "name": "stderr",
     "output_type": "stream",
     "text": [
      "loss 1.95118: 100%|█| 1590/1590 [00:19<00:00, 82.40it/s\n",
      "val_loss 1.73592: 100%|█| 100/100 [00:03<00:00, 33.03it\n",
      "loss 1.71605:   0%|   | 5/1590 [00:00<00:33, 47.62it/s]"
     ]
    },
    {
     "name": "stdout",
     "output_type": "stream",
     "text": [
      "Epoch 1/20 loss 1.95118 val_loss 1.73592\n"
     ]
    },
    {
     "name": "stderr",
     "output_type": "stream",
     "text": [
      "loss 1.62892: 100%|█| 1590/1590 [00:19<00:00, 81.90it/s\n",
      "val_loss 1.59917: 100%|█| 100/100 [00:02<00:00, 34.57it\n",
      "loss 1.56738:   0%|   | 3/1590 [00:00<00:58, 27.27it/s]"
     ]
    },
    {
     "name": "stdout",
     "output_type": "stream",
     "text": [
      "Epoch 2/20 loss 1.62892 val_loss 1.59917\n"
     ]
    },
    {
     "name": "stderr",
     "output_type": "stream",
     "text": [
      "loss 1.52642: 100%|█| 1590/1590 [00:19<00:00, 83.24it/s\n",
      "val_loss 1.53520: 100%|█| 100/100 [00:03<00:00, 33.21it\n",
      "loss 1.50809:   0%|   | 3/1590 [00:00<00:53, 29.70it/s]"
     ]
    },
    {
     "name": "stdout",
     "output_type": "stream",
     "text": [
      "Epoch 3/20 loss 1.52642 val_loss 1.53520\n"
     ]
    },
    {
     "name": "stderr",
     "output_type": "stream",
     "text": [
      "loss 1.46897: 100%|█| 1590/1590 [00:18<00:00, 86.43it/s\n",
      "val_loss 1.49786: 100%|█| 100/100 [00:02<00:00, 34.48it\n",
      "loss 1.44475:   0%|   | 5/1590 [00:00<00:34, 45.45it/s]"
     ]
    },
    {
     "name": "stdout",
     "output_type": "stream",
     "text": [
      "Epoch 4/20 loss 1.46897 val_loss 1.49786\n"
     ]
    },
    {
     "name": "stderr",
     "output_type": "stream",
     "text": [
      "loss 1.43205: 100%|█| 1590/1590 [00:18<00:00, 83.72it/s\n",
      "val_loss 1.47051: 100%|█| 100/100 [00:03<00:00, 33.27it\n",
      "loss 1.42098:   0%|   | 5/1590 [00:00<00:38, 40.65it/s]"
     ]
    },
    {
     "name": "stdout",
     "output_type": "stream",
     "text": [
      "Epoch 5/20 loss 1.43205 val_loss 1.47051\n"
     ]
    },
    {
     "name": "stderr",
     "output_type": "stream",
     "text": [
      "loss 1.40601: 100%|█| 1590/1590 [00:18<00:00, 87.62it/s\n",
      "val_loss 1.45125: 100%|█| 100/100 [00:02<00:00, 34.53it\n",
      "loss 1.40025:   0%|   | 5/1590 [00:00<00:32, 49.02it/s]"
     ]
    },
    {
     "name": "stdout",
     "output_type": "stream",
     "text": [
      "Epoch 6/20 loss 1.40601 val_loss 1.45125\n"
     ]
    },
    {
     "name": "stderr",
     "output_type": "stream",
     "text": [
      "loss 1.38533: 100%|█| 1590/1590 [00:18<00:00, 84.36it/s\n",
      "val_loss 1.43393: 100%|█| 100/100 [00:03<00:00, 32.71it\n",
      "loss 1.35892:   0%|   | 3/1590 [00:00<00:53, 29.70it/s]"
     ]
    },
    {
     "name": "stdout",
     "output_type": "stream",
     "text": [
      "Epoch 7/20 loss 1.38533 val_loss 1.43393\n"
     ]
    },
    {
     "name": "stderr",
     "output_type": "stream",
     "text": [
      "loss 1.36909: 100%|█| 1590/1590 [00:19<00:00, 82.40it/s\n",
      "val_loss 1.42545: 100%|█| 100/100 [00:02<00:00, 35.39it\n",
      "loss 1.35321:   0%|   | 5/1590 [00:00<00:34, 45.87it/s]"
     ]
    },
    {
     "name": "stdout",
     "output_type": "stream",
     "text": [
      "Epoch 8/20 loss 1.36909 val_loss 1.42545\n"
     ]
    },
    {
     "name": "stderr",
     "output_type": "stream",
     "text": [
      "loss 1.35584: 100%|█| 1590/1590 [00:19<00:00, 83.51it/s\n",
      "val_loss 1.41950: 100%|█| 100/100 [00:02<00:00, 33.81it\n",
      "loss 1.32538:   0%|   | 5/1590 [00:00<00:35, 44.25it/s]"
     ]
    },
    {
     "name": "stdout",
     "output_type": "stream",
     "text": [
      "Epoch 9/20 loss 1.35584 val_loss 1.41950\n"
     ]
    },
    {
     "name": "stderr",
     "output_type": "stream",
     "text": [
      "loss 1.34426: 100%|█| 1590/1590 [00:19<00:00, 83.18it/s\n",
      "val_loss 1.40850: 100%|█| 100/100 [00:03<00:00, 31.08it\n",
      "loss 1.35637:   0%|   | 5/1590 [00:00<00:33, 46.73it/s]"
     ]
    },
    {
     "name": "stdout",
     "output_type": "stream",
     "text": [
      "Epoch 10/20 loss 1.34426 val_loss 1.40850\n"
     ]
    },
    {
     "name": "stderr",
     "output_type": "stream",
     "text": [
      "loss 1.33431: 100%|█| 1590/1590 [00:19<00:00, 82.81it/s\n",
      "val_loss 1.40479: 100%|█| 100/100 [00:02<00:00, 33.48it\n",
      "loss 1.29988:   0%|   | 5/1590 [00:00<00:32, 49.02it/s]"
     ]
    },
    {
     "name": "stdout",
     "output_type": "stream",
     "text": [
      "Epoch 11/20 loss 1.33431 val_loss 1.40479\n"
     ]
    },
    {
     "name": "stderr",
     "output_type": "stream",
     "text": [
      "loss 1.32566: 100%|█| 1590/1590 [00:18<00:00, 86.22it/s\n",
      "val_loss 1.39688: 100%|█| 100/100 [00:02<00:00, 34.40it\n",
      "loss 1.31302:   0%|   | 6/1590 [00:00<00:30, 51.72it/s]"
     ]
    },
    {
     "name": "stdout",
     "output_type": "stream",
     "text": [
      "Epoch 12/20 loss 1.32566 val_loss 1.39688\n"
     ]
    },
    {
     "name": "stderr",
     "output_type": "stream",
     "text": [
      "loss 1.31767: 100%|█| 1590/1590 [00:18<00:00, 85.63it/s\n",
      "val_loss 1.39383: 100%|█| 100/100 [00:02<00:00, 34.27it\n",
      "loss 1.30599:   0%|   | 5/1590 [00:00<00:34, 46.30it/s]"
     ]
    },
    {
     "name": "stdout",
     "output_type": "stream",
     "text": [
      "Epoch 13/20 loss 1.31767 val_loss 1.39383\n"
     ]
    },
    {
     "name": "stderr",
     "output_type": "stream",
     "text": [
      "loss 1.31090: 100%|█| 1590/1590 [00:19<00:00, 83.27it/s\n",
      "val_loss 1.38952: 100%|█| 100/100 [00:03<00:00, 32.79it\n",
      "loss 1.30679:   0%|   | 5/1590 [00:00<00:36, 43.89it/s]"
     ]
    },
    {
     "name": "stdout",
     "output_type": "stream",
     "text": [
      "Epoch 14/20 loss 1.31090 val_loss 1.38952\n"
     ]
    },
    {
     "name": "stderr",
     "output_type": "stream",
     "text": [
      "loss 1.30470: 100%|█| 1590/1590 [00:18<00:00, 83.90it/s\n",
      "val_loss 1.38629: 100%|█| 100/100 [00:03<00:00, 30.65it\n",
      "loss 1.30765:   0%|   | 3/1590 [00:00<00:53, 29.70it/s]"
     ]
    },
    {
     "name": "stdout",
     "output_type": "stream",
     "text": [
      "Epoch 15/20 loss 1.30470 val_loss 1.38629\n"
     ]
    },
    {
     "name": "stderr",
     "output_type": "stream",
     "text": [
      "loss 1.29876: 100%|█| 1590/1590 [00:18<00:00, 84.04it/s\n",
      "val_loss 1.38465: 100%|█| 100/100 [00:03<00:00, 30.70it\n",
      "loss 1.27576:   0%|   | 5/1590 [00:00<00:33, 47.62it/s]"
     ]
    },
    {
     "name": "stdout",
     "output_type": "stream",
     "text": [
      "Epoch 16/20 loss 1.29876 val_loss 1.38465\n"
     ]
    },
    {
     "name": "stderr",
     "output_type": "stream",
     "text": [
      "loss 1.29370: 100%|█| 1590/1590 [00:19<00:00, 83.33it/s\n",
      "val_loss 1.38122: 100%|█| 100/100 [00:02<00:00, 34.40it\n",
      "loss 1.30535:   0%|   | 5/1590 [00:00<00:32, 48.54it/s]"
     ]
    },
    {
     "name": "stdout",
     "output_type": "stream",
     "text": [
      "Epoch 17/20 loss 1.29370 val_loss 1.38122\n"
     ]
    },
    {
     "name": "stderr",
     "output_type": "stream",
     "text": [
      "loss 1.28822: 100%|█| 1590/1590 [00:18<00:00, 86.87it/s\n",
      "val_loss 1.37756: 100%|█| 100/100 [00:03<00:00, 33.21it\n",
      "loss 1.27472:   0%|   | 5/1590 [00:00<00:35, 45.05it/s]"
     ]
    },
    {
     "name": "stdout",
     "output_type": "stream",
     "text": [
      "Epoch 18/20 loss 1.28822 val_loss 1.37756\n"
     ]
    },
    {
     "name": "stderr",
     "output_type": "stream",
     "text": [
      "loss 1.28401: 100%|█| 1590/1590 [00:18<00:00, 84.75it/s\n",
      "val_loss 1.37861: 100%|█| 100/100 [00:03<00:00, 31.98it\n",
      "loss 1.26169:   0%|   | 3/1590 [00:00<00:53, 29.70it/s]"
     ]
    },
    {
     "name": "stdout",
     "output_type": "stream",
     "text": [
      "Epoch 19/20 loss 1.28401 val_loss 1.37861\n"
     ]
    },
    {
     "name": "stderr",
     "output_type": "stream",
     "text": [
      "loss 1.28007: 100%|█| 1590/1590 [00:19<00:00, 83.34it/s\n",
      "val_loss 1.37553: 100%|█| 100/100 [00:02<00:00, 37.27it"
     ]
    },
    {
     "name": "stdout",
     "output_type": "stream",
     "text": [
      "Epoch 20/20 loss 1.28007 val_loss 1.37553\n"
     ]
    },
    {
     "name": "stderr",
     "output_type": "stream",
     "text": [
      "\n"
     ]
    }
   ],
   "source": [
    "model = CharRNN(input_size=tokenizer.n_characters)\n",
    "fit(model, dataloader, epochs=20)"
   ]
  },
  {
   "cell_type": "markdown",
   "metadata": {},
   "source": [
    "## Generando texto"
   ]
  },
  {
   "cell_type": "markdown",
   "metadata": {},
   "source": [
    "Una vez hemos entrenado nuestro modelo, podemos darle una frase para que genere la siguiente letra."
   ]
  },
  {
   "cell_type": "code",
   "execution_count": 24,
   "metadata": {
    "ExecuteTime": {
     "end_time": "2020-08-31T15:59:30.906046Z",
     "start_time": "2020-08-31T15:59:30.869287Z"
    }
   },
   "outputs": [
    {
     "data": {
      "text/plain": [
       "'y'"
      ]
     },
     "execution_count": 24,
     "metadata": {},
     "output_type": "execute_result"
    }
   ],
   "source": [
    "X_new = \"En un lugar de la mancha, \"\n",
    "X_new_encoded = tokenizer.text_to_seq(X_new)\n",
    "y_pred = predict(model, X_new_encoded)\n",
    "y_pred = torch.argmax(y_pred, axis=1)[0].item()\n",
    "tokenizer.seq_to_text([y_pred])"
   ]
  },
  {
   "cell_type": "markdown",
   "metadata": {},
   "source": [
    "Podemos generar más letras añadiendo las predicciones como parte de la entrada, generando texto letra a letra."
   ]
  },
  {
   "cell_type": "code",
   "execution_count": 25,
   "metadata": {
    "ExecuteTime": {
     "end_time": "2020-08-31T15:59:31.642406Z",
     "start_time": "2020-08-31T15:59:31.520395Z"
    }
   },
   "outputs": [
    {
     "data": {
      "text/plain": [
       "'En un lugar de la mancha, y el cual estaba en el cual estaba en el cual estaba en el cual estaba en el cual estaba en el cual '"
      ]
     },
     "execution_count": 25,
     "metadata": {},
     "output_type": "execute_result"
    }
   ],
   "source": [
    "for i in range(100):\n",
    "  X_new_encoded = tokenizer.text_to_seq(X_new[-100:])\n",
    "  y_pred = predict(model, X_new_encoded)\n",
    "  y_pred = torch.argmax(y_pred, axis=1)[0].item()\n",
    "  X_new += tokenizer.seq_to_text([y_pred])\n",
    "\n",
    "X_new"
   ]
  },
  {
   "cell_type": "markdown",
   "metadata": {},
   "source": [
    "Cómo puedes ver el text generado puede ser repetitivo si simplemente nos quedamos con la letra con mayor probabilidad. Para generar texto con mayor variedad, es común elegir de manera aleatoria una letra de entre las que tienen mayor probabilidad."
   ]
  },
  {
   "cell_type": "code",
   "execution_count": 26,
   "metadata": {
    "ExecuteTime": {
     "end_time": "2020-08-31T15:59:33.433706Z",
     "start_time": "2020-08-31T15:59:31.917395Z"
    }
   },
   "outputs": [
    {
     "name": "stdout",
     "output_type": "stream",
     "text": [
      "En un lugar de la mancha, y el cual estaba en el cual estaba en el cual estaba en el cual estaba en el cual estaba en el cual parecio subiendome es mejor el Parco congocian; sonocharandose el barbero Mariese, de aquella procuraz nuevas, tomento, pues quien con el comenzamos legitor, y, sino que pato, tomosos dispartos que me quitabre, hasohario sosenada, sino pobras con su crituza, y si entonces en una sana, el bajo en que tenia aquel principable ni mas mas palos parabre de extradedaria buena tan mas hermano a Cardenio el corray que se lo vuella muchas arrojedos por entrar la caballero\n",
      "andante el papellida con diese en aupla a esta hazamo tiene.\n",
      "Haya es fue en aquella, las duenados y con hoylezas que las volvias la razon; des sus palabras mios, con herecha en la malias, ni los de sus manchas, y mania porque no le cansar en el de Perte lemes. Vecetino a confenas repiesta, y podian el repondierandose os oyese condeceramego alzo que hacia tierra, ni desto nuevo. Asi le sobrino, en Machena, y con el traer, supito, ni aquellos que el las machos y en los suspedas y honados hares que yo no me apasione: y esto que de\n"
     ]
    }
   ],
   "source": [
    "temp=1\n",
    "for i in range(1000):\n",
    "  X_new_encoded = tokenizer.text_to_seq(X_new[-100:])\n",
    "  y_pred = predict(model, X_new_encoded)\n",
    "  y_pred = y_pred.view(-1).div(temp).exp()\n",
    "  top_i = torch.multinomial(y_pred, 1)[0]\n",
    "  predicted_char = tokenizer.all_characters[top_i]\n",
    "  X_new += predicted_char\n",
    "\n",
    "print(X_new)"
   ]
  },
  {
   "cell_type": "markdown",
   "metadata": {},
   "source": [
    "## Resumen"
   ]
  },
  {
   "cell_type": "markdown",
   "metadata": {},
   "source": [
    "En este post hemos aprendido cómo implementar y entrenar una `red neuronal recurrente` para generar texto como si fuese Miguel de Cervantes. Para ello hemos utilizado su libro *Don Quijote de la Mancha* como dataset. En primer lugar, transformamos el texto en números gracias al proceso de la `tokenización`. Después, codificamos cada carácter en el dataset utilizando una capa `embedding`, que permitirá a la red neuronal encontrar la mejor representación posible de los datos para llevar a cabo su tarea. Para generar texto, le pedimos a la red que nos de una distribución de probabilidad sobre todos los posible carácteres a partir de una frase que le damos a la entrada. Utilizaremos esta distribución para seleccionar un carácter que siga con la frase de manera convincente. Podemos repetir este proceso para generar secuencias más largas."
   ]
  }
 ],
 "metadata": {
  "kernelspec": {
   "display_name": "Python 3",
   "language": "python",
   "name": "python3"
  },
  "language_info": {
   "codemirror_mode": {
    "name": "ipython",
    "version": 3
   },
   "file_extension": ".py",
   "mimetype": "text/x-python",
   "name": "python",
   "nbconvert_exporter": "python",
   "pygments_lexer": "ipython3",
   "version": "3.7.6"
  },
  "toc": {
   "base_numbering": 1,
   "nav_menu": {},
   "number_sections": true,
   "sideBar": true,
   "skip_h1_title": false,
   "title_cell": "Table of Contents",
   "title_sidebar": "Contents",
   "toc_cell": false,
   "toc_position": {
    "height": "calc(100% - 180px)",
    "left": "10px",
    "top": "150px",
    "width": "233.594px"
   },
   "toc_section_display": true,
   "toc_window_display": false
  }
 },
 "nbformat": 4,
 "nbformat_minor": 4
}
