{
 "cells": [
  {
   "cell_type": "markdown",
   "metadata": {},
   "source": [
    "[![Open In Colab](https://colab.research.google.com/assets/colab-badge.svg)](https://colab.research.google.com/github/sensioai/blog/blob/master/023_mlp_backprop/mlp_backprop.ipynb)"
   ]
  },
  {
   "cell_type": "markdown",
   "metadata": {},
   "source": [
    "# El Perceptrón Multicapa"
   ]
  },
  {
   "cell_type": "markdown",
   "metadata": {},
   "source": [
    "## El Perceptrón"
   ]
  },
  {
   "cell_type": "markdown",
   "metadata": {},
   "source": [
    "En [posts](https://sensioai.com/blog/012_perceptron1) anteriores hemos visto nuestro primer modelo de `Machine Learning` para llevar a cabo tareas de regresión y clasificación: el `Perceptrón`. Este sencillo algoritmo, inspirado en el funcionamiento de las redes neuronales biológicas, asigna unos pesos determinados a sus entradas, lleva a cabo una suma ponderada de las mismas, y produce una salida a la cual aplica una función de activación. Podemos encontrar los pesos óptimos del `Perceptrón` de maneras supervisada a partir de ejemplos gracias al algoritmo de `descenso por gradiente`. Puedes encontrar nuestra implementación final del `Perceptrón` con ejemplos de aplicación en este [post](https://sensioai.com/blog/018_perceptron_final).\n",
    "\n",
    "![](https://www.researchgate.net/profile/Shibani_Singh2/publication/321141639/figure/fig2/AS:572731935727616@1513561342872/Schematic-of-Rosenblatts-perceptron.png)\n",
    "\n",
    "Este es un modelo sencillo, con unos requisitos computacionales relativamente bajos (comparando con otros modelos más complicados) y explicable, ya que cada *input* tiene su peso y por lo tanto, una vez entrenado, podemos saber cuanto importa cada característica en el resultado final. Sin embargo, como también hemos visto en varios de los posts en los que hemos trabajado con el `Perceptrón`, éste tiene una gran limitación y es que, si nuestros datos no siguen una linea (regresión) o no son linealmente separables (clasificación), siempre vamos a tener errores."
   ]
  },
  {
   "cell_type": "code",
   "execution_count": 17,
   "metadata": {
    "ExecuteTime": {
     "end_time": "2020-08-02T15:00:28.868215Z",
     "start_time": "2020-08-02T15:00:28.693410Z"
    }
   },
   "outputs": [
    {
     "data": {
      "image/png": "[encoded data removed]",
      "text/plain": [
       "<Figure size 432x288 with 1 Axes>"
      ]
     },
     "metadata": {
      "needs_background": "light"
     },
     "output_type": "display_data"
    }
   ],
   "source": [
    "import numpy as np\n",
    "import matplotlib.pyplot as plt\n",
    "\n",
    "x = np.random.rand(100)\n",
    "X = x.reshape(-1, 1)\n",
    "y = 2*x + (np.random.rand(100)-0.5)*0.5\n",
    "\n",
    "plt.plot(x, y, \"b.\")\n",
    "plt.xlabel(\"$x_1$\", fontsize=14)\n",
    "plt.ylabel(\"$y$\", rotation=0, fontsize=14)\n",
    "plt.grid(True)\n",
    "plt.show()"
   ]
  },
  {
   "cell_type": "markdown",
   "metadata": {},
   "source": [
    "Aquí traemos la implementación de nuestro `Perceptrón` para hacer regresión lineal."
   ]
  },
  {
   "cell_type": "code",
   "execution_count": 18,
   "metadata": {
    "ExecuteTime": {
     "end_time": "2020-08-02T15:00:43.687263Z",
     "start_time": "2020-08-02T15:00:43.634318Z"
    },
    "code_folding": [
     9
    ]
   },
   "outputs": [],
   "source": [
    "def linear(x):\n",
    "    return x\n",
    "\n",
    "def mse(y, y_hat):\n",
    "    return 0.5*np.mean((y_hat - y.reshape(y_hat.shape))**2)\n",
    "\n",
    "def grad_mse(y, y_hat):\n",
    "    return y_hat - y.reshape(y_hat.shape)\n",
    "\n",
    "class Perceptron():\n",
    "  def __init__(self, inputs, outputs, activation, loss, grad_loss):\n",
    "    inputs = inputs + 1\n",
    "    self.w = np.random.normal(loc=0.0, \n",
    "          scale = np.sqrt(2/(inputs+outputs)), \n",
    "          size = (inputs, outputs)) \n",
    "    self.ws = []\n",
    "    self.activation = activation\n",
    "    self.loss = loss\n",
    "    self.grad_loss = grad_loss\n",
    "    \n",
    "  def __call__(self, w, x):\n",
    "    return self.activation(np.dot(x, w)) \n",
    "\n",
    "  def fit(self, x, y, epochs, lr, batch_size=None, verbose=True, log_each=1):\n",
    "    if batch_size == None:\n",
    "        batch_size = len(x)\n",
    "    x = np.c_[np.ones(len(x)), x]\n",
    "    batches = len(x) // batch_size\n",
    "    for epoch in range(1,epochs+1):\n",
    "        # Mini-Batch Gradient Descent\n",
    "        for b in range(batches):\n",
    "            _x = x[b*batch_size:(b+1)*batch_size]\n",
    "            _y = y[b*batch_size:(b+1)*batch_size]\n",
    "            y_hat = self(self.w, _x)  \n",
    "            #print(y_hat.shape)\n",
    "            # función de pérdida\n",
    "            l = self.loss(_y, y_hat)\n",
    "            # derivadas\n",
    "            dldh = self.grad_loss(_y, y_hat)\n",
    "            dhdw = _x\n",
    "            dldw = np.dot(dhdw.T, dldh)\n",
    "            # actualizar pesos\n",
    "            self.w = self.w - lr*dldw\n",
    "        # guardar pesos para animación\n",
    "        self.ws.append(self.w.copy())\n",
    "        # print loss\n",
    "        if verbose and not epoch % log_each:\n",
    "            print(f\"Epoch {epoch}/{epochs} Loss {l}\")\n",
    "            \n",
    "  def predict(self, x):\n",
    "    x = np.c_[np.ones(len(x)), x]\n",
    "    return self(self.w, x)\n",
    "\n",
    "class LinearRegression(Perceptron):\n",
    "  def __init__(self, inputs, outputs=1):\n",
    "    super().__init__(inputs, outputs, linear, mse, grad_mse)"
   ]
  },
  {
   "cell_type": "code",
   "execution_count": 19,
   "metadata": {
    "ExecuteTime": {
     "end_time": "2020-08-02T15:00:43.790967Z",
     "start_time": "2020-08-02T15:00:43.777992Z"
    }
   },
   "outputs": [
    {
     "name": "stdout",
     "output_type": "stream",
     "text": [
      "Epoch 10/50 Loss 0.05432186984693169\n",
      "Epoch 20/50 Loss 0.023910775390353734\n",
      "Epoch 30/50 Loss 0.015492546760208076\n",
      "Epoch 40/50 Loss 0.013162259917614437\n",
      "Epoch 50/50 Loss 0.012517202981370228\n"
     ]
    }
   ],
   "source": [
    "np.random.seed(42)\n",
    "\n",
    "model = LinearRegression(inputs=1, outputs=1)\n",
    "epochs, lr = 50, 0.01\n",
    "model.fit(x.reshape(len(x),1), y, epochs, lr, log_each=10)"
   ]
  },
  {
   "cell_type": "code",
   "execution_count": 20,
   "metadata": {
    "ExecuteTime": {
     "end_time": "2020-08-02T15:00:47.863850Z",
     "start_time": "2020-08-02T15:00:47.667120Z"
    }
   },
   "outputs": [
    {
     "data": {
      "image/png": "[encoded data removed]",
      "text/plain": [
       "<Figure size 432x288 with 1 Axes>"
      ]
     },
     "metadata": {
      "needs_background": "light"
     },
     "output_type": "display_data"
    }
   ],
   "source": [
    "x_new = np.linspace(0, 1, 100)\n",
    "x_new = x_new.reshape(len(x_new),1)\n",
    "y_pred = model.predict(x_new)\n",
    "    \n",
    "plt.plot(x, y, \"b.\")\n",
    "plt.plot(x_new, y_pred, \"-k\")\n",
    "plt.xlabel(\"$x_1$\", fontsize=14)\n",
    "plt.ylabel(\"$y$\", rotation=0, fontsize=14)\n",
    "plt.grid(True)\n",
    "plt.show()"
   ]
  },
  {
   "cell_type": "markdown",
   "metadata": {},
   "source": [
    "Si nuestros datos siguen una línea recta, el `Perceptrón` será capaz de ajustarse bien. Sin embargo, si probamos lo mismo en unos datos con una distribución cuadrática ..."
   ]
  },
  {
   "cell_type": "code",
   "execution_count": 21,
   "metadata": {
    "ExecuteTime": {
     "end_time": "2020-08-02T15:00:55.966645Z",
     "start_time": "2020-08-02T15:00:55.770779Z"
    }
   },
   "outputs": [
    {
     "data": {
      "image/png": "[encoded data removed]",
      "text/plain": [
       "<Figure size 432x288 with 1 Axes>"
      ]
     },
     "metadata": {
      "needs_background": "light"
     },
     "output_type": "display_data"
    }
   ],
   "source": [
    "m = 100\n",
    "x = 6 * np.random.rand(m, 1) - 3\n",
    "y = 0.5 * x**2 + x + 2 + np.random.randn(m, 1)\n",
    "\n",
    "plt.plot(x, y, \"b.\")\n",
    "plt.xlabel(\"$x_1$\", fontsize=14)\n",
    "plt.ylabel(\"$y$\", rotation=0, fontsize=14)\n",
    "plt.grid(True)\n",
    "plt.show()"
   ]
  },
  {
   "cell_type": "code",
   "execution_count": 22,
   "metadata": {
    "ExecuteTime": {
     "end_time": "2020-08-02T15:00:56.645831Z",
     "start_time": "2020-08-02T15:00:56.634863Z"
    }
   },
   "outputs": [
    {
     "name": "stdout",
     "output_type": "stream",
     "text": [
      "Epoch 10/50 Loss 2.5108146222738132\n",
      "Epoch 20/50 Loss 1.6253619899104492\n",
      "Epoch 30/50 Loss 1.5130437594189003\n",
      "Epoch 40/50 Loss 1.49872034319959\n",
      "Epoch 50/50 Loss 1.4968937125078603\n"
     ]
    }
   ],
   "source": [
    "model = LinearRegression(inputs=1, outputs=1)\n",
    "epochs, lr = 50, 0.001\n",
    "model.fit(x.reshape(len(x),1), y, epochs, lr, log_each=10)"
   ]
  },
  {
   "cell_type": "code",
   "execution_count": 23,
   "metadata": {
    "ExecuteTime": {
     "end_time": "2020-08-02T15:00:57.508859Z",
     "start_time": "2020-08-02T15:00:57.315732Z"
    }
   },
   "outputs": [
    {
     "data": {
      "image/png": "[encoded data removed]",
      "text/plain": [
       "<Figure size 432x288 with 1 Axes>"
      ]
     },
     "metadata": {
      "needs_background": "light"
     },
     "output_type": "display_data"
    }
   ],
   "source": [
    "x_new = np.linspace(-3, 3, 100)\n",
    "x_new = x_new.reshape(len(x_new),1)\n",
    "y_pred = model.predict(x_new)\n",
    "    \n",
    "plt.plot(x, y, \"b.\")\n",
    "plt.plot(x_new, y_pred, \"-k\")\n",
    "plt.xlabel(\"$x_1$\", fontsize=14)\n",
    "plt.ylabel(\"$y$\", rotation=0, fontsize=14)\n",
    "plt.grid(True)\n",
    "plt.show()"
   ]
  },
  {
   "cell_type": "markdown",
   "metadata": {},
   "source": [
    "Lo mejor que nuestro modelo puede hacer es encontrar una línea recta, por lo que fallará cuando esta hipótesis no se cumpla (lo cual ocurre en la mayoría de casos interesantes). En este post vamos a ver como mejorar el `Perceptrón` para resolver este problema."
   ]
  },
  {
   "cell_type": "markdown",
   "metadata": {},
   "source": [
    "## El Perceptrón Multicapa"
   ]
  },
  {
   "cell_type": "markdown",
   "metadata": {},
   "source": [
    "Como ya hemos comentado el `Perceptrón` está inspirado en el funcionamiento de las neuronas biológicos. Sin embargo, nuestros cerebros están formados por trillones (entre 100 y 1000) de conexiones entre neuronas. Así pues, si queremos conseguir modelos más \"inteligentes\" necesitamos conectar `Perceptrones` en capas consecutivas capaces de representar distribuciones de datos no lineales. Esta arquitectura se conoce con el nombre de `Perceptrón Multicapa`, o *Multilayer Perceptron* en inglés (MLP), y es la arquitectura básica de las `redes neuronales`.\n",
    "\n",
    "![](https://www.researchgate.net/profile/Mohamed_Zahran6/publication/303875065/figure/fig4/AS:371118507610123@1465492955561/A-hypothetical-example-of-Multilayer-Perceptron-Network.png)"
   ]
  },
  {
   "cell_type": "markdown",
   "metadata": {},
   "source": [
    "Como puedes ver en la figura, un MLP no es más que una secuencia de `Perceptrones`, las salidas de los cuales son a la vez las entradas para la siguiente capa (así hasta llegar a la salida). En el caso de un MLP de dos capas, podemos calcular la salida de la primera capa como\n",
    "\n",
    "$$ \\mathbf{h}_1 = f_1(\\mathbf{w}_1 \\cdot \\mathbf{x}) $$\n",
    "\n",
    "donde $\\mathbf{h}_1$ es el estado oculto, *hidden state* en inglés, de la primera capa. Como puedes ver la expresión es la misma que la que usamos en el modelo `Perceptrón`, en el que $\\mathbf{w}_1$ son los pesos de la primera capa y $\\mathbf{x}$ las entradas. Si ahora consideramos $\\mathbf{h}_1$ como las entradas de la siguiente capa, podemos encontrar la salida como\n",
    "\n",
    "$$ \\hat{y} = f_2(\\mathbf{w}_2 \\cdot \\mathbf{h}_1) = f_2(\\mathbf{w}_2 \\cdot f_1(\\mathbf{w}_1 \\cdot \\mathbf{x})) $$\n",
    "\n",
    "en la que simplemente hemos vuelto a aplicar la misma expresión. Puedes intuir que si tenemos más capas, simplemente repetiremos la expresión para cada capa, usando las salidas de una capa como entradas de la siguiente de manera recurrente hasta llegar a la salida."
   ]
  },
  {
   "cell_type": "markdown",
   "metadata": {},
   "source": [
    "## Entrenando un MLP: el algoritmo de *Backpropagation*"
   ]
  },
  {
   "cell_type": "markdown",
   "metadata": {},
   "source": [
    "Una vez definida la arquitectura del MLP vamos a ver cómo entrenarlo. Para ello vamos a utilizar el mismo algoritmo que ya conocemos para el `Perceptrón`: el algoritmo de `descenso por gradiente`. Primero necesitamos una `función de pérdida`, de la cual calcularemos la derivada con respecto a los pesos del modelo. Para ilustrar el algoritmo vamos a asumir que utilizamos una función de activación de tipo `relu` en la primera capa, $f_1 = max(0, x)$, y una función de activación lineal para la segunda capa ya que estamos interesados en utilizar nuestro MLP para regresión. En cuanto a la función de activación, como ya sabemos para problemas de regresión usamos el error medio cuadrático (MSE).\n",
    "\n",
    "$$ MSE(\\hat{y},y)  = \\frac{1}{N} \\sum^{N}_{j=1} (\\hat{y}^{(j)} - y^{(j)})^2 $$"
   ]
  },
  {
   "cell_type": "markdown",
   "metadata": {},
   "source": [
    "> ⚡ Utilizamos funciones de activación no lineales en las capas ocultas de un MLP ya que una combinación lineal de funciones lineales sigue siendo una función lineal, lo cual significaría que nuestro MLP no sería mejor que un `Perceptrón` simple. Por ejemplo, en el caso de un MLP con una capa oculta de una sola neurona, una entrada y una salida\n",
    "\n",
    "$$ \\hat{y} = w^1_2 h_1 + w^0_2 = w^1_2 (w^1_1 x_1 + w^0_1) + w^0_2 = w^1 x + w^0 $$"
   ]
  },
  {
   "cell_type": "markdown",
   "metadata": {},
   "source": [
    "Recordemos el algoritmo de `descenso por gradiente`:\n",
    "\n",
    "1. Calcular la salida del modelo, $\\hat{y}$.\n",
    "2. Calcular la derivada de la función de pérdida con respecto a los parámetros del modelo, $\\frac{\\partial MSE}{\\partial w}$.\n",
    "3. Actualizar los parámetros, $w \\leftarrow w - \\eta \\frac{\\partial MSE}{\\partial w}$, dónde $\\eta$ es el *learning rate*.\n",
    "4. Repetir hasta converger."
   ]
  },
  {
   "cell_type": "markdown",
   "metadata": {},
   "source": [
    "En el caso del `Perceptrón` vimos que podemos calcular la derivada de la función de pérdida con respecto a los pesos de la siguiente manera\n",
    "\n",
    "$$\\frac{\\partial MSE}{\\partial w} = \\frac{\\partial MSE}{\\partial \\hat{y}} \\frac{\\partial \\hat{y}}{\\partial w} = \\frac{2}{N} (\\hat{y} - y) x$$\n",
    "\n",
    "En el caso del MLP, esta expresión sigue siendo válida pero en este caso sólo nos sirve para encontrar la derivada de la función de pérdida con respecto a los pesos de la última capa. Para encontrar la derivada con respecto a los pesos de las capas anteriores tenemos que utilizar el algoritmo de `backpropagation`, que básicamente consiste en aplicar la regla de la cadena de la derivada hacia atrás en el MLP hasta llegar a la primera capa.\n",
    "\n",
    "$$\\frac{\\partial MSE}{\\partial w_2} = \\frac{\\partial MSE}{\\partial \\hat{y}} \\frac{\\partial \\hat{y}}{\\partial w_2} = \\frac{2}{N} (\\hat{y} - y) h_1$$\n",
    "\n",
    "$$\\frac{\\partial MSE}{\\partial w_1} = \\frac{\\partial MSE}{\\partial h_1} \\frac{\\partial h_1}{\\partial w_1} = \\frac{\\partial MSE}{\\partial \\hat{y}} \\frac{\\partial \\hat{y}}{\\partial h_1} \\frac{\\partial h_1}{\\partial w_1} = \\frac{2}{N} (\\hat{y} - y) \\mathbf{w}_2 f'_1(\\mathbf{w_1} \\cdot \\mathbf{x}) x$$\n",
    "\n",
    "Y de nuevo, si tenemos más de dos capas, simplemente repetimos el razonamiento para cada capa hasta llegar a la primera."
   ]
  },
  {
   "cell_type": "markdown",
   "metadata": {},
   "source": [
    "> 💡 Los frameworks de `redes neuronales`, como Pytorch o Tensorflow, se van guardando todas las operaciones que tienen lugar en una red neuronal en lo que se llama un `grafo computacional` de manera que cuando queremos derivar cualquier valor con respecto a los pesos de la red simplemente recorremos el grafo hacia atrás aplicando la regla de la cadena, o `backpropagation`. Esto nos permite diseñar arquitecturas de manera arbitraria sin tener que preocuparnos por calcular todas las derivadas de manera manual."
   ]
  },
  {
   "cell_type": "markdown",
   "metadata": {},
   "source": [
    "Vamos a implementar este algoritmo en `Python`"
   ]
  },
  {
   "cell_type": "code",
   "execution_count": 14,
   "metadata": {
    "ExecuteTime": {
     "end_time": "2020-08-02T14:45:09.783222Z",
     "start_time": "2020-08-02T14:45:09.747602Z"
    },
    "code_folding": []
   },
   "outputs": [],
   "source": [
    "def relu(x):\n",
    "  return np.maximum(0, x)\n",
    "\n",
    "def reluPrime(x):\n",
    "  return x > 0\n",
    "\n",
    "class MLP():\n",
    "  def __init__(self, D_in, H, D_out):\n",
    "    self.w1, self.b1 = np.random.normal(loc=0.0,\n",
    "                                  scale=np.sqrt(2/(D_in+H)),\n",
    "                                  size=(D_in, H)), np.zeros(H)\n",
    "    self.w2, self.b2 = np.random.normal(loc=0.0,\n",
    "                                  scale=np.sqrt(2/(H+D_out)),\n",
    "                                  size=(H, D_out)), np.zeros(D_out)\n",
    "    self.ws = []\n",
    "    self.loss = mse\n",
    "    self.grad_loss = grad_mse\n",
    "\n",
    "  def __call__(self, x):\n",
    "    self.h_pre = np.dot(x, self.w1) + self.b1\n",
    "    self.h = relu(self.h_pre)\n",
    "    y_hat = np.dot(self.h, self.w2) + self.b2 \n",
    "    return y_hat\n",
    "    \n",
    "  def fit(self, X, Y, epochs = 100, lr = 0.001, batch_size=None, verbose=True, log_each=1):\n",
    "    batch_size = len(X) if batch_size == None else batch_size\n",
    "    batches = len(X) // batch_size\n",
    "    l = []\n",
    "    for e in range(1,epochs+1):     \n",
    "        # Mini-Batch Gradient Descent\n",
    "        _l = []\n",
    "        for b in range(batches):\n",
    "            x = X[b*batch_size:(b+1)*batch_size]\n",
    "            y = Y[b*batch_size:(b+1)*batch_size]        \n",
    "            y_pred = self(x) \n",
    "            loss = self.loss(y, y_pred)\n",
    "            _l.append(loss)        \n",
    "            # Backprop \n",
    "            dldy = self.grad_loss(y, y_pred) \n",
    "            grad_w2 = np.dot(self.h.T, dldy)\n",
    "            grad_b2 = dldy.mean(axis=0)\n",
    "            dldh = np.dot(dldy, self.w2.T)*reluPrime(self.h_pre)      \n",
    "            grad_w1 = np.dot(x.T, dldh)\n",
    "            grad_b1 = dldh.mean(axis=0)\n",
    "            # Update (GD)\n",
    "            self.w1 = self.w1 - lr * grad_w1\n",
    "            self.b1 = self.b1 - lr * grad_b1\n",
    "            self.w2 = self.w2 - lr * grad_w2\n",
    "            self.b2 = self.b2 - lr * grad_b2\n",
    "        l.append(np.mean(_l))\n",
    "        self.ws.append((\n",
    "            self.w1.copy(),\n",
    "            self.b1.copy(),\n",
    "            self.w2.copy(),\n",
    "            self.b2.copy()\n",
    "        ))\n",
    "        if verbose and not e % log_each:\n",
    "            print(f'Epoch: {e}/{epochs}, Loss: {np.mean(l):.5f}')\n",
    "\n",
    "  def predict(self, ws, x):\n",
    "    w1, b1, w2, b2 = ws\n",
    "    h = relu(np.dot(x, w1) + b1)\n",
    "    y_hat = np.dot(h, w2) + b2\n",
    "    return y_hat"
   ]
  },
  {
   "cell_type": "code",
   "execution_count": 15,
   "metadata": {
    "ExecuteTime": {
     "end_time": "2020-08-02T14:45:11.202488Z",
     "start_time": "2020-08-02T14:45:10.301510Z"
    }
   },
   "outputs": [
    {
     "name": "stdout",
     "output_type": "stream",
     "text": [
      "Epoch: 20/100, Loss: 0.90214\n",
      "Epoch: 40/100, Loss: 0.66619\n",
      "Epoch: 60/100, Loss: 0.58681\n",
      "Epoch: 80/100, Loss: 0.54696\n",
      "Epoch: 100/100, Loss: 0.52293\n"
     ]
    }
   ],
   "source": [
    "model = MLP(D_in=1, H=3, D_out=1)\n",
    "epochs, lr = 100, 0.001\n",
    "model.fit(x, y, epochs, lr, batch_size=1, log_each=20)"
   ]
  },
  {
   "cell_type": "code",
   "execution_count": 16,
   "metadata": {
    "ExecuteTime": {
     "end_time": "2020-08-02T14:45:17.530092Z",
     "start_time": "2020-08-02T14:45:17.348078Z"
    }
   },
   "outputs": [
    {
     "data": {
      "image/png": "[encoded data removed]",
      "text/plain": [
       "<Figure size 432x288 with 1 Axes>"
      ]
     },
     "metadata": {
      "needs_background": "light"
     },
     "output_type": "display_data"
    }
   ],
   "source": [
    "x_new = np.linspace(-3, 3, 100)\n",
    "y_pred = model(x_new.reshape(-1, 1))\n",
    "    \n",
    "plt.plot(x, y, \"b.\")\n",
    "plt.plot(x_new, y_pred, \"-k\")\n",
    "plt.xlabel(\"$x_1$\", fontsize=14)\n",
    "plt.ylabel(\"$y$\", rotation=0, fontsize=14)\n",
    "plt.grid(True)\n",
    "plt.show()"
   ]
  },
  {
   "cell_type": "markdown",
   "metadata": {},
   "source": [
    "Nuestro modelo ahora es capaz de adaptarse mejor a los datos, resolviendo la limitación del `Perceptrón`. Cuantas más capas y neuronas por capas usemos, mejor será capaz el modelo de representar los datos. Esto, sin embargo, puede dar como resultado un problema de `overfitting`, algo de lo que hablaremos con detalle en futuros posts. Puedes explorar en más detalle este modelo, jugando con el número de capas, datos, función de activación, etc, en la siguiente web https://playground.tensorflow.org/"
   ]
  },
  {
   "cell_type": "markdown",
   "metadata": {},
   "source": [
    "## Resumen"
   ]
  },
  {
   "cell_type": "markdown",
   "metadata": {},
   "source": [
    "En este post hemos introducido el `Perceptrón Multicapa`, o MLP, la arquitectura más básica de `red neuronal` que combina perceptrones en capas consecutivas. Como hemos visto, si utilizamos funciones de activación no lineales en las capas internas un MLP será capaz de solventar la principal limitación del `Perceptrón`, siendo capaz de adaptarse a datos que no sigan una distribución lineal. Para entrenar un MLP hemos utilizado de nuevo el algoritmo de `descenso por gradiente`, pero en este caso, al tener más de una capa, tenemos que propagar los gradientes desde la salida hasta la primera capa con el algoritmo que se conoce como `backpropagation`. Con todo esto hemos sido capaces de entrenar un MLP para regresión no lineal, y en próximos posts mejoraremos nuestra implementación para ser capaz de llevar a cabo tareas de clasificación incluso cuando no podamos separar las clases con una línea. "
   ]
  }
 ],
 "metadata": {
  "kernelspec": {
   "display_name": "Python 3",
   "language": "python",
   "name": "python3"
  },
  "language_info": {
   "codemirror_mode": {
    "name": "ipython",
    "version": 3
   },
   "file_extension": ".py",
   "mimetype": "text/x-python",
   "name": "python",
   "nbconvert_exporter": "python",
   "pygments_lexer": "ipython3",
   "version": "3.7.3"
  },
  "toc": {
   "base_numbering": 1,
   "nav_menu": {},
   "number_sections": true,
   "sideBar": true,
   "skip_h1_title": false,
   "title_cell": "Table of Contents",
   "title_sidebar": "Contents",
   "toc_cell": false,
   "toc_position": {
    "height": "calc(100% - 180px)",
    "left": "10px",
    "top": "150px",
    "width": "233.594px"
   },
   "toc_section_display": true,
   "toc_window_display": true
  }
 },
 "nbformat": 4,
 "nbformat_minor": 4
}
